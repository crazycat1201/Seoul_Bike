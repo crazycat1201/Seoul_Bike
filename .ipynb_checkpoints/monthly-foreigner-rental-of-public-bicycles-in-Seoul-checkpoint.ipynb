{
 "cells": [
  {
   "cell_type": "code",
   "execution_count": 1,
   "metadata": {},
   "outputs": [],
   "source": [
    "import numpy as np\n",
    "import pandas as pd\n",
    "import matplotlib.pyplot as plt\n",
    "import seaborn as sns\n",
    "\n",
    "plt.style.use('seaborn')\n",
    "sns.set(font_scale=2.0)\n",
    "\n",
    "# matplotlib 의 기본 scheme 말고\n",
    "# seaborn scheme 을 세팅하고, 일일이 graph 의 font size 를 지정할 필요 없이 seaborn 의 font_scale 을 사용하면 편합니다."
   ]
  },
  {
   "cell_type": "code",
   "execution_count": 2,
   "metadata": {},
   "outputs": [
    {
     "name": "stdout",
     "output_type": "stream",
     "text": [
      "['NanumGothic']\n"
     ]
    }
   ],
   "source": [
    "import missingno as msno\n",
    "\n",
    "#ignore warnings\n",
    "import warnings\n",
    "warnings.filterwarnings('ignore')\n",
    "\n",
    "# 폰트 설정 방법 1\n",
    "import matplotlib.pyplot as plt\n",
    "\n",
    "# matplotlib 폰트설정\n",
    "# plt.rc('font', family='NanumGothicOTF') # For MacOS\n",
    "plt.rc('font', family='NanumGothic') # For Windows\n",
    "print(plt.rcParams['font.family'])\n",
    "\n",
    "%matplotlib inline\n",
    "# 브라우저에서 바로 이미지를 그린다."
   ]
  },
  {
   "cell_type": "code",
   "execution_count": 189,
   "metadata": {},
   "outputs": [],
   "source": [
    "directory = 'C:/Users/1/Dropbox/work/따릉이/서울특별시 공공자전거 외국인 대여정보(월별)/'"
   ]
  },
  {
   "cell_type": "code",
   "execution_count": 190,
   "metadata": {
    "scrolled": true
   },
   "outputs": [
    {
     "data": {
      "text/html": [
       "<div>\n",
       "<style scoped>\n",
       "    .dataframe tbody tr th:only-of-type {\n",
       "        vertical-align: middle;\n",
       "    }\n",
       "\n",
       "    .dataframe tbody tr th {\n",
       "        vertical-align: top;\n",
       "    }\n",
       "\n",
       "    .dataframe thead th {\n",
       "        text-align: right;\n",
       "    }\n",
       "</style>\n",
       "<table border=\"1\" class=\"dataframe\">\n",
       "  <thead>\n",
       "    <tr style=\"text-align: right;\">\n",
       "      <th></th>\n",
       "      <th>'대여일자'</th>\n",
       "      <th>'대여소번호'</th>\n",
       "      <th>'대여소'</th>\n",
       "      <th>'대여건수'</th>\n",
       "      <th>'반납건수'</th>\n",
       "    </tr>\n",
       "  </thead>\n",
       "  <tbody>\n",
       "    <tr>\n",
       "      <th>0</th>\n",
       "      <td>'201701'</td>\n",
       "      <td>'108'</td>\n",
       "      <td>' 서교동 사거리'</td>\n",
       "      <td>3</td>\n",
       "      <td>0</td>\n",
       "    </tr>\n",
       "    <tr>\n",
       "      <th>1</th>\n",
       "      <td>'201701'</td>\n",
       "      <td>'511'</td>\n",
       "      <td>' 서울숲역 4번 출구 옆'</td>\n",
       "      <td>2</td>\n",
       "      <td>2</td>\n",
       "    </tr>\n",
       "    <tr>\n",
       "      <th>2</th>\n",
       "      <td>'201701'</td>\n",
       "      <td>'109'</td>\n",
       "      <td>' 제일빌딩 앞'</td>\n",
       "      <td>2</td>\n",
       "      <td>2</td>\n",
       "    </tr>\n",
       "    <tr>\n",
       "      <th>3</th>\n",
       "      <td>'201701'</td>\n",
       "      <td>'514'</td>\n",
       "      <td>' 성수사거리 버스정류장 앞'</td>\n",
       "      <td>0</td>\n",
       "      <td>1</td>\n",
       "    </tr>\n",
       "    <tr>\n",
       "      <th>4</th>\n",
       "      <td>'201701'</td>\n",
       "      <td>'301'</td>\n",
       "      <td>' 경복궁역 7번출구 앞'</td>\n",
       "      <td>2</td>\n",
       "      <td>0</td>\n",
       "    </tr>\n",
       "  </tbody>\n",
       "</table>\n",
       "</div>"
      ],
      "text/plain": [
       "     '대여일자' '대여소번호'             '대여소'  '대여건수'  '반납건수'\n",
       "0  '201701'   '108'        ' 서교동 사거리'       3       0\n",
       "1  '201701'   '511'   ' 서울숲역 4번 출구 옆'       2       2\n",
       "2  '201701'   '109'         ' 제일빌딩 앞'       2       2\n",
       "3  '201701'   '514'  ' 성수사거리 버스정류장 앞'       0       1\n",
       "4  '201701'   '301'    ' 경복궁역 7번출구 앞'       2       0"
      ]
     },
     "execution_count": 190,
     "metadata": {},
     "output_type": "execute_result"
    }
   ],
   "source": [
    "df_2017 = pd.read_csv(f'{directory}서울특별시 공공자전거 외국인 대여정보(월별)_2017년.csv', encoding='cp949')\n",
    "df_2017.head()"
   ]
  },
  {
   "cell_type": "code",
   "execution_count": 191,
   "metadata": {},
   "outputs": [],
   "source": [
    "df_2017.columns = ['대여일자','대여소번호','대여소','대여건수','반납건수']"
   ]
  },
  {
   "cell_type": "markdown",
   "metadata": {},
   "source": [
    "- column 이름이 \"'대여일자'\" 이런 식으로 되어 있어서 다루기가 까다로움\n",
    "- column 이름 변경"
   ]
  },
  {
   "cell_type": "code",
   "execution_count": 192,
   "metadata": {
    "scrolled": true
   },
   "outputs": [
    {
     "data": {
      "text/html": [
       "<div>\n",
       "<style scoped>\n",
       "    .dataframe tbody tr th:only-of-type {\n",
       "        vertical-align: middle;\n",
       "    }\n",
       "\n",
       "    .dataframe tbody tr th {\n",
       "        vertical-align: top;\n",
       "    }\n",
       "\n",
       "    .dataframe thead th {\n",
       "        text-align: right;\n",
       "    }\n",
       "</style>\n",
       "<table border=\"1\" class=\"dataframe\">\n",
       "  <thead>\n",
       "    <tr style=\"text-align: right;\">\n",
       "      <th></th>\n",
       "      <th>대여일자</th>\n",
       "      <th>대여소번호</th>\n",
       "      <th>대여소</th>\n",
       "      <th>대여건수</th>\n",
       "      <th>반납건수</th>\n",
       "    </tr>\n",
       "  </thead>\n",
       "  <tbody>\n",
       "    <tr>\n",
       "      <th>0</th>\n",
       "      <td>'201701'</td>\n",
       "      <td>'108'</td>\n",
       "      <td>' 서교동 사거리'</td>\n",
       "      <td>3</td>\n",
       "      <td>0</td>\n",
       "    </tr>\n",
       "    <tr>\n",
       "      <th>1</th>\n",
       "      <td>'201701'</td>\n",
       "      <td>'511'</td>\n",
       "      <td>' 서울숲역 4번 출구 옆'</td>\n",
       "      <td>2</td>\n",
       "      <td>2</td>\n",
       "    </tr>\n",
       "    <tr>\n",
       "      <th>2</th>\n",
       "      <td>'201701'</td>\n",
       "      <td>'109'</td>\n",
       "      <td>' 제일빌딩 앞'</td>\n",
       "      <td>2</td>\n",
       "      <td>2</td>\n",
       "    </tr>\n",
       "    <tr>\n",
       "      <th>3</th>\n",
       "      <td>'201701'</td>\n",
       "      <td>'514'</td>\n",
       "      <td>' 성수사거리 버스정류장 앞'</td>\n",
       "      <td>0</td>\n",
       "      <td>1</td>\n",
       "    </tr>\n",
       "    <tr>\n",
       "      <th>4</th>\n",
       "      <td>'201701'</td>\n",
       "      <td>'301'</td>\n",
       "      <td>' 경복궁역 7번출구 앞'</td>\n",
       "      <td>2</td>\n",
       "      <td>0</td>\n",
       "    </tr>\n",
       "  </tbody>\n",
       "</table>\n",
       "</div>"
      ],
      "text/plain": [
       "       대여일자  대여소번호               대여소  대여건수  반납건수\n",
       "0  '201701'  '108'        ' 서교동 사거리'     3     0\n",
       "1  '201701'  '511'   ' 서울숲역 4번 출구 옆'     2     2\n",
       "2  '201701'  '109'         ' 제일빌딩 앞'     2     2\n",
       "3  '201701'  '514'  ' 성수사거리 버스정류장 앞'     0     1\n",
       "4  '201701'  '301'    ' 경복궁역 7번출구 앞'     2     0"
      ]
     },
     "execution_count": 192,
     "metadata": {},
     "output_type": "execute_result"
    }
   ],
   "source": [
    "df_2017.head()"
   ]
  },
  {
   "cell_type": "markdown",
   "metadata": {},
   "source": [
    "- 마찬가지로 data들이 \"'201701'\" 이런 식으로 되어 있어서 다루기가 까다로움\n",
    "- replace와 정규표현식을 사용하여 앞뒤의 ' 를 제거할 수 있을 것 같음\n",
    "- 또는 strip을 사용할 수도 있을 것 같음"
   ]
  },
  {
   "cell_type": "code",
   "execution_count": 193,
   "metadata": {
    "scrolled": true
   },
   "outputs": [
    {
     "name": "stdout",
     "output_type": "stream",
     "text": [
      "201701\n"
     ]
    }
   ],
   "source": [
    "a =  \"'201701'\"\n",
    "b = a.strip(\"'\")\n",
    "print(b)"
   ]
  },
  {
   "cell_type": "code",
   "execution_count": 194,
   "metadata": {
    "scrolled": true
   },
   "outputs": [
    {
     "data": {
      "text/html": [
       "<div>\n",
       "<style scoped>\n",
       "    .dataframe tbody tr th:only-of-type {\n",
       "        vertical-align: middle;\n",
       "    }\n",
       "\n",
       "    .dataframe tbody tr th {\n",
       "        vertical-align: top;\n",
       "    }\n",
       "\n",
       "    .dataframe thead th {\n",
       "        text-align: right;\n",
       "    }\n",
       "</style>\n",
       "<table border=\"1\" class=\"dataframe\">\n",
       "  <thead>\n",
       "    <tr style=\"text-align: right;\">\n",
       "      <th></th>\n",
       "      <th>대여일자</th>\n",
       "      <th>대여소번호</th>\n",
       "      <th>대여소</th>\n",
       "      <th>대여건수</th>\n",
       "      <th>반납건수</th>\n",
       "    </tr>\n",
       "  </thead>\n",
       "  <tbody>\n",
       "    <tr>\n",
       "      <th>0</th>\n",
       "      <td>201701</td>\n",
       "      <td>'108'</td>\n",
       "      <td>' 서교동 사거리'</td>\n",
       "      <td>3</td>\n",
       "      <td>0</td>\n",
       "    </tr>\n",
       "    <tr>\n",
       "      <th>1</th>\n",
       "      <td>201701</td>\n",
       "      <td>'511'</td>\n",
       "      <td>' 서울숲역 4번 출구 옆'</td>\n",
       "      <td>2</td>\n",
       "      <td>2</td>\n",
       "    </tr>\n",
       "    <tr>\n",
       "      <th>2</th>\n",
       "      <td>201701</td>\n",
       "      <td>'109'</td>\n",
       "      <td>' 제일빌딩 앞'</td>\n",
       "      <td>2</td>\n",
       "      <td>2</td>\n",
       "    </tr>\n",
       "    <tr>\n",
       "      <th>3</th>\n",
       "      <td>201701</td>\n",
       "      <td>'514'</td>\n",
       "      <td>' 성수사거리 버스정류장 앞'</td>\n",
       "      <td>0</td>\n",
       "      <td>1</td>\n",
       "    </tr>\n",
       "    <tr>\n",
       "      <th>4</th>\n",
       "      <td>201701</td>\n",
       "      <td>'301'</td>\n",
       "      <td>' 경복궁역 7번출구 앞'</td>\n",
       "      <td>2</td>\n",
       "      <td>0</td>\n",
       "    </tr>\n",
       "  </tbody>\n",
       "</table>\n",
       "</div>"
      ],
      "text/plain": [
       "     대여일자  대여소번호               대여소  대여건수  반납건수\n",
       "0  201701  '108'        ' 서교동 사거리'     3     0\n",
       "1  201701  '511'   ' 서울숲역 4번 출구 옆'     2     2\n",
       "2  201701  '109'         ' 제일빌딩 앞'     2     2\n",
       "3  201701  '514'  ' 성수사거리 버스정류장 앞'     0     1\n",
       "4  201701  '301'    ' 경복궁역 7번출구 앞'     2     0"
      ]
     },
     "execution_count": 194,
     "metadata": {},
     "output_type": "execute_result"
    }
   ],
   "source": [
    "df_2017['대여일자'] = df_2017['대여일자'].str.strip(\"'\")\n",
    "df_2017.head()"
   ]
  },
  {
   "cell_type": "code",
   "execution_count": 195,
   "metadata": {},
   "outputs": [
    {
     "data": {
      "text/html": [
       "<div>\n",
       "<style scoped>\n",
       "    .dataframe tbody tr th:only-of-type {\n",
       "        vertical-align: middle;\n",
       "    }\n",
       "\n",
       "    .dataframe tbody tr th {\n",
       "        vertical-align: top;\n",
       "    }\n",
       "\n",
       "    .dataframe thead th {\n",
       "        text-align: right;\n",
       "    }\n",
       "</style>\n",
       "<table border=\"1\" class=\"dataframe\">\n",
       "  <thead>\n",
       "    <tr style=\"text-align: right;\">\n",
       "      <th></th>\n",
       "      <th>대여일자</th>\n",
       "      <th>대여소번호</th>\n",
       "      <th>대여소</th>\n",
       "      <th>대여건수</th>\n",
       "      <th>반납건수</th>\n",
       "    </tr>\n",
       "  </thead>\n",
       "  <tbody>\n",
       "    <tr>\n",
       "      <th>0</th>\n",
       "      <td>201701</td>\n",
       "      <td>108</td>\n",
       "      <td>서교동 사거리</td>\n",
       "      <td>3</td>\n",
       "      <td>0</td>\n",
       "    </tr>\n",
       "    <tr>\n",
       "      <th>1</th>\n",
       "      <td>201701</td>\n",
       "      <td>511</td>\n",
       "      <td>서울숲역 4번 출구 옆</td>\n",
       "      <td>2</td>\n",
       "      <td>2</td>\n",
       "    </tr>\n",
       "    <tr>\n",
       "      <th>2</th>\n",
       "      <td>201701</td>\n",
       "      <td>109</td>\n",
       "      <td>제일빌딩 앞</td>\n",
       "      <td>2</td>\n",
       "      <td>2</td>\n",
       "    </tr>\n",
       "    <tr>\n",
       "      <th>3</th>\n",
       "      <td>201701</td>\n",
       "      <td>514</td>\n",
       "      <td>성수사거리 버스정류장 앞</td>\n",
       "      <td>0</td>\n",
       "      <td>1</td>\n",
       "    </tr>\n",
       "    <tr>\n",
       "      <th>4</th>\n",
       "      <td>201701</td>\n",
       "      <td>301</td>\n",
       "      <td>경복궁역 7번출구 앞</td>\n",
       "      <td>2</td>\n",
       "      <td>0</td>\n",
       "    </tr>\n",
       "  </tbody>\n",
       "</table>\n",
       "</div>"
      ],
      "text/plain": [
       "     대여일자 대여소번호             대여소  대여건수  반납건수\n",
       "0  201701   108         서교동 사거리     3     0\n",
       "1  201701   511    서울숲역 4번 출구 옆     2     2\n",
       "2  201701   109          제일빌딩 앞     2     2\n",
       "3  201701   514   성수사거리 버스정류장 앞     0     1\n",
       "4  201701   301     경복궁역 7번출구 앞     2     0"
      ]
     },
     "execution_count": 195,
     "metadata": {},
     "output_type": "execute_result"
    }
   ],
   "source": [
    "df_2017['대여소번호'] = df_2017['대여소번호'].str.strip(\"'\")\n",
    "df_2017['대여소'] = df_2017['대여소'].str.strip(\"'\")\n",
    "df_2017.head()"
   ]
  },
  {
   "cell_type": "markdown",
   "metadata": {},
   "source": [
    "- 마찬가지로 다른 column들도 처리"
   ]
  },
  {
   "cell_type": "code",
   "execution_count": 196,
   "metadata": {
    "scrolled": true
   },
   "outputs": [
    {
     "data": {
      "text/plain": [
       "<AxesSubplot:>"
      ]
     },
     "execution_count": 196,
     "metadata": {},
     "output_type": "execute_result"
    },
    {
     "data": {
      "image/png": "[encoded data removed]",
      "text/plain": [
       "<Figure size 576x576 with 2 Axes>"
      ]
     },
     "metadata": {
      "needs_background": "light"
     },
     "output_type": "display_data"
    }
   ],
   "source": [
    "msno.matrix(df=df_2017.iloc[:,:], figsize=(8, 8), color=(0.8, 0.5, 0.2))"
   ]
  },
  {
   "cell_type": "code",
   "execution_count": 197,
   "metadata": {
    "scrolled": true
   },
   "outputs": [
    {
     "data": {
      "text/plain": [
       "Index(['대여일자', '대여소번호', '대여소', '대여건수', '반납건수'], dtype='object')"
      ]
     },
     "execution_count": 197,
     "metadata": {},
     "output_type": "execute_result"
    }
   ],
   "source": [
    "df_2017.columns"
   ]
  },
  {
   "cell_type": "code",
   "execution_count": 198,
   "metadata": {},
   "outputs": [
    {
     "data": {
      "text/plain": [
       "대여일자     0\n",
       "대여소번호    9\n",
       "대여소      9\n",
       "대여건수     0\n",
       "반납건수     0\n",
       "dtype: int64"
      ]
     },
     "execution_count": 198,
     "metadata": {},
     "output_type": "execute_result"
    }
   ],
   "source": [
    "df_2017.isnull().sum()"
   ]
  },
  {
   "cell_type": "code",
   "execution_count": 199,
   "metadata": {
    "scrolled": true
   },
   "outputs": [
    {
     "name": "stdout",
     "output_type": "stream",
     "text": [
      "column:    대여일자   \t Percent of NaN value: 0.00\n",
      "column:   대여소번호   \t Percent of NaN value: 0.28\n",
      "column:    대여소    \t Percent of NaN value: 0.28\n",
      "column:    대여건수   \t Percent of NaN value: 0.00\n",
      "column:    반납건수   \t Percent of NaN value: 0.00\n"
     ]
    }
   ],
   "source": [
    "for col in df_2017.columns:\n",
    "    msg = 'column: {:^10}\\t Percent of NaN value: {:.2f}'.format(col, 100 * (df_2017[col].isnull().sum() / len(df_2017[col])))\n",
    "    print(msg)"
   ]
  },
  {
   "cell_type": "code",
   "execution_count": 200,
   "metadata": {
    "scrolled": true
   },
   "outputs": [
    {
     "data": {
      "text/html": [
       "<div>\n",
       "<style scoped>\n",
       "    .dataframe tbody tr th:only-of-type {\n",
       "        vertical-align: middle;\n",
       "    }\n",
       "\n",
       "    .dataframe tbody tr th {\n",
       "        vertical-align: top;\n",
       "    }\n",
       "\n",
       "    .dataframe thead th {\n",
       "        text-align: right;\n",
       "    }\n",
       "</style>\n",
       "<table border=\"1\" class=\"dataframe\">\n",
       "  <thead>\n",
       "    <tr style=\"text-align: right;\">\n",
       "      <th></th>\n",
       "      <th>대여일자</th>\n",
       "      <th>대여소번호</th>\n",
       "      <th>대여소</th>\n",
       "      <th>대여건수</th>\n",
       "      <th>반납건수</th>\n",
       "    </tr>\n",
       "  </thead>\n",
       "  <tbody>\n",
       "    <tr>\n",
       "      <th>217</th>\n",
       "      <td>201703</td>\n",
       "      <td>NaN</td>\n",
       "      <td>NaN</td>\n",
       "      <td>0</td>\n",
       "      <td>6</td>\n",
       "    </tr>\n",
       "    <tr>\n",
       "      <th>404</th>\n",
       "      <td>201704</td>\n",
       "      <td>NaN</td>\n",
       "      <td>NaN</td>\n",
       "      <td>0</td>\n",
       "      <td>2</td>\n",
       "    </tr>\n",
       "    <tr>\n",
       "      <th>641</th>\n",
       "      <td>201705</td>\n",
       "      <td>NaN</td>\n",
       "      <td>NaN</td>\n",
       "      <td>0</td>\n",
       "      <td>4</td>\n",
       "    </tr>\n",
       "    <tr>\n",
       "      <th>909</th>\n",
       "      <td>201706</td>\n",
       "      <td>NaN</td>\n",
       "      <td>NaN</td>\n",
       "      <td>0</td>\n",
       "      <td>5</td>\n",
       "    </tr>\n",
       "    <tr>\n",
       "      <th>1202</th>\n",
       "      <td>201707</td>\n",
       "      <td>NaN</td>\n",
       "      <td>NaN</td>\n",
       "      <td>0</td>\n",
       "      <td>8</td>\n",
       "    </tr>\n",
       "    <tr>\n",
       "      <th>1483</th>\n",
       "      <td>201708</td>\n",
       "      <td>NaN</td>\n",
       "      <td>NaN</td>\n",
       "      <td>0</td>\n",
       "      <td>12</td>\n",
       "    </tr>\n",
       "    <tr>\n",
       "      <th>1835</th>\n",
       "      <td>201709</td>\n",
       "      <td>NaN</td>\n",
       "      <td>NaN</td>\n",
       "      <td>0</td>\n",
       "      <td>29</td>\n",
       "    </tr>\n",
       "    <tr>\n",
       "      <th>2273</th>\n",
       "      <td>201710</td>\n",
       "      <td>NaN</td>\n",
       "      <td>NaN</td>\n",
       "      <td>0</td>\n",
       "      <td>9</td>\n",
       "    </tr>\n",
       "    <tr>\n",
       "      <th>2738</th>\n",
       "      <td>201711</td>\n",
       "      <td>NaN</td>\n",
       "      <td>NaN</td>\n",
       "      <td>0</td>\n",
       "      <td>1</td>\n",
       "    </tr>\n",
       "  </tbody>\n",
       "</table>\n",
       "</div>"
      ],
      "text/plain": [
       "        대여일자 대여소번호  대여소  대여건수  반납건수\n",
       "217   201703   NaN  NaN     0     6\n",
       "404   201704   NaN  NaN     0     2\n",
       "641   201705   NaN  NaN     0     4\n",
       "909   201706   NaN  NaN     0     5\n",
       "1202  201707   NaN  NaN     0     8\n",
       "1483  201708   NaN  NaN     0    12\n",
       "1835  201709   NaN  NaN     0    29\n",
       "2273  201710   NaN  NaN     0     9\n",
       "2738  201711   NaN  NaN     0     1"
      ]
     },
     "execution_count": 200,
     "metadata": {},
     "output_type": "execute_result"
    }
   ],
   "source": [
    "df_2017[df_2017['대여소번호'].isnull()]"
   ]
  },
  {
   "cell_type": "code",
   "execution_count": 201,
   "metadata": {
    "scrolled": true
   },
   "outputs": [
    {
     "data": {
      "text/html": [
       "<div>\n",
       "<style scoped>\n",
       "    .dataframe tbody tr th:only-of-type {\n",
       "        vertical-align: middle;\n",
       "    }\n",
       "\n",
       "    .dataframe tbody tr th {\n",
       "        vertical-align: top;\n",
       "    }\n",
       "\n",
       "    .dataframe thead th {\n",
       "        text-align: right;\n",
       "    }\n",
       "</style>\n",
       "<table border=\"1\" class=\"dataframe\">\n",
       "  <thead>\n",
       "    <tr style=\"text-align: right;\">\n",
       "      <th></th>\n",
       "      <th>대여일자</th>\n",
       "      <th>대여소번호</th>\n",
       "      <th>대여소</th>\n",
       "      <th>대여건수</th>\n",
       "      <th>반납건수</th>\n",
       "    </tr>\n",
       "  </thead>\n",
       "  <tbody>\n",
       "    <tr>\n",
       "      <th>217</th>\n",
       "      <td>201703</td>\n",
       "      <td>NaN</td>\n",
       "      <td>NaN</td>\n",
       "      <td>0</td>\n",
       "      <td>6</td>\n",
       "    </tr>\n",
       "    <tr>\n",
       "      <th>404</th>\n",
       "      <td>201704</td>\n",
       "      <td>NaN</td>\n",
       "      <td>NaN</td>\n",
       "      <td>0</td>\n",
       "      <td>2</td>\n",
       "    </tr>\n",
       "    <tr>\n",
       "      <th>641</th>\n",
       "      <td>201705</td>\n",
       "      <td>NaN</td>\n",
       "      <td>NaN</td>\n",
       "      <td>0</td>\n",
       "      <td>4</td>\n",
       "    </tr>\n",
       "    <tr>\n",
       "      <th>909</th>\n",
       "      <td>201706</td>\n",
       "      <td>NaN</td>\n",
       "      <td>NaN</td>\n",
       "      <td>0</td>\n",
       "      <td>5</td>\n",
       "    </tr>\n",
       "    <tr>\n",
       "      <th>1202</th>\n",
       "      <td>201707</td>\n",
       "      <td>NaN</td>\n",
       "      <td>NaN</td>\n",
       "      <td>0</td>\n",
       "      <td>8</td>\n",
       "    </tr>\n",
       "    <tr>\n",
       "      <th>1483</th>\n",
       "      <td>201708</td>\n",
       "      <td>NaN</td>\n",
       "      <td>NaN</td>\n",
       "      <td>0</td>\n",
       "      <td>12</td>\n",
       "    </tr>\n",
       "    <tr>\n",
       "      <th>1835</th>\n",
       "      <td>201709</td>\n",
       "      <td>NaN</td>\n",
       "      <td>NaN</td>\n",
       "      <td>0</td>\n",
       "      <td>29</td>\n",
       "    </tr>\n",
       "    <tr>\n",
       "      <th>2273</th>\n",
       "      <td>201710</td>\n",
       "      <td>NaN</td>\n",
       "      <td>NaN</td>\n",
       "      <td>0</td>\n",
       "      <td>9</td>\n",
       "    </tr>\n",
       "    <tr>\n",
       "      <th>2738</th>\n",
       "      <td>201711</td>\n",
       "      <td>NaN</td>\n",
       "      <td>NaN</td>\n",
       "      <td>0</td>\n",
       "      <td>1</td>\n",
       "    </tr>\n",
       "  </tbody>\n",
       "</table>\n",
       "</div>"
      ],
      "text/plain": [
       "        대여일자 대여소번호  대여소  대여건수  반납건수\n",
       "217   201703   NaN  NaN     0     6\n",
       "404   201704   NaN  NaN     0     2\n",
       "641   201705   NaN  NaN     0     4\n",
       "909   201706   NaN  NaN     0     5\n",
       "1202  201707   NaN  NaN     0     8\n",
       "1483  201708   NaN  NaN     0    12\n",
       "1835  201709   NaN  NaN     0    29\n",
       "2273  201710   NaN  NaN     0     9\n",
       "2738  201711   NaN  NaN     0     1"
      ]
     },
     "execution_count": 201,
     "metadata": {},
     "output_type": "execute_result"
    }
   ],
   "source": [
    "df_2017[df_2017['대여소'].isnull()]"
   ]
  },
  {
   "cell_type": "code",
   "execution_count": 202,
   "metadata": {
    "scrolled": true
   },
   "outputs": [
    {
     "data": {
      "text/html": [
       "<div>\n",
       "<style scoped>\n",
       "    .dataframe tbody tr th:only-of-type {\n",
       "        vertical-align: middle;\n",
       "    }\n",
       "\n",
       "    .dataframe tbody tr th {\n",
       "        vertical-align: top;\n",
       "    }\n",
       "\n",
       "    .dataframe thead th {\n",
       "        text-align: right;\n",
       "    }\n",
       "</style>\n",
       "<table border=\"1\" class=\"dataframe\">\n",
       "  <thead>\n",
       "    <tr style=\"text-align: right;\">\n",
       "      <th></th>\n",
       "      <th>대여일자</th>\n",
       "      <th>대여소번호</th>\n",
       "      <th>대여소</th>\n",
       "      <th>대여건수</th>\n",
       "      <th>반납건수</th>\n",
       "    </tr>\n",
       "  </thead>\n",
       "  <tbody>\n",
       "    <tr>\n",
       "      <th>217</th>\n",
       "      <td>201703</td>\n",
       "      <td>NaN</td>\n",
       "      <td>NaN</td>\n",
       "      <td>0</td>\n",
       "      <td>6</td>\n",
       "    </tr>\n",
       "    <tr>\n",
       "      <th>404</th>\n",
       "      <td>201704</td>\n",
       "      <td>NaN</td>\n",
       "      <td>NaN</td>\n",
       "      <td>0</td>\n",
       "      <td>2</td>\n",
       "    </tr>\n",
       "    <tr>\n",
       "      <th>641</th>\n",
       "      <td>201705</td>\n",
       "      <td>NaN</td>\n",
       "      <td>NaN</td>\n",
       "      <td>0</td>\n",
       "      <td>4</td>\n",
       "    </tr>\n",
       "    <tr>\n",
       "      <th>909</th>\n",
       "      <td>201706</td>\n",
       "      <td>NaN</td>\n",
       "      <td>NaN</td>\n",
       "      <td>0</td>\n",
       "      <td>5</td>\n",
       "    </tr>\n",
       "    <tr>\n",
       "      <th>1202</th>\n",
       "      <td>201707</td>\n",
       "      <td>NaN</td>\n",
       "      <td>NaN</td>\n",
       "      <td>0</td>\n",
       "      <td>8</td>\n",
       "    </tr>\n",
       "    <tr>\n",
       "      <th>1483</th>\n",
       "      <td>201708</td>\n",
       "      <td>NaN</td>\n",
       "      <td>NaN</td>\n",
       "      <td>0</td>\n",
       "      <td>12</td>\n",
       "    </tr>\n",
       "    <tr>\n",
       "      <th>1835</th>\n",
       "      <td>201709</td>\n",
       "      <td>NaN</td>\n",
       "      <td>NaN</td>\n",
       "      <td>0</td>\n",
       "      <td>29</td>\n",
       "    </tr>\n",
       "    <tr>\n",
       "      <th>2273</th>\n",
       "      <td>201710</td>\n",
       "      <td>NaN</td>\n",
       "      <td>NaN</td>\n",
       "      <td>0</td>\n",
       "      <td>9</td>\n",
       "    </tr>\n",
       "    <tr>\n",
       "      <th>2738</th>\n",
       "      <td>201711</td>\n",
       "      <td>NaN</td>\n",
       "      <td>NaN</td>\n",
       "      <td>0</td>\n",
       "      <td>1</td>\n",
       "    </tr>\n",
       "  </tbody>\n",
       "</table>\n",
       "</div>"
      ],
      "text/plain": [
       "        대여일자 대여소번호  대여소  대여건수  반납건수\n",
       "217   201703   NaN  NaN     0     6\n",
       "404   201704   NaN  NaN     0     2\n",
       "641   201705   NaN  NaN     0     4\n",
       "909   201706   NaN  NaN     0     5\n",
       "1202  201707   NaN  NaN     0     8\n",
       "1483  201708   NaN  NaN     0    12\n",
       "1835  201709   NaN  NaN     0    29\n",
       "2273  201710   NaN  NaN     0     9\n",
       "2738  201711   NaN  NaN     0     1"
      ]
     },
     "execution_count": 202,
     "metadata": {},
     "output_type": "execute_result"
    }
   ],
   "source": [
    "df_2017[df_2017['대여소번호'].isnull() & df_2017['대여소'].isnull()]"
   ]
  },
  {
   "cell_type": "markdown",
   "metadata": {},
   "source": [
    "- 결측치가 대여소번호, 대여소에 공통적으로 나타남\n",
    "- 외국인들의 따릉이 대여건수가 연도별로 어떻게 변화해왔는지 확인하고자 하기 때문에, 해당 결측치가 큰 문제를 주지 못함"
   ]
  },
  {
   "cell_type": "code",
   "execution_count": 203,
   "metadata": {
    "scrolled": false
   },
   "outputs": [
    {
     "data": {
      "text/plain": [
       "(3206, 5)"
      ]
     },
     "execution_count": 203,
     "metadata": {},
     "output_type": "execute_result"
    }
   ],
   "source": [
    "df_2017.shape"
   ]
  },
  {
   "cell_type": "code",
   "execution_count": 204,
   "metadata": {
    "scrolled": true
   },
   "outputs": [
    {
     "data": {
      "text/plain": [
       "array(['201701', '201702', '201703', '201704', '201705', '201706',\n",
       "       '201707', '201708', '201709', '201710', '201711', '201712'],\n",
       "      dtype=object)"
      ]
     },
     "execution_count": 204,
     "metadata": {},
     "output_type": "execute_result"
    }
   ],
   "source": [
    "df_2017['대여일자'].unique()"
   ]
  },
  {
   "cell_type": "code",
   "execution_count": 205,
   "metadata": {
    "scrolled": false
   },
   "outputs": [
    {
     "data": {
      "text/plain": [
       "<AxesSubplot:xlabel='대여일자'>"
      ]
     },
     "execution_count": 205,
     "metadata": {},
     "output_type": "execute_result"
    },
    {
     "data": {
      "image/png": "[encoded data removed]",
      "text/plain": [
       "<Figure size 504x504 with 1 Axes>"
      ]
     },
     "metadata": {
      "needs_background": "light"
     },
     "output_type": "display_data"
    }
   ],
   "source": [
    "figure, ax = plt.subplots(1, 1, figsize=(7, 7))\n",
    "df_2017[['대여일자','대여건수']].groupby(['대여일자'], as_index=True).sum().sort_values(by='대여일자', ascending=True).plot.bar(ax=ax)"
   ]
  },
  {
   "cell_type": "markdown",
   "metadata": {},
   "source": [
    "- 날씨가 추운 겨울에는 내외국인에 관계없이 따릉이 이용이 상대적으로 적을 것을 예상할 수 있다\n",
    "- 한여름에는 따릉이 이용이 상대적으로 적음\n",
    "- 자전거 타기에 적당한 날씨인 봄과 가을에 외국인의 따릉이 대여건수가 많음\n",
    "- 외국인의 따릉이 대여건수가 시간에 따라 증가하는 추세를 보이는지 확인하기 위해서는 2018년, 2019년 등 이후의 데이터를 추가 분석해봐야 함"
   ]
  },
  {
   "cell_type": "code",
   "execution_count": 206,
   "metadata": {
    "scrolled": true
   },
   "outputs": [
    {
     "data": {
      "text/html": [
       "<div>\n",
       "<style scoped>\n",
       "    .dataframe tbody tr th:only-of-type {\n",
       "        vertical-align: middle;\n",
       "    }\n",
       "\n",
       "    .dataframe tbody tr th {\n",
       "        vertical-align: top;\n",
       "    }\n",
       "\n",
       "    .dataframe thead th {\n",
       "        text-align: right;\n",
       "    }\n",
       "</style>\n",
       "<table border=\"1\" class=\"dataframe\">\n",
       "  <thead>\n",
       "    <tr style=\"text-align: right;\">\n",
       "      <th></th>\n",
       "      <th>'대여일자'</th>\n",
       "      <th>'대여소번호'</th>\n",
       "      <th>'대여소'</th>\n",
       "      <th>'대여건수'</th>\n",
       "      <th>'반납건수'</th>\n",
       "    </tr>\n",
       "  </thead>\n",
       "  <tbody>\n",
       "    <tr>\n",
       "      <th>0</th>\n",
       "      <td>'201801'</td>\n",
       "      <td>'108'</td>\n",
       "      <td>' 서교동 사거리'</td>\n",
       "      <td>2</td>\n",
       "      <td>0</td>\n",
       "    </tr>\n",
       "    <tr>\n",
       "      <th>1</th>\n",
       "      <td>'201801'</td>\n",
       "      <td>'1041'</td>\n",
       "      <td>' 묘곡초등학교'</td>\n",
       "      <td>1</td>\n",
       "      <td>1</td>\n",
       "    </tr>\n",
       "    <tr>\n",
       "      <th>2</th>\n",
       "      <td>'201801'</td>\n",
       "      <td>'510'</td>\n",
       "      <td>' 서울숲 남문 버스정류소 옆'</td>\n",
       "      <td>3</td>\n",
       "      <td>0</td>\n",
       "    </tr>\n",
       "    <tr>\n",
       "      <th>3</th>\n",
       "      <td>'201801'</td>\n",
       "      <td>'515'</td>\n",
       "      <td>' 광양중학교 앞'</td>\n",
       "      <td>1</td>\n",
       "      <td>1</td>\n",
       "    </tr>\n",
       "    <tr>\n",
       "      <th>4</th>\n",
       "      <td>'201801'</td>\n",
       "      <td>'300'</td>\n",
       "      <td>' 정동사거리'</td>\n",
       "      <td>0</td>\n",
       "      <td>1</td>\n",
       "    </tr>\n",
       "  </tbody>\n",
       "</table>\n",
       "</div>"
      ],
      "text/plain": [
       "     '대여일자' '대여소번호'              '대여소'  '대여건수'  '반납건수'\n",
       "0  '201801'   '108'         ' 서교동 사거리'       2       0\n",
       "1  '201801'  '1041'          ' 묘곡초등학교'       1       1\n",
       "2  '201801'   '510'  ' 서울숲 남문 버스정류소 옆'       3       0\n",
       "3  '201801'   '515'         ' 광양중학교 앞'       1       1\n",
       "4  '201801'   '300'           ' 정동사거리'       0       1"
      ]
     },
     "execution_count": 206,
     "metadata": {},
     "output_type": "execute_result"
    }
   ],
   "source": [
    "df_2018 = pd.read_csv(f'{directory}서울특별시 공공자전거 외국인 대여정보(월별)_2018년.csv', encoding='cp949')\n",
    "df_2018.head()"
   ]
  },
  {
   "cell_type": "code",
   "execution_count": 207,
   "metadata": {},
   "outputs": [
    {
     "data": {
      "text/html": [
       "<div>\n",
       "<style scoped>\n",
       "    .dataframe tbody tr th:only-of-type {\n",
       "        vertical-align: middle;\n",
       "    }\n",
       "\n",
       "    .dataframe tbody tr th {\n",
       "        vertical-align: top;\n",
       "    }\n",
       "\n",
       "    .dataframe thead th {\n",
       "        text-align: right;\n",
       "    }\n",
       "</style>\n",
       "<table border=\"1\" class=\"dataframe\">\n",
       "  <thead>\n",
       "    <tr style=\"text-align: right;\">\n",
       "      <th></th>\n",
       "      <th>대여일자</th>\n",
       "      <th>대여소번호</th>\n",
       "      <th>대여소</th>\n",
       "      <th>대여건수</th>\n",
       "      <th>반납건수</th>\n",
       "    </tr>\n",
       "  </thead>\n",
       "  <tbody>\n",
       "    <tr>\n",
       "      <th>0</th>\n",
       "      <td>'201801'</td>\n",
       "      <td>'108'</td>\n",
       "      <td>' 서교동 사거리'</td>\n",
       "      <td>2</td>\n",
       "      <td>0</td>\n",
       "    </tr>\n",
       "    <tr>\n",
       "      <th>1</th>\n",
       "      <td>'201801'</td>\n",
       "      <td>'1041'</td>\n",
       "      <td>' 묘곡초등학교'</td>\n",
       "      <td>1</td>\n",
       "      <td>1</td>\n",
       "    </tr>\n",
       "    <tr>\n",
       "      <th>2</th>\n",
       "      <td>'201801'</td>\n",
       "      <td>'510'</td>\n",
       "      <td>' 서울숲 남문 버스정류소 옆'</td>\n",
       "      <td>3</td>\n",
       "      <td>0</td>\n",
       "    </tr>\n",
       "    <tr>\n",
       "      <th>3</th>\n",
       "      <td>'201801'</td>\n",
       "      <td>'515'</td>\n",
       "      <td>' 광양중학교 앞'</td>\n",
       "      <td>1</td>\n",
       "      <td>1</td>\n",
       "    </tr>\n",
       "    <tr>\n",
       "      <th>4</th>\n",
       "      <td>'201801'</td>\n",
       "      <td>'300'</td>\n",
       "      <td>' 정동사거리'</td>\n",
       "      <td>0</td>\n",
       "      <td>1</td>\n",
       "    </tr>\n",
       "  </tbody>\n",
       "</table>\n",
       "</div>"
      ],
      "text/plain": [
       "       대여일자   대여소번호                대여소  대여건수  반납건수\n",
       "0  '201801'   '108'         ' 서교동 사거리'     2     0\n",
       "1  '201801'  '1041'          ' 묘곡초등학교'     1     1\n",
       "2  '201801'   '510'  ' 서울숲 남문 버스정류소 옆'     3     0\n",
       "3  '201801'   '515'         ' 광양중학교 앞'     1     1\n",
       "4  '201801'   '300'           ' 정동사거리'     0     1"
      ]
     },
     "execution_count": 207,
     "metadata": {},
     "output_type": "execute_result"
    }
   ],
   "source": [
    "df_2018.columns = ['대여일자','대여소번호','대여소','대여건수','반납건수']\n",
    "df_2018.head()"
   ]
  },
  {
   "cell_type": "code",
   "execution_count": 208,
   "metadata": {
    "scrolled": false
   },
   "outputs": [
    {
     "data": {
      "text/html": [
       "<div>\n",
       "<style scoped>\n",
       "    .dataframe tbody tr th:only-of-type {\n",
       "        vertical-align: middle;\n",
       "    }\n",
       "\n",
       "    .dataframe tbody tr th {\n",
       "        vertical-align: top;\n",
       "    }\n",
       "\n",
       "    .dataframe thead th {\n",
       "        text-align: right;\n",
       "    }\n",
       "</style>\n",
       "<table border=\"1\" class=\"dataframe\">\n",
       "  <thead>\n",
       "    <tr style=\"text-align: right;\">\n",
       "      <th></th>\n",
       "      <th>대여일자</th>\n",
       "      <th>대여소번호</th>\n",
       "      <th>대여소</th>\n",
       "      <th>대여건수</th>\n",
       "      <th>반납건수</th>\n",
       "    </tr>\n",
       "  </thead>\n",
       "  <tbody>\n",
       "    <tr>\n",
       "      <th>0</th>\n",
       "      <td>201801</td>\n",
       "      <td>108</td>\n",
       "      <td>서교동 사거리</td>\n",
       "      <td>2</td>\n",
       "      <td>0</td>\n",
       "    </tr>\n",
       "    <tr>\n",
       "      <th>1</th>\n",
       "      <td>201801</td>\n",
       "      <td>1041</td>\n",
       "      <td>묘곡초등학교</td>\n",
       "      <td>1</td>\n",
       "      <td>1</td>\n",
       "    </tr>\n",
       "    <tr>\n",
       "      <th>2</th>\n",
       "      <td>201801</td>\n",
       "      <td>510</td>\n",
       "      <td>서울숲 남문 버스정류소 옆</td>\n",
       "      <td>3</td>\n",
       "      <td>0</td>\n",
       "    </tr>\n",
       "    <tr>\n",
       "      <th>3</th>\n",
       "      <td>201801</td>\n",
       "      <td>515</td>\n",
       "      <td>광양중학교 앞</td>\n",
       "      <td>1</td>\n",
       "      <td>1</td>\n",
       "    </tr>\n",
       "    <tr>\n",
       "      <th>4</th>\n",
       "      <td>201801</td>\n",
       "      <td>300</td>\n",
       "      <td>정동사거리</td>\n",
       "      <td>0</td>\n",
       "      <td>1</td>\n",
       "    </tr>\n",
       "  </tbody>\n",
       "</table>\n",
       "</div>"
      ],
      "text/plain": [
       "     대여일자 대여소번호              대여소  대여건수  반납건수\n",
       "0  201801   108          서교동 사거리     2     0\n",
       "1  201801  1041           묘곡초등학교     1     1\n",
       "2  201801   510   서울숲 남문 버스정류소 옆     3     0\n",
       "3  201801   515          광양중학교 앞     1     1\n",
       "4  201801   300            정동사거리     0     1"
      ]
     },
     "execution_count": 208,
     "metadata": {},
     "output_type": "execute_result"
    }
   ],
   "source": [
    "df_2018['대여일자'] = df_2018['대여일자'].str.strip(\"'\")\n",
    "df_2018['대여소번호'] = df_2018['대여소번호'].str.strip(\"'\")\n",
    "df_2018['대여소'] = df_2018['대여소'].str.strip(\"'\")\n",
    "df_2018.head()"
   ]
  },
  {
   "cell_type": "code",
   "execution_count": 209,
   "metadata": {
    "scrolled": true
   },
   "outputs": [
    {
     "data": {
      "text/plain": [
       "<AxesSubplot:>"
      ]
     },
     "execution_count": 209,
     "metadata": {},
     "output_type": "execute_result"
    },
    {
     "data": {
      "image/png": "[encoded data removed]",
      "text/plain": [
       "<Figure size 576x576 with 2 Axes>"
      ]
     },
     "metadata": {
      "needs_background": "light"
     },
     "output_type": "display_data"
    }
   ],
   "source": [
    "msno.matrix(df=df_2018.iloc[:,:], figsize=(8, 8), color=(0.8, 0.5, 0.2))"
   ]
  },
  {
   "cell_type": "code",
   "execution_count": 210,
   "metadata": {
    "scrolled": true
   },
   "outputs": [
    {
     "data": {
      "text/plain": [
       "대여일자     0\n",
       "대여소번호    9\n",
       "대여소      9\n",
       "대여건수     0\n",
       "반납건수     0\n",
       "dtype: int64"
      ]
     },
     "execution_count": 210,
     "metadata": {},
     "output_type": "execute_result"
    }
   ],
   "source": [
    "df_2017.isnull().sum()"
   ]
  },
  {
   "cell_type": "code",
   "execution_count": 211,
   "metadata": {
    "scrolled": false
   },
   "outputs": [
    {
     "name": "stdout",
     "output_type": "stream",
     "text": [
      "column:    대여일자   \t Percent of NaN value: 0.00\n",
      "column:   대여소번호   \t Percent of NaN value: 0.28\n",
      "column:    대여소    \t Percent of NaN value: 0.28\n",
      "column:    대여건수   \t Percent of NaN value: 0.00\n",
      "column:    반납건수   \t Percent of NaN value: 0.00\n"
     ]
    }
   ],
   "source": [
    "for col in df_2017.columns:\n",
    "    msg = 'column: {:^10}\\t Percent of NaN value: {:.2f}'.format(col, 100 * (df_2017[col].isnull().sum() / len(df_2017[col])))\n",
    "    print(msg)"
   ]
  },
  {
   "cell_type": "code",
   "execution_count": 212,
   "metadata": {},
   "outputs": [
    {
     "data": {
      "text/html": [
       "<div>\n",
       "<style scoped>\n",
       "    .dataframe tbody tr th:only-of-type {\n",
       "        vertical-align: middle;\n",
       "    }\n",
       "\n",
       "    .dataframe tbody tr th {\n",
       "        vertical-align: top;\n",
       "    }\n",
       "\n",
       "    .dataframe thead th {\n",
       "        text-align: right;\n",
       "    }\n",
       "</style>\n",
       "<table border=\"1\" class=\"dataframe\">\n",
       "  <thead>\n",
       "    <tr style=\"text-align: right;\">\n",
       "      <th></th>\n",
       "      <th>대여일자</th>\n",
       "      <th>대여소번호</th>\n",
       "      <th>대여소</th>\n",
       "      <th>대여건수</th>\n",
       "      <th>반납건수</th>\n",
       "    </tr>\n",
       "  </thead>\n",
       "  <tbody>\n",
       "    <tr>\n",
       "      <th>217</th>\n",
       "      <td>201703</td>\n",
       "      <td>NaN</td>\n",
       "      <td>NaN</td>\n",
       "      <td>0</td>\n",
       "      <td>6</td>\n",
       "    </tr>\n",
       "    <tr>\n",
       "      <th>404</th>\n",
       "      <td>201704</td>\n",
       "      <td>NaN</td>\n",
       "      <td>NaN</td>\n",
       "      <td>0</td>\n",
       "      <td>2</td>\n",
       "    </tr>\n",
       "    <tr>\n",
       "      <th>641</th>\n",
       "      <td>201705</td>\n",
       "      <td>NaN</td>\n",
       "      <td>NaN</td>\n",
       "      <td>0</td>\n",
       "      <td>4</td>\n",
       "    </tr>\n",
       "    <tr>\n",
       "      <th>909</th>\n",
       "      <td>201706</td>\n",
       "      <td>NaN</td>\n",
       "      <td>NaN</td>\n",
       "      <td>0</td>\n",
       "      <td>5</td>\n",
       "    </tr>\n",
       "    <tr>\n",
       "      <th>1202</th>\n",
       "      <td>201707</td>\n",
       "      <td>NaN</td>\n",
       "      <td>NaN</td>\n",
       "      <td>0</td>\n",
       "      <td>8</td>\n",
       "    </tr>\n",
       "    <tr>\n",
       "      <th>1483</th>\n",
       "      <td>201708</td>\n",
       "      <td>NaN</td>\n",
       "      <td>NaN</td>\n",
       "      <td>0</td>\n",
       "      <td>12</td>\n",
       "    </tr>\n",
       "    <tr>\n",
       "      <th>1835</th>\n",
       "      <td>201709</td>\n",
       "      <td>NaN</td>\n",
       "      <td>NaN</td>\n",
       "      <td>0</td>\n",
       "      <td>29</td>\n",
       "    </tr>\n",
       "    <tr>\n",
       "      <th>2273</th>\n",
       "      <td>201710</td>\n",
       "      <td>NaN</td>\n",
       "      <td>NaN</td>\n",
       "      <td>0</td>\n",
       "      <td>9</td>\n",
       "    </tr>\n",
       "    <tr>\n",
       "      <th>2738</th>\n",
       "      <td>201711</td>\n",
       "      <td>NaN</td>\n",
       "      <td>NaN</td>\n",
       "      <td>0</td>\n",
       "      <td>1</td>\n",
       "    </tr>\n",
       "  </tbody>\n",
       "</table>\n",
       "</div>"
      ],
      "text/plain": [
       "        대여일자 대여소번호  대여소  대여건수  반납건수\n",
       "217   201703   NaN  NaN     0     6\n",
       "404   201704   NaN  NaN     0     2\n",
       "641   201705   NaN  NaN     0     4\n",
       "909   201706   NaN  NaN     0     5\n",
       "1202  201707   NaN  NaN     0     8\n",
       "1483  201708   NaN  NaN     0    12\n",
       "1835  201709   NaN  NaN     0    29\n",
       "2273  201710   NaN  NaN     0     9\n",
       "2738  201711   NaN  NaN     0     1"
      ]
     },
     "execution_count": 212,
     "metadata": {},
     "output_type": "execute_result"
    }
   ],
   "source": [
    "df_2017[df_2017['대여소번호'].isnull() | df_2017['대여소'].isnull()]"
   ]
  },
  {
   "cell_type": "code",
   "execution_count": 213,
   "metadata": {
    "scrolled": false
   },
   "outputs": [
    {
     "data": {
      "text/plain": [
       "<AxesSubplot:xlabel='대여일자'>"
      ]
     },
     "execution_count": 213,
     "metadata": {},
     "output_type": "execute_result"
    },
    {
     "data": {
      "image/png": "[encoded data removed]",
      "text/plain": [
       "<Figure size 504x504 with 1 Axes>"
      ]
     },
     "metadata": {
      "needs_background": "light"
     },
     "output_type": "display_data"
    }
   ],
   "source": [
    "figure, ax = plt.subplots(1, 1, figsize=(7, 7))\n",
    "df_2018[['대여일자','대여건수']].groupby(['대여일자'], as_index=True).sum().sort_values(by='대여일자', ascending=True).plot.bar(ax=ax)"
   ]
  },
  {
   "cell_type": "code",
   "execution_count": 214,
   "metadata": {
    "scrolled": true
   },
   "outputs": [
    {
     "data": {
      "text/html": [
       "<div>\n",
       "<style scoped>\n",
       "    .dataframe tbody tr th:only-of-type {\n",
       "        vertical-align: middle;\n",
       "    }\n",
       "\n",
       "    .dataframe tbody tr th {\n",
       "        vertical-align: top;\n",
       "    }\n",
       "\n",
       "    .dataframe thead th {\n",
       "        text-align: right;\n",
       "    }\n",
       "</style>\n",
       "<table border=\"1\" class=\"dataframe\">\n",
       "  <thead>\n",
       "    <tr style=\"text-align: right;\">\n",
       "      <th></th>\n",
       "      <th>일시</th>\n",
       "      <th>대여소</th>\n",
       "      <th>대여건수</th>\n",
       "      <th>반납건수</th>\n",
       "    </tr>\n",
       "  </thead>\n",
       "  <tbody>\n",
       "    <tr>\n",
       "      <th>0</th>\n",
       "      <td>201901</td>\n",
       "      <td>1009. 천호역4번출구(현대백화점)</td>\n",
       "      <td>1</td>\n",
       "      <td>1</td>\n",
       "    </tr>\n",
       "    <tr>\n",
       "      <th>1</th>\n",
       "      <td>201901</td>\n",
       "      <td>102. 망원역 1번출구 앞</td>\n",
       "      <td>0</td>\n",
       "      <td>1</td>\n",
       "    </tr>\n",
       "    <tr>\n",
       "      <th>2</th>\n",
       "      <td>201901</td>\n",
       "      <td>1029. 롯데 시네마</td>\n",
       "      <td>1</td>\n",
       "      <td>1</td>\n",
       "    </tr>\n",
       "    <tr>\n",
       "      <th>3</th>\n",
       "      <td>201901</td>\n",
       "      <td>103. 망원역 2번출구 앞</td>\n",
       "      <td>1</td>\n",
       "      <td>0</td>\n",
       "    </tr>\n",
       "    <tr>\n",
       "      <th>4</th>\n",
       "      <td>201901</td>\n",
       "      <td>105. 합정역 5번출구 앞</td>\n",
       "      <td>1</td>\n",
       "      <td>1</td>\n",
       "    </tr>\n",
       "  </tbody>\n",
       "</table>\n",
       "</div>"
      ],
      "text/plain": [
       "       일시                   대여소  대여건수  반납건수\n",
       "0  201901  1009. 천호역4번출구(현대백화점)     1     1\n",
       "1  201901       102. 망원역 1번출구 앞     0     1\n",
       "2  201901          1029. 롯데 시네마     1     1\n",
       "3  201901       103. 망원역 2번출구 앞     1     0\n",
       "4  201901       105. 합정역 5번출구 앞     1     1"
      ]
     },
     "execution_count": 214,
     "metadata": {},
     "output_type": "execute_result"
    }
   ],
   "source": [
    "df_2019 = pd.read_excel(f'{directory}서울특별시 공공자전거 외국인 대여정보(월별)_201901_201911.xlsx')\n",
    "df_2019.head()"
   ]
  },
  {
   "cell_type": "code",
   "execution_count": 215,
   "metadata": {},
   "outputs": [
    {
     "data": {
      "text/html": [
       "<div>\n",
       "<style scoped>\n",
       "    .dataframe tbody tr th:only-of-type {\n",
       "        vertical-align: middle;\n",
       "    }\n",
       "\n",
       "    .dataframe tbody tr th {\n",
       "        vertical-align: top;\n",
       "    }\n",
       "\n",
       "    .dataframe thead th {\n",
       "        text-align: right;\n",
       "    }\n",
       "</style>\n",
       "<table border=\"1\" class=\"dataframe\">\n",
       "  <thead>\n",
       "    <tr style=\"text-align: right;\">\n",
       "      <th></th>\n",
       "      <th>대여일자</th>\n",
       "      <th>대여소</th>\n",
       "      <th>대여건수</th>\n",
       "      <th>반납건수</th>\n",
       "    </tr>\n",
       "  </thead>\n",
       "  <tbody>\n",
       "    <tr>\n",
       "      <th>0</th>\n",
       "      <td>201901</td>\n",
       "      <td>1009. 천호역4번출구(현대백화점)</td>\n",
       "      <td>1</td>\n",
       "      <td>1</td>\n",
       "    </tr>\n",
       "    <tr>\n",
       "      <th>1</th>\n",
       "      <td>201901</td>\n",
       "      <td>102. 망원역 1번출구 앞</td>\n",
       "      <td>0</td>\n",
       "      <td>1</td>\n",
       "    </tr>\n",
       "    <tr>\n",
       "      <th>2</th>\n",
       "      <td>201901</td>\n",
       "      <td>1029. 롯데 시네마</td>\n",
       "      <td>1</td>\n",
       "      <td>1</td>\n",
       "    </tr>\n",
       "    <tr>\n",
       "      <th>3</th>\n",
       "      <td>201901</td>\n",
       "      <td>103. 망원역 2번출구 앞</td>\n",
       "      <td>1</td>\n",
       "      <td>0</td>\n",
       "    </tr>\n",
       "    <tr>\n",
       "      <th>4</th>\n",
       "      <td>201901</td>\n",
       "      <td>105. 합정역 5번출구 앞</td>\n",
       "      <td>1</td>\n",
       "      <td>1</td>\n",
       "    </tr>\n",
       "  </tbody>\n",
       "</table>\n",
       "</div>"
      ],
      "text/plain": [
       "     대여일자                   대여소  대여건수  반납건수\n",
       "0  201901  1009. 천호역4번출구(현대백화점)     1     1\n",
       "1  201901       102. 망원역 1번출구 앞     0     1\n",
       "2  201901          1029. 롯데 시네마     1     1\n",
       "3  201901       103. 망원역 2번출구 앞     1     0\n",
       "4  201901       105. 합정역 5번출구 앞     1     1"
      ]
     },
     "execution_count": 215,
     "metadata": {},
     "output_type": "execute_result"
    }
   ],
   "source": [
    "df_2019.rename(columns={'일시':'대여일자'}, inplace = True)\n",
    "df_2019.head()"
   ]
  },
  {
   "cell_type": "code",
   "execution_count": 216,
   "metadata": {},
   "outputs": [
    {
     "data": {
      "text/plain": [
       "<AxesSubplot:>"
      ]
     },
     "execution_count": 216,
     "metadata": {},
     "output_type": "execute_result"
    },
    {
     "data": {
      "image/png": "[encoded data removed]",
      "text/plain": [
       "<Figure size 576x576 with 2 Axes>"
      ]
     },
     "metadata": {
      "needs_background": "light"
     },
     "output_type": "display_data"
    }
   ],
   "source": [
    "msno.matrix(df=df_2019.iloc[:,:], figsize=(8, 8), color=(0.8, 0.5, 0.2))"
   ]
  },
  {
   "cell_type": "code",
   "execution_count": 217,
   "metadata": {
    "scrolled": false
   },
   "outputs": [
    {
     "name": "stdout",
     "output_type": "stream",
     "text": [
      "column:    대여일자   \t Percent of NaN value: 0.00\n",
      "column:    대여소    \t Percent of NaN value: 0.00\n",
      "column:    대여건수   \t Percent of NaN value: 0.00\n",
      "column:    반납건수   \t Percent of NaN value: 0.00\n"
     ]
    }
   ],
   "source": [
    "for col in df_2019.columns:\n",
    "    msg = 'column: {:^10}\\t Percent of NaN value: {:.2f}'.format(col, 100 * (df_2019[col].isnull().sum() / len(df_2019[col])))\n",
    "    print(msg)"
   ]
  },
  {
   "cell_type": "code",
   "execution_count": 218,
   "metadata": {},
   "outputs": [
    {
     "data": {
      "text/plain": [
       "<AxesSubplot:xlabel='대여일자'>"
      ]
     },
     "execution_count": 218,
     "metadata": {},
     "output_type": "execute_result"
    },
    {
     "data": {
      "image/png": "[encoded data removed]",
      "text/plain": [
       "<Figure size 504x504 with 1 Axes>"
      ]
     },
     "metadata": {
      "needs_background": "light"
     },
     "output_type": "display_data"
    }
   ],
   "source": [
    "figure, ax = plt.subplots(1, 1, figsize=(7, 7))\n",
    "df_2019[['대여일자','대여건수']].groupby(['대여일자'], as_index=True).sum().sort_values(by='대여일자', ascending=True).plot.bar(ax=ax)"
   ]
  },
  {
   "cell_type": "code",
   "execution_count": 219,
   "metadata": {
    "scrolled": false
   },
   "outputs": [
    {
     "data": {
      "text/html": [
       "<div>\n",
       "<style scoped>\n",
       "    .dataframe tbody tr th:only-of-type {\n",
       "        vertical-align: middle;\n",
       "    }\n",
       "\n",
       "    .dataframe tbody tr th {\n",
       "        vertical-align: top;\n",
       "    }\n",
       "\n",
       "    .dataframe thead th {\n",
       "        text-align: right;\n",
       "    }\n",
       "</style>\n",
       "<table border=\"1\" class=\"dataframe\">\n",
       "  <thead>\n",
       "    <tr style=\"text-align: right;\">\n",
       "      <th></th>\n",
       "      <th>일시</th>\n",
       "      <th>대여소</th>\n",
       "      <th>대여건수</th>\n",
       "      <th>반납건수</th>\n",
       "    </tr>\n",
       "  </thead>\n",
       "  <tbody>\n",
       "    <tr>\n",
       "      <th>0</th>\n",
       "      <td>201912</td>\n",
       "      <td>1009. 천호역4번출구(현대백화점)</td>\n",
       "      <td>1</td>\n",
       "      <td>1</td>\n",
       "    </tr>\n",
       "    <tr>\n",
       "      <th>1</th>\n",
       "      <td>201912</td>\n",
       "      <td>1013. 강동구청역 1번 출입구</td>\n",
       "      <td>0</td>\n",
       "      <td>1</td>\n",
       "    </tr>\n",
       "    <tr>\n",
       "      <th>2</th>\n",
       "      <td>201912</td>\n",
       "      <td>102. 망원역 1번출구 앞</td>\n",
       "      <td>1</td>\n",
       "      <td>2</td>\n",
       "    </tr>\n",
       "    <tr>\n",
       "      <th>3</th>\n",
       "      <td>201912</td>\n",
       "      <td>103. 망원역 2번출구 앞</td>\n",
       "      <td>3</td>\n",
       "      <td>2</td>\n",
       "    </tr>\n",
       "    <tr>\n",
       "      <th>4</th>\n",
       "      <td>201912</td>\n",
       "      <td>1030. 미호 플랜트 앞</td>\n",
       "      <td>2</td>\n",
       "      <td>0</td>\n",
       "    </tr>\n",
       "  </tbody>\n",
       "</table>\n",
       "</div>"
      ],
      "text/plain": [
       "       일시                   대여소  대여건수  반납건수\n",
       "0  201912  1009. 천호역4번출구(현대백화점)     1     1\n",
       "1  201912    1013. 강동구청역 1번 출입구     0     1\n",
       "2  201912       102. 망원역 1번출구 앞     1     2\n",
       "3  201912       103. 망원역 2번출구 앞     3     2\n",
       "4  201912        1030. 미호 플랜트 앞     2     0"
      ]
     },
     "execution_count": 219,
     "metadata": {},
     "output_type": "execute_result"
    }
   ],
   "source": [
    "df_2020_1 = pd.read_excel(f'{directory}서울특별시 공공자전거 외국인 대여정보(월별)_201912_202005.xlsx')\n",
    "df_2020_1.head()"
   ]
  },
  {
   "cell_type": "code",
   "execution_count": 220,
   "metadata": {
    "scrolled": true
   },
   "outputs": [
    {
     "data": {
      "text/html": [
       "<div>\n",
       "<style scoped>\n",
       "    .dataframe tbody tr th:only-of-type {\n",
       "        vertical-align: middle;\n",
       "    }\n",
       "\n",
       "    .dataframe tbody tr th {\n",
       "        vertical-align: top;\n",
       "    }\n",
       "\n",
       "    .dataframe thead th {\n",
       "        text-align: right;\n",
       "    }\n",
       "</style>\n",
       "<table border=\"1\" class=\"dataframe\">\n",
       "  <thead>\n",
       "    <tr style=\"text-align: right;\">\n",
       "      <th></th>\n",
       "      <th>대여일자</th>\n",
       "      <th>대여소</th>\n",
       "      <th>대여건수</th>\n",
       "      <th>반납건수</th>\n",
       "    </tr>\n",
       "  </thead>\n",
       "  <tbody>\n",
       "    <tr>\n",
       "      <th>0</th>\n",
       "      <td>201912</td>\n",
       "      <td>1009. 천호역4번출구(현대백화점)</td>\n",
       "      <td>1</td>\n",
       "      <td>1</td>\n",
       "    </tr>\n",
       "    <tr>\n",
       "      <th>1</th>\n",
       "      <td>201912</td>\n",
       "      <td>1013. 강동구청역 1번 출입구</td>\n",
       "      <td>0</td>\n",
       "      <td>1</td>\n",
       "    </tr>\n",
       "    <tr>\n",
       "      <th>2</th>\n",
       "      <td>201912</td>\n",
       "      <td>102. 망원역 1번출구 앞</td>\n",
       "      <td>1</td>\n",
       "      <td>2</td>\n",
       "    </tr>\n",
       "    <tr>\n",
       "      <th>3</th>\n",
       "      <td>201912</td>\n",
       "      <td>103. 망원역 2번출구 앞</td>\n",
       "      <td>3</td>\n",
       "      <td>2</td>\n",
       "    </tr>\n",
       "    <tr>\n",
       "      <th>4</th>\n",
       "      <td>201912</td>\n",
       "      <td>1030. 미호 플랜트 앞</td>\n",
       "      <td>2</td>\n",
       "      <td>0</td>\n",
       "    </tr>\n",
       "  </tbody>\n",
       "</table>\n",
       "</div>"
      ],
      "text/plain": [
       "     대여일자                   대여소  대여건수  반납건수\n",
       "0  201912  1009. 천호역4번출구(현대백화점)     1     1\n",
       "1  201912    1013. 강동구청역 1번 출입구     0     1\n",
       "2  201912       102. 망원역 1번출구 앞     1     2\n",
       "3  201912       103. 망원역 2번출구 앞     3     2\n",
       "4  201912        1030. 미호 플랜트 앞     2     0"
      ]
     },
     "execution_count": 220,
     "metadata": {},
     "output_type": "execute_result"
    }
   ],
   "source": [
    "df_2020_1.rename(columns={'일시':'대여일자'}, inplace = True)\n",
    "df_2020_1.head()"
   ]
  },
  {
   "cell_type": "code",
   "execution_count": 221,
   "metadata": {
    "scrolled": false
   },
   "outputs": [
    {
     "data": {
      "text/plain": [
       "array([201912, 202001, 202002, 202003, 202004, 202005, 201906, 201907,\n",
       "       201908, 201909, 201910, 201911], dtype=int64)"
      ]
     },
     "execution_count": 221,
     "metadata": {},
     "output_type": "execute_result"
    }
   ],
   "source": [
    "df_2020_1['대여일자'].unique()"
   ]
  },
  {
   "cell_type": "markdown",
   "metadata": {},
   "source": [
    "- 해당 데이터는 2019년 12월부터 2020년 5월까지의 데이터인데, 201906 201907 201908 201909 201910 201911과 같은 이상한(?) 데이터가 포함되어 있다\n",
    "- 이상한(?) 데이터는 제외하고 분석"
   ]
  },
  {
   "cell_type": "code",
   "execution_count": 222,
   "metadata": {},
   "outputs": [
    {
     "data": {
      "text/html": [
       "<div>\n",
       "<style scoped>\n",
       "    .dataframe tbody tr th:only-of-type {\n",
       "        vertical-align: middle;\n",
       "    }\n",
       "\n",
       "    .dataframe tbody tr th {\n",
       "        vertical-align: top;\n",
       "    }\n",
       "\n",
       "    .dataframe thead th {\n",
       "        text-align: right;\n",
       "    }\n",
       "</style>\n",
       "<table border=\"1\" class=\"dataframe\">\n",
       "  <thead>\n",
       "    <tr style=\"text-align: right;\">\n",
       "      <th></th>\n",
       "      <th>대여일자</th>\n",
       "      <th>대여소</th>\n",
       "      <th>대여건수</th>\n",
       "      <th>반납건수</th>\n",
       "    </tr>\n",
       "  </thead>\n",
       "  <tbody>\n",
       "    <tr>\n",
       "      <th>0</th>\n",
       "      <td>201912</td>\n",
       "      <td>1009. 천호역4번출구(현대백화점)</td>\n",
       "      <td>1</td>\n",
       "      <td>1</td>\n",
       "    </tr>\n",
       "    <tr>\n",
       "      <th>1</th>\n",
       "      <td>201912</td>\n",
       "      <td>1013. 강동구청역 1번 출입구</td>\n",
       "      <td>0</td>\n",
       "      <td>1</td>\n",
       "    </tr>\n",
       "    <tr>\n",
       "      <th>2</th>\n",
       "      <td>201912</td>\n",
       "      <td>102. 망원역 1번출구 앞</td>\n",
       "      <td>1</td>\n",
       "      <td>2</td>\n",
       "    </tr>\n",
       "    <tr>\n",
       "      <th>3</th>\n",
       "      <td>201912</td>\n",
       "      <td>103. 망원역 2번출구 앞</td>\n",
       "      <td>3</td>\n",
       "      <td>2</td>\n",
       "    </tr>\n",
       "    <tr>\n",
       "      <th>4</th>\n",
       "      <td>201912</td>\n",
       "      <td>1030. 미호 플랜트 앞</td>\n",
       "      <td>2</td>\n",
       "      <td>0</td>\n",
       "    </tr>\n",
       "    <tr>\n",
       "      <th>...</th>\n",
       "      <td>...</td>\n",
       "      <td>...</td>\n",
       "      <td>...</td>\n",
       "      <td>...</td>\n",
       "    </tr>\n",
       "    <tr>\n",
       "      <th>2434</th>\n",
       "      <td>202005</td>\n",
       "      <td>917. 녹번역 4번출구</td>\n",
       "      <td>0</td>\n",
       "      <td>1</td>\n",
       "    </tr>\n",
       "    <tr>\n",
       "      <th>2435</th>\n",
       "      <td>202005</td>\n",
       "      <td>927. 연신내역 3번출구 인근</td>\n",
       "      <td>0</td>\n",
       "      <td>1</td>\n",
       "    </tr>\n",
       "    <tr>\n",
       "      <th>2436</th>\n",
       "      <td>202005</td>\n",
       "      <td>937. 상림마을 롯데캐슬2단지 옆</td>\n",
       "      <td>1</td>\n",
       "      <td>1</td>\n",
       "    </tr>\n",
       "    <tr>\n",
       "      <th>2437</th>\n",
       "      <td>202005</td>\n",
       "      <td>946. 독바위역</td>\n",
       "      <td>2</td>\n",
       "      <td>0</td>\n",
       "    </tr>\n",
       "    <tr>\n",
       "      <th>2438</th>\n",
       "      <td>202005</td>\n",
       "      <td>963. 대호프라자아파트</td>\n",
       "      <td>2</td>\n",
       "      <td>4</td>\n",
       "    </tr>\n",
       "  </tbody>\n",
       "</table>\n",
       "<p>2439 rows × 4 columns</p>\n",
       "</div>"
      ],
      "text/plain": [
       "        대여일자                   대여소  대여건수  반납건수\n",
       "0     201912  1009. 천호역4번출구(현대백화점)     1     1\n",
       "1     201912    1013. 강동구청역 1번 출입구     0     1\n",
       "2     201912       102. 망원역 1번출구 앞     1     2\n",
       "3     201912       103. 망원역 2번출구 앞     3     2\n",
       "4     201912        1030. 미호 플랜트 앞     2     0\n",
       "...      ...                   ...   ...   ...\n",
       "2434  202005         917. 녹번역 4번출구     0     1\n",
       "2435  202005     927. 연신내역 3번출구 인근     0     1\n",
       "2436  202005   937. 상림마을 롯데캐슬2단지 옆     1     1\n",
       "2437  202005            946. 독바위역      2     0\n",
       "2438  202005         963. 대호프라자아파트     2     4\n",
       "\n",
       "[2439 rows x 4 columns]"
      ]
     },
     "execution_count": 222,
     "metadata": {},
     "output_type": "execute_result"
    }
   ],
   "source": [
    "df_2020_1[df_2020_1['대여일자'] >= 201912]"
   ]
  },
  {
   "cell_type": "code",
   "execution_count": 223,
   "metadata": {
    "scrolled": true
   },
   "outputs": [
    {
     "data": {
      "text/plain": [
       "<AxesSubplot:xlabel='대여일자'>"
      ]
     },
     "execution_count": 223,
     "metadata": {},
     "output_type": "execute_result"
    },
    {
     "data": {
      "image/png": "[encoded data removed]",
      "text/plain": [
       "<Figure size 504x504 with 1 Axes>"
      ]
     },
     "metadata": {
      "needs_background": "light"
     },
     "output_type": "display_data"
    }
   ],
   "source": [
    "figure, ax = plt.subplots(1, 1, figsize=(7, 7))\n",
    "df_2020_1[['대여일자','대여건수']].groupby(['대여일자'], as_index=True).sum().sort_values(by='대여일자', ascending=True).plot.bar(ax=ax)"
   ]
  },
  {
   "cell_type": "code",
   "execution_count": 224,
   "metadata": {
    "scrolled": false
   },
   "outputs": [
    {
     "data": {
      "text/html": [
       "<div>\n",
       "<style scoped>\n",
       "    .dataframe tbody tr th:only-of-type {\n",
       "        vertical-align: middle;\n",
       "    }\n",
       "\n",
       "    .dataframe tbody tr th {\n",
       "        vertical-align: top;\n",
       "    }\n",
       "\n",
       "    .dataframe thead th {\n",
       "        text-align: right;\n",
       "    }\n",
       "</style>\n",
       "<table border=\"1\" class=\"dataframe\">\n",
       "  <thead>\n",
       "    <tr style=\"text-align: right;\">\n",
       "      <th></th>\n",
       "      <th>일시</th>\n",
       "      <th>대여소</th>\n",
       "      <th>대여건수</th>\n",
       "      <th>반납건수</th>\n",
       "    </tr>\n",
       "  </thead>\n",
       "  <tbody>\n",
       "    <tr>\n",
       "      <th>0</th>\n",
       "      <td>202006</td>\n",
       "      <td>1001. 광진교 남단 사거리(디지털프라자앞)</td>\n",
       "      <td>0</td>\n",
       "      <td>1</td>\n",
       "    </tr>\n",
       "    <tr>\n",
       "      <th>1</th>\n",
       "      <td>202006</td>\n",
       "      <td>101. (구)합정동 주민센터</td>\n",
       "      <td>8</td>\n",
       "      <td>0</td>\n",
       "    </tr>\n",
       "    <tr>\n",
       "      <th>2</th>\n",
       "      <td>202006</td>\n",
       "      <td>102. 망원역 1번출구 앞</td>\n",
       "      <td>5</td>\n",
       "      <td>3</td>\n",
       "    </tr>\n",
       "    <tr>\n",
       "      <th>3</th>\n",
       "      <td>202006</td>\n",
       "      <td>104. 합정역 1번출구 앞</td>\n",
       "      <td>9</td>\n",
       "      <td>3</td>\n",
       "    </tr>\n",
       "    <tr>\n",
       "      <th>4</th>\n",
       "      <td>202006</td>\n",
       "      <td>105. 합정역 5번출구 앞</td>\n",
       "      <td>2</td>\n",
       "      <td>3</td>\n",
       "    </tr>\n",
       "  </tbody>\n",
       "</table>\n",
       "</div>"
      ],
      "text/plain": [
       "       일시                        대여소  대여건수  반납건수\n",
       "0  202006  1001. 광진교 남단 사거리(디지털프라자앞)     0     1\n",
       "1  202006           101. (구)합정동 주민센터     8     0\n",
       "2  202006            102. 망원역 1번출구 앞     5     3\n",
       "3  202006            104. 합정역 1번출구 앞     9     3\n",
       "4  202006            105. 합정역 5번출구 앞     2     3"
      ]
     },
     "execution_count": 224,
     "metadata": {},
     "output_type": "execute_result"
    }
   ],
   "source": [
    "df_2020_2 = pd.read_excel(f'{directory}서울특별시 공공자전거 외국인 대여정보(월별)_2020.06.xlsx')\n",
    "df_2020_2.head()"
   ]
  },
  {
   "cell_type": "code",
   "execution_count": 225,
   "metadata": {},
   "outputs": [
    {
     "data": {
      "text/html": [
       "<div>\n",
       "<style scoped>\n",
       "    .dataframe tbody tr th:only-of-type {\n",
       "        vertical-align: middle;\n",
       "    }\n",
       "\n",
       "    .dataframe tbody tr th {\n",
       "        vertical-align: top;\n",
       "    }\n",
       "\n",
       "    .dataframe thead th {\n",
       "        text-align: right;\n",
       "    }\n",
       "</style>\n",
       "<table border=\"1\" class=\"dataframe\">\n",
       "  <thead>\n",
       "    <tr style=\"text-align: right;\">\n",
       "      <th></th>\n",
       "      <th>대여일자</th>\n",
       "      <th>대여소</th>\n",
       "      <th>대여건수</th>\n",
       "      <th>반납건수</th>\n",
       "    </tr>\n",
       "  </thead>\n",
       "  <tbody>\n",
       "    <tr>\n",
       "      <th>0</th>\n",
       "      <td>202006</td>\n",
       "      <td>1001. 광진교 남단 사거리(디지털프라자앞)</td>\n",
       "      <td>0</td>\n",
       "      <td>1</td>\n",
       "    </tr>\n",
       "    <tr>\n",
       "      <th>1</th>\n",
       "      <td>202006</td>\n",
       "      <td>101. (구)합정동 주민센터</td>\n",
       "      <td>8</td>\n",
       "      <td>0</td>\n",
       "    </tr>\n",
       "    <tr>\n",
       "      <th>2</th>\n",
       "      <td>202006</td>\n",
       "      <td>102. 망원역 1번출구 앞</td>\n",
       "      <td>5</td>\n",
       "      <td>3</td>\n",
       "    </tr>\n",
       "    <tr>\n",
       "      <th>3</th>\n",
       "      <td>202006</td>\n",
       "      <td>104. 합정역 1번출구 앞</td>\n",
       "      <td>9</td>\n",
       "      <td>3</td>\n",
       "    </tr>\n",
       "    <tr>\n",
       "      <th>4</th>\n",
       "      <td>202006</td>\n",
       "      <td>105. 합정역 5번출구 앞</td>\n",
       "      <td>2</td>\n",
       "      <td>3</td>\n",
       "    </tr>\n",
       "  </tbody>\n",
       "</table>\n",
       "</div>"
      ],
      "text/plain": [
       "     대여일자                        대여소  대여건수  반납건수\n",
       "0  202006  1001. 광진교 남단 사거리(디지털프라자앞)     0     1\n",
       "1  202006           101. (구)합정동 주민센터     8     0\n",
       "2  202006            102. 망원역 1번출구 앞     5     3\n",
       "3  202006            104. 합정역 1번출구 앞     9     3\n",
       "4  202006            105. 합정역 5번출구 앞     2     3"
      ]
     },
     "execution_count": 225,
     "metadata": {},
     "output_type": "execute_result"
    }
   ],
   "source": [
    "df_2020_2.rename(columns={'일시':'대여일자'}, inplace = True)\n",
    "df_2020_2.head()"
   ]
  },
  {
   "cell_type": "code",
   "execution_count": 226,
   "metadata": {},
   "outputs": [
    {
     "data": {
      "text/plain": [
       "array([202006], dtype=int64)"
      ]
     },
     "execution_count": 226,
     "metadata": {},
     "output_type": "execute_result"
    }
   ],
   "source": [
    "df_2020_2['대여일자'].unique()"
   ]
  },
  {
   "cell_type": "code",
   "execution_count": 227,
   "metadata": {
    "scrolled": true
   },
   "outputs": [
    {
     "data": {
      "text/html": [
       "<div>\n",
       "<style scoped>\n",
       "    .dataframe tbody tr th:only-of-type {\n",
       "        vertical-align: middle;\n",
       "    }\n",
       "\n",
       "    .dataframe tbody tr th {\n",
       "        vertical-align: top;\n",
       "    }\n",
       "\n",
       "    .dataframe thead th {\n",
       "        text-align: right;\n",
       "    }\n",
       "</style>\n",
       "<table border=\"1\" class=\"dataframe\">\n",
       "  <thead>\n",
       "    <tr style=\"text-align: right;\">\n",
       "      <th></th>\n",
       "      <th>일시</th>\n",
       "      <th>대여소</th>\n",
       "      <th>대여건수</th>\n",
       "      <th>반납건수</th>\n",
       "    </tr>\n",
       "  </thead>\n",
       "  <tbody>\n",
       "    <tr>\n",
       "      <th>0</th>\n",
       "      <td>202007</td>\n",
       "      <td>1004. 삼성광나루아파트 버스정류장</td>\n",
       "      <td>0</td>\n",
       "      <td>1</td>\n",
       "    </tr>\n",
       "    <tr>\n",
       "      <th>1</th>\n",
       "      <td>202007</td>\n",
       "      <td>1006. 롯데캐슬 115동앞</td>\n",
       "      <td>0</td>\n",
       "      <td>1</td>\n",
       "    </tr>\n",
       "    <tr>\n",
       "      <th>2</th>\n",
       "      <td>202007</td>\n",
       "      <td>101. (구)합정동 주민센터</td>\n",
       "      <td>1</td>\n",
       "      <td>0</td>\n",
       "    </tr>\n",
       "    <tr>\n",
       "      <th>3</th>\n",
       "      <td>202007</td>\n",
       "      <td>1019. 다성이즈빌아파트(호원대 대각선 맞은편)</td>\n",
       "      <td>1</td>\n",
       "      <td>0</td>\n",
       "    </tr>\n",
       "    <tr>\n",
       "      <th>4</th>\n",
       "      <td>202007</td>\n",
       "      <td>102. 망원역 1번출구 앞</td>\n",
       "      <td>6</td>\n",
       "      <td>4</td>\n",
       "    </tr>\n",
       "  </tbody>\n",
       "</table>\n",
       "</div>"
      ],
      "text/plain": [
       "       일시                          대여소  대여건수  반납건수\n",
       "0  202007         1004. 삼성광나루아파트 버스정류장     0     1\n",
       "1  202007             1006. 롯데캐슬 115동앞     0     1\n",
       "2  202007             101. (구)합정동 주민센터     1     0\n",
       "3  202007  1019. 다성이즈빌아파트(호원대 대각선 맞은편)     1     0\n",
       "4  202007              102. 망원역 1번출구 앞     6     4"
      ]
     },
     "execution_count": 227,
     "metadata": {},
     "output_type": "execute_result"
    }
   ],
   "source": [
    "df_2020_3 = pd.read_excel(f'{directory}서울특별시 공공자전거 외국인 대여정보(월별)_2020.07_2021.01.xlsx')\n",
    "df_2020_3.head()"
   ]
  },
  {
   "cell_type": "code",
   "execution_count": 228,
   "metadata": {
    "scrolled": true
   },
   "outputs": [
    {
     "data": {
      "text/html": [
       "<div>\n",
       "<style scoped>\n",
       "    .dataframe tbody tr th:only-of-type {\n",
       "        vertical-align: middle;\n",
       "    }\n",
       "\n",
       "    .dataframe tbody tr th {\n",
       "        vertical-align: top;\n",
       "    }\n",
       "\n",
       "    .dataframe thead th {\n",
       "        text-align: right;\n",
       "    }\n",
       "</style>\n",
       "<table border=\"1\" class=\"dataframe\">\n",
       "  <thead>\n",
       "    <tr style=\"text-align: right;\">\n",
       "      <th></th>\n",
       "      <th>대여일자</th>\n",
       "      <th>대여소</th>\n",
       "      <th>대여건수</th>\n",
       "      <th>반납건수</th>\n",
       "    </tr>\n",
       "  </thead>\n",
       "  <tbody>\n",
       "    <tr>\n",
       "      <th>0</th>\n",
       "      <td>202007</td>\n",
       "      <td>1004. 삼성광나루아파트 버스정류장</td>\n",
       "      <td>0</td>\n",
       "      <td>1</td>\n",
       "    </tr>\n",
       "    <tr>\n",
       "      <th>1</th>\n",
       "      <td>202007</td>\n",
       "      <td>1006. 롯데캐슬 115동앞</td>\n",
       "      <td>0</td>\n",
       "      <td>1</td>\n",
       "    </tr>\n",
       "    <tr>\n",
       "      <th>2</th>\n",
       "      <td>202007</td>\n",
       "      <td>101. (구)합정동 주민센터</td>\n",
       "      <td>1</td>\n",
       "      <td>0</td>\n",
       "    </tr>\n",
       "    <tr>\n",
       "      <th>3</th>\n",
       "      <td>202007</td>\n",
       "      <td>1019. 다성이즈빌아파트(호원대 대각선 맞은편)</td>\n",
       "      <td>1</td>\n",
       "      <td>0</td>\n",
       "    </tr>\n",
       "    <tr>\n",
       "      <th>4</th>\n",
       "      <td>202007</td>\n",
       "      <td>102. 망원역 1번출구 앞</td>\n",
       "      <td>6</td>\n",
       "      <td>4</td>\n",
       "    </tr>\n",
       "  </tbody>\n",
       "</table>\n",
       "</div>"
      ],
      "text/plain": [
       "     대여일자                          대여소  대여건수  반납건수\n",
       "0  202007         1004. 삼성광나루아파트 버스정류장     0     1\n",
       "1  202007             1006. 롯데캐슬 115동앞     0     1\n",
       "2  202007             101. (구)합정동 주민센터     1     0\n",
       "3  202007  1019. 다성이즈빌아파트(호원대 대각선 맞은편)     1     0\n",
       "4  202007              102. 망원역 1번출구 앞     6     4"
      ]
     },
     "execution_count": 228,
     "metadata": {},
     "output_type": "execute_result"
    }
   ],
   "source": [
    "df_2020_3.rename(columns={'일시':'대여일자'}, inplace = True)\n",
    "df_2020_3.head()"
   ]
  },
  {
   "cell_type": "code",
   "execution_count": 229,
   "metadata": {},
   "outputs": [
    {
     "data": {
      "text/plain": [
       "array([202007, 202008, 202009, 202010, 202011, 202012, 202101],\n",
       "      dtype=int64)"
      ]
     },
     "execution_count": 229,
     "metadata": {},
     "output_type": "execute_result"
    }
   ],
   "source": [
    "df_2020_3['대여일자'].unique()"
   ]
  },
  {
   "cell_type": "code",
   "execution_count": 230,
   "metadata": {},
   "outputs": [
    {
     "data": {
      "text/plain": [
       "<AxesSubplot:xlabel='대여일자'>"
      ]
     },
     "execution_count": 230,
     "metadata": {},
     "output_type": "execute_result"
    },
    {
     "data": {
      "image/png": "[encoded data removed]",
      "text/plain": [
       "<Figure size 504x504 with 1 Axes>"
      ]
     },
     "metadata": {
      "needs_background": "light"
     },
     "output_type": "display_data"
    }
   ],
   "source": [
    "figure, ax = plt.subplots(1, 1, figsize=(7, 7))\n",
    "df_2020_3[['대여일자','대여건수']].groupby(['대여일자'], as_index=True).sum().sort_values(by='대여일자', ascending=True).plot.bar(ax=ax)"
   ]
  },
  {
   "cell_type": "code",
   "execution_count": 231,
   "metadata": {
    "scrolled": true
   },
   "outputs": [
    {
     "data": {
      "text/plain": [
       "<AxesSubplot:xlabel='대여일자'>"
      ]
     },
     "execution_count": 231,
     "metadata": {},
     "output_type": "execute_result"
    },
    {
     "data": {
      "image/png": "[encoded data removed]",
      "text/plain": [
       "<Figure size 1512x1512 with 4 Axes>"
      ]
     },
     "metadata": {
      "needs_background": "light"
     },
     "output_type": "display_data"
    }
   ],
   "source": [
    "figure, ax = plt.subplots(2, 2, figsize=(21, 21))\n",
    "df_2017[['대여일자','대여건수']].groupby(['대여일자'], as_index=True).sum().sort_values(by='대여일자', ascending=True).plot.bar(ax=ax[0,0])\n",
    "df_2018[['대여일자','대여건수']].groupby(['대여일자'], as_index=True).sum().sort_values(by='대여일자', ascending=True).plot.bar(ax=ax[0,1])\n",
    "df_2019[['대여일자','대여건수']].groupby(['대여일자'], as_index=True).sum().sort_values(by='대여일자', ascending=True).plot.bar(ax=ax[1,0])\n",
    "df_2020_1[['대여일자','대여건수']].groupby(['대여일자'], as_index=True).sum().sort_values(by='대여일자', ascending=True).plot.bar(ax=ax[1,1])"
   ]
  },
  {
   "cell_type": "markdown",
   "metadata": {},
   "source": [
    "- 여러 개의 파일(여러 개의 기간?)로 나누어져 있었던 것을 하나로 합침\n",
    "- 어떤 파일에서는 '대여일자', 어떤 파일에서는 '일시'라는 column 이름을 사용하고 있어서 이전에 '대여일자'로 통일했음"
   ]
  },
  {
   "cell_type": "code",
   "execution_count": 232,
   "metadata": {
    "scrolled": false
   },
   "outputs": [
    {
     "data": {
      "text/html": [
       "<div>\n",
       "<style scoped>\n",
       "    .dataframe tbody tr th:only-of-type {\n",
       "        vertical-align: middle;\n",
       "    }\n",
       "\n",
       "    .dataframe tbody tr th {\n",
       "        vertical-align: top;\n",
       "    }\n",
       "\n",
       "    .dataframe thead th {\n",
       "        text-align: right;\n",
       "    }\n",
       "</style>\n",
       "<table border=\"1\" class=\"dataframe\">\n",
       "  <thead>\n",
       "    <tr style=\"text-align: right;\">\n",
       "      <th></th>\n",
       "      <th>대여일자</th>\n",
       "      <th>대여소번호</th>\n",
       "      <th>대여소</th>\n",
       "      <th>대여건수</th>\n",
       "      <th>반납건수</th>\n",
       "    </tr>\n",
       "  </thead>\n",
       "  <tbody>\n",
       "    <tr>\n",
       "      <th>0</th>\n",
       "      <td>201701</td>\n",
       "      <td>108</td>\n",
       "      <td>서교동 사거리</td>\n",
       "      <td>3</td>\n",
       "      <td>0</td>\n",
       "    </tr>\n",
       "    <tr>\n",
       "      <th>1</th>\n",
       "      <td>201701</td>\n",
       "      <td>511</td>\n",
       "      <td>서울숲역 4번 출구 옆</td>\n",
       "      <td>2</td>\n",
       "      <td>2</td>\n",
       "    </tr>\n",
       "    <tr>\n",
       "      <th>2</th>\n",
       "      <td>201701</td>\n",
       "      <td>109</td>\n",
       "      <td>제일빌딩 앞</td>\n",
       "      <td>2</td>\n",
       "      <td>2</td>\n",
       "    </tr>\n",
       "    <tr>\n",
       "      <th>3</th>\n",
       "      <td>201701</td>\n",
       "      <td>514</td>\n",
       "      <td>성수사거리 버스정류장 앞</td>\n",
       "      <td>0</td>\n",
       "      <td>1</td>\n",
       "    </tr>\n",
       "    <tr>\n",
       "      <th>4</th>\n",
       "      <td>201701</td>\n",
       "      <td>301</td>\n",
       "      <td>경복궁역 7번출구 앞</td>\n",
       "      <td>2</td>\n",
       "      <td>0</td>\n",
       "    </tr>\n",
       "  </tbody>\n",
       "</table>\n",
       "</div>"
      ],
      "text/plain": [
       "     대여일자 대여소번호             대여소  대여건수  반납건수\n",
       "0  201701   108         서교동 사거리     3     0\n",
       "1  201701   511    서울숲역 4번 출구 옆     2     2\n",
       "2  201701   109          제일빌딩 앞     2     2\n",
       "3  201701   514   성수사거리 버스정류장 앞     0     1\n",
       "4  201701   301     경복궁역 7번출구 앞     2     0"
      ]
     },
     "execution_count": 232,
     "metadata": {},
     "output_type": "execute_result"
    }
   ],
   "source": [
    "df_data = pd.concat([df_2017, df_2018, df_2019, df_2020_1, df_2020_2, df_2020_3], axis = 0)\n",
    "df_data.head()"
   ]
  },
  {
   "cell_type": "markdown",
   "metadata": {},
   "source": [
    "- '<' not supported between instances of 'str' and 'int'\n",
    "- 대여일자를 기준으로 오름차순으로 정렬하여 시간에 흐름에 따른 외국인의 따릉이 대여건수를 확인하고자 했는데, 위와 같은 error가 발생했음\n",
    "- 대여일자 데이터가 str, int type이 혼재되어 있어서 발생한 오류 같음\n",
    "- int로 type을 통일해서 다시 정렬했더니 오류가 더 이상 발생하지 않았음"
   ]
  },
  {
   "cell_type": "code",
   "execution_count": 233,
   "metadata": {},
   "outputs": [],
   "source": [
    "df_data = df_data.astype({'대여일자':'str'})"
   ]
  },
  {
   "cell_type": "code",
   "execution_count": 234,
   "metadata": {
    "scrolled": true
   },
   "outputs": [
    {
     "name": "stdout",
     "output_type": "stream",
     "text": [
      "<class 'pandas.core.frame.DataFrame'>\n",
      "Int64Index: 20798 entries, 0 to 2315\n",
      "Data columns (total 5 columns):\n",
      " #   Column  Non-Null Count  Dtype \n",
      "---  ------  --------------  ----- \n",
      " 0   대여일자    20798 non-null  object\n",
      " 1   대여소번호   5457 non-null   object\n",
      " 2   대여소     20784 non-null  object\n",
      " 3   대여건수    20798 non-null  int64 \n",
      " 4   반납건수    20798 non-null  int64 \n",
      "dtypes: int64(2), object(3)\n",
      "memory usage: 974.9+ KB\n"
     ]
    }
   ],
   "source": [
    "df_data.info()"
   ]
  },
  {
   "cell_type": "code",
   "execution_count": 235,
   "metadata": {
    "scrolled": false
   },
   "outputs": [
    {
     "data": {
      "text/plain": [
       "Text(0.5, 1.02, '2017년 1월부터 2021년 1월까지의 월별 외국인 따릉이 대여건수')"
      ]
     },
     "execution_count": 235,
     "metadata": {},
     "output_type": "execute_result"
    },
    {
     "data": {
      "image/png": "[encoded data removed]",
      "text/plain": [
       "<Figure size 1152x1152 with 1 Axes>"
      ]
     },
     "metadata": {
      "needs_background": "light"
     },
     "output_type": "display_data"
    }
   ],
   "source": [
    "figure, ax = plt.subplots(1, 1, figsize=(16, 16))\n",
    "df_data[['대여일자','대여건수']].groupby(['대여일자'], as_index=True).sum().plot.bar(ax=ax)\n",
    "ax.set_title('2017년 1월부터 2021년 1월까지의 월별 외국인 따릉이 대여건수', fontsize = 30, y=1.02)"
   ]
  },
  {
   "cell_type": "markdown",
   "metadata": {},
   "source": [
    "- 따릉이가 2017년부터 코로나 이전까지 외국인 대여건수가 지속적으로 증가한 것으로 보임(따릉이가 계속해서 서울 전역에 많이 보급되기도 하고, 서울시에서 외국인에게도 적극적으로 홍보를 함)\n"
   ]
  },
  {
   "cell_type": "code",
   "execution_count": 236,
   "metadata": {
    "scrolled": true
   },
   "outputs": [
    {
     "data": {
      "text/html": [
       "<div>\n",
       "<style scoped>\n",
       "    .dataframe tbody tr th:only-of-type {\n",
       "        vertical-align: middle;\n",
       "    }\n",
       "\n",
       "    .dataframe tbody tr th {\n",
       "        vertical-align: top;\n",
       "    }\n",
       "\n",
       "    .dataframe thead th {\n",
       "        text-align: right;\n",
       "    }\n",
       "</style>\n",
       "<table border=\"1\" class=\"dataframe\">\n",
       "  <thead>\n",
       "    <tr style=\"text-align: right;\">\n",
       "      <th></th>\n",
       "      <th>대여일자</th>\n",
       "      <th>대여소번호</th>\n",
       "      <th>대여소</th>\n",
       "      <th>대여건수</th>\n",
       "      <th>반납건수</th>\n",
       "    </tr>\n",
       "  </thead>\n",
       "  <tbody>\n",
       "    <tr>\n",
       "      <th>0</th>\n",
       "      <td>201701</td>\n",
       "      <td>108</td>\n",
       "      <td>서교동 사거리</td>\n",
       "      <td>3</td>\n",
       "      <td>0</td>\n",
       "    </tr>\n",
       "    <tr>\n",
       "      <th>1</th>\n",
       "      <td>201701</td>\n",
       "      <td>511</td>\n",
       "      <td>서울숲역 4번 출구 옆</td>\n",
       "      <td>2</td>\n",
       "      <td>2</td>\n",
       "    </tr>\n",
       "    <tr>\n",
       "      <th>2</th>\n",
       "      <td>201701</td>\n",
       "      <td>109</td>\n",
       "      <td>제일빌딩 앞</td>\n",
       "      <td>2</td>\n",
       "      <td>2</td>\n",
       "    </tr>\n",
       "    <tr>\n",
       "      <th>3</th>\n",
       "      <td>201701</td>\n",
       "      <td>514</td>\n",
       "      <td>성수사거리 버스정류장 앞</td>\n",
       "      <td>0</td>\n",
       "      <td>1</td>\n",
       "    </tr>\n",
       "    <tr>\n",
       "      <th>4</th>\n",
       "      <td>201701</td>\n",
       "      <td>301</td>\n",
       "      <td>경복궁역 7번출구 앞</td>\n",
       "      <td>2</td>\n",
       "      <td>0</td>\n",
       "    </tr>\n",
       "    <tr>\n",
       "      <th>5</th>\n",
       "      <td>201701</td>\n",
       "      <td>302</td>\n",
       "      <td>경복궁역 4번출구 뒤</td>\n",
       "      <td>0</td>\n",
       "      <td>2</td>\n",
       "    </tr>\n",
       "    <tr>\n",
       "      <th>6</th>\n",
       "      <td>201701</td>\n",
       "      <td>303</td>\n",
       "      <td>광화문역 1번출구 앞</td>\n",
       "      <td>1</td>\n",
       "      <td>3</td>\n",
       "    </tr>\n",
       "    <tr>\n",
       "      <th>7</th>\n",
       "      <td>201701</td>\n",
       "      <td>115</td>\n",
       "      <td>사루비아 빌딩 앞</td>\n",
       "      <td>1</td>\n",
       "      <td>1</td>\n",
       "    </tr>\n",
       "    <tr>\n",
       "      <th>8</th>\n",
       "      <td>201701</td>\n",
       "      <td>304</td>\n",
       "      <td>광화문역 2번출구 앞</td>\n",
       "      <td>4</td>\n",
       "      <td>2</td>\n",
       "    </tr>\n",
       "    <tr>\n",
       "      <th>9</th>\n",
       "      <td>201701</td>\n",
       "      <td>305</td>\n",
       "      <td>종로구청 옆</td>\n",
       "      <td>3</td>\n",
       "      <td>0</td>\n",
       "    </tr>\n",
       "  </tbody>\n",
       "</table>\n",
       "</div>"
      ],
      "text/plain": [
       "     대여일자 대여소번호             대여소  대여건수  반납건수\n",
       "0  201701   108         서교동 사거리     3     0\n",
       "1  201701   511    서울숲역 4번 출구 옆     2     2\n",
       "2  201701   109          제일빌딩 앞     2     2\n",
       "3  201701   514   성수사거리 버스정류장 앞     0     1\n",
       "4  201701   301     경복궁역 7번출구 앞     2     0\n",
       "5  201701   302     경복궁역 4번출구 뒤     0     2\n",
       "6  201701   303     광화문역 1번출구 앞     1     3\n",
       "7  201701   115       사루비아 빌딩 앞     1     1\n",
       "8  201701   304     광화문역 2번출구 앞     4     2\n",
       "9  201701   305          종로구청 옆     3     0"
      ]
     },
     "execution_count": 236,
     "metadata": {},
     "output_type": "execute_result"
    }
   ],
   "source": [
    "df_data.head(10)"
   ]
  },
  {
   "cell_type": "markdown",
   "metadata": {},
   "source": [
    "- 연별 / 월별 데이터를 다루기 위해서 데이터 handling!\n",
    "- datatime 형식이 아닌데, str으로 해보고 나서 datatime 형식으로도 변경해서 같은 결과를 얻을 수 있는지 비교해보자"
   ]
  },
  {
   "cell_type": "code",
   "execution_count": 238,
   "metadata": {},
   "outputs": [
    {
     "data": {
      "text/html": [
       "<div>\n",
       "<style scoped>\n",
       "    .dataframe tbody tr th:only-of-type {\n",
       "        vertical-align: middle;\n",
       "    }\n",
       "\n",
       "    .dataframe tbody tr th {\n",
       "        vertical-align: top;\n",
       "    }\n",
       "\n",
       "    .dataframe thead th {\n",
       "        text-align: right;\n",
       "    }\n",
       "</style>\n",
       "<table border=\"1\" class=\"dataframe\">\n",
       "  <thead>\n",
       "    <tr style=\"text-align: right;\">\n",
       "      <th></th>\n",
       "      <th>대여일자</th>\n",
       "      <th>대여소번호</th>\n",
       "      <th>대여소</th>\n",
       "      <th>대여건수</th>\n",
       "      <th>반납건수</th>\n",
       "    </tr>\n",
       "  </thead>\n",
       "  <tbody>\n",
       "    <tr>\n",
       "      <th>0</th>\n",
       "      <td>201701</td>\n",
       "      <td>108</td>\n",
       "      <td>서교동 사거리</td>\n",
       "      <td>3</td>\n",
       "      <td>0</td>\n",
       "    </tr>\n",
       "    <tr>\n",
       "      <th>1</th>\n",
       "      <td>201701</td>\n",
       "      <td>511</td>\n",
       "      <td>서울숲역 4번 출구 옆</td>\n",
       "      <td>2</td>\n",
       "      <td>2</td>\n",
       "    </tr>\n",
       "    <tr>\n",
       "      <th>2</th>\n",
       "      <td>201701</td>\n",
       "      <td>109</td>\n",
       "      <td>제일빌딩 앞</td>\n",
       "      <td>2</td>\n",
       "      <td>2</td>\n",
       "    </tr>\n",
       "    <tr>\n",
       "      <th>3</th>\n",
       "      <td>201701</td>\n",
       "      <td>514</td>\n",
       "      <td>성수사거리 버스정류장 앞</td>\n",
       "      <td>0</td>\n",
       "      <td>1</td>\n",
       "    </tr>\n",
       "    <tr>\n",
       "      <th>4</th>\n",
       "      <td>201701</td>\n",
       "      <td>301</td>\n",
       "      <td>경복궁역 7번출구 앞</td>\n",
       "      <td>2</td>\n",
       "      <td>0</td>\n",
       "    </tr>\n",
       "    <tr>\n",
       "      <th>...</th>\n",
       "      <td>...</td>\n",
       "      <td>...</td>\n",
       "      <td>...</td>\n",
       "      <td>...</td>\n",
       "      <td>...</td>\n",
       "    </tr>\n",
       "    <tr>\n",
       "      <th>3201</th>\n",
       "      <td>201712</td>\n",
       "      <td>826</td>\n",
       "      <td>서울역 서부교차로2</td>\n",
       "      <td>1</td>\n",
       "      <td>0</td>\n",
       "    </tr>\n",
       "    <tr>\n",
       "      <th>3202</th>\n",
       "      <td>201712</td>\n",
       "      <td>2354</td>\n",
       "      <td>청담역 2번출구</td>\n",
       "      <td>1</td>\n",
       "      <td>0</td>\n",
       "    </tr>\n",
       "    <tr>\n",
       "      <th>3203</th>\n",
       "      <td>201712</td>\n",
       "      <td>2355</td>\n",
       "      <td>삼성역 5~6번 출구 사이</td>\n",
       "      <td>0</td>\n",
       "      <td>6</td>\n",
       "    </tr>\n",
       "    <tr>\n",
       "      <th>3204</th>\n",
       "      <td>201712</td>\n",
       "      <td>450</td>\n",
       "      <td>효자동 삼거리</td>\n",
       "      <td>1</td>\n",
       "      <td>0</td>\n",
       "    </tr>\n",
       "    <tr>\n",
       "      <th>3205</th>\n",
       "      <td>201712</td>\n",
       "      <td>451</td>\n",
       "      <td>청와대앞길</td>\n",
       "      <td>0</td>\n",
       "      <td>1</td>\n",
       "    </tr>\n",
       "  </tbody>\n",
       "</table>\n",
       "<p>3206 rows × 5 columns</p>\n",
       "</div>"
      ],
      "text/plain": [
       "        대여일자 대여소번호              대여소  대여건수  반납건수\n",
       "0     201701   108          서교동 사거리     3     0\n",
       "1     201701   511     서울숲역 4번 출구 옆     2     2\n",
       "2     201701   109           제일빌딩 앞     2     2\n",
       "3     201701   514    성수사거리 버스정류장 앞     0     1\n",
       "4     201701   301      경복궁역 7번출구 앞     2     0\n",
       "...      ...   ...              ...   ...   ...\n",
       "3201  201712   826       서울역 서부교차로2     1     0\n",
       "3202  201712  2354         청담역 2번출구     1     0\n",
       "3203  201712  2355   삼성역 5~6번 출구 사이     0     6\n",
       "3204  201712   450          효자동 삼거리     1     0\n",
       "3205  201712   451            청와대앞길     0     1\n",
       "\n",
       "[3206 rows x 5 columns]"
      ]
     },
     "execution_count": 238,
     "metadata": {},
     "output_type": "execute_result"
    }
   ],
   "source": [
    "df_data[df_data['대여일자'].str[:4]=='2017']"
   ]
  },
  {
   "cell_type": "code",
   "execution_count": 249,
   "metadata": {
    "scrolled": true
   },
   "outputs": [
    {
     "data": {
      "text/html": [
       "<div>\n",
       "<style scoped>\n",
       "    .dataframe tbody tr th:only-of-type {\n",
       "        vertical-align: middle;\n",
       "    }\n",
       "\n",
       "    .dataframe tbody tr th {\n",
       "        vertical-align: top;\n",
       "    }\n",
       "\n",
       "    .dataframe thead th {\n",
       "        text-align: right;\n",
       "    }\n",
       "</style>\n",
       "<table border=\"1\" class=\"dataframe\">\n",
       "  <thead>\n",
       "    <tr style=\"text-align: right;\">\n",
       "      <th></th>\n",
       "      <th>대여일자</th>\n",
       "      <th>대여소번호</th>\n",
       "      <th>대여소</th>\n",
       "      <th>대여건수</th>\n",
       "      <th>반납건수</th>\n",
       "      <th>year</th>\n",
       "    </tr>\n",
       "  </thead>\n",
       "  <tbody>\n",
       "    <tr>\n",
       "      <th>0</th>\n",
       "      <td>201701</td>\n",
       "      <td>108</td>\n",
       "      <td>서교동 사거리</td>\n",
       "      <td>3</td>\n",
       "      <td>0</td>\n",
       "      <td>2017</td>\n",
       "    </tr>\n",
       "    <tr>\n",
       "      <th>1</th>\n",
       "      <td>201701</td>\n",
       "      <td>511</td>\n",
       "      <td>서울숲역 4번 출구 옆</td>\n",
       "      <td>2</td>\n",
       "      <td>2</td>\n",
       "      <td>2017</td>\n",
       "    </tr>\n",
       "    <tr>\n",
       "      <th>2</th>\n",
       "      <td>201701</td>\n",
       "      <td>109</td>\n",
       "      <td>제일빌딩 앞</td>\n",
       "      <td>2</td>\n",
       "      <td>2</td>\n",
       "      <td>2017</td>\n",
       "    </tr>\n",
       "    <tr>\n",
       "      <th>3</th>\n",
       "      <td>201701</td>\n",
       "      <td>514</td>\n",
       "      <td>성수사거리 버스정류장 앞</td>\n",
       "      <td>0</td>\n",
       "      <td>1</td>\n",
       "      <td>2017</td>\n",
       "    </tr>\n",
       "    <tr>\n",
       "      <th>4</th>\n",
       "      <td>201701</td>\n",
       "      <td>301</td>\n",
       "      <td>경복궁역 7번출구 앞</td>\n",
       "      <td>2</td>\n",
       "      <td>0</td>\n",
       "      <td>2017</td>\n",
       "    </tr>\n",
       "  </tbody>\n",
       "</table>\n",
       "</div>"
      ],
      "text/plain": [
       "     대여일자 대여소번호             대여소  대여건수  반납건수  year\n",
       "0  201701   108         서교동 사거리     3     0  2017\n",
       "1  201701   511    서울숲역 4번 출구 옆     2     2  2017\n",
       "2  201701   109          제일빌딩 앞     2     2  2017\n",
       "3  201701   514   성수사거리 버스정류장 앞     0     1  2017\n",
       "4  201701   301     경복궁역 7번출구 앞     2     0  2017"
      ]
     },
     "execution_count": 249,
     "metadata": {},
     "output_type": "execute_result"
    }
   ],
   "source": [
    "df_data['year'] = df_data['대여일자'].str[:4]\n",
    "df_data.head()"
   ]
  },
  {
   "cell_type": "code",
   "execution_count": 252,
   "metadata": {
    "scrolled": true
   },
   "outputs": [
    {
     "data": {
      "text/html": [
       "<div>\n",
       "<style scoped>\n",
       "    .dataframe tbody tr th:only-of-type {\n",
       "        vertical-align: middle;\n",
       "    }\n",
       "\n",
       "    .dataframe tbody tr th {\n",
       "        vertical-align: top;\n",
       "    }\n",
       "\n",
       "    .dataframe thead th {\n",
       "        text-align: right;\n",
       "    }\n",
       "</style>\n",
       "<table border=\"1\" class=\"dataframe\">\n",
       "  <thead>\n",
       "    <tr style=\"text-align: right;\">\n",
       "      <th></th>\n",
       "      <th>대여일자</th>\n",
       "      <th>대여소번호</th>\n",
       "      <th>대여소</th>\n",
       "      <th>대여건수</th>\n",
       "      <th>반납건수</th>\n",
       "      <th>year</th>\n",
       "      <th>month</th>\n",
       "    </tr>\n",
       "  </thead>\n",
       "  <tbody>\n",
       "    <tr>\n",
       "      <th>2311</th>\n",
       "      <td>202101</td>\n",
       "      <td>NaN</td>\n",
       "      <td>857. 현대 안성타워</td>\n",
       "      <td>3</td>\n",
       "      <td>0</td>\n",
       "      <td>2021</td>\n",
       "      <td>01</td>\n",
       "    </tr>\n",
       "    <tr>\n",
       "      <th>2312</th>\n",
       "      <td>202101</td>\n",
       "      <td>NaN</td>\n",
       "      <td>860.LG한강 자이아파트 앞</td>\n",
       "      <td>2</td>\n",
       "      <td>3</td>\n",
       "      <td>2021</td>\n",
       "      <td>01</td>\n",
       "    </tr>\n",
       "    <tr>\n",
       "      <th>2313</th>\n",
       "      <td>202101</td>\n",
       "      <td>NaN</td>\n",
       "      <td>865.하얏트호텔 앞</td>\n",
       "      <td>2</td>\n",
       "      <td>0</td>\n",
       "      <td>2021</td>\n",
       "      <td>01</td>\n",
       "    </tr>\n",
       "    <tr>\n",
       "      <th>2314</th>\n",
       "      <td>202101</td>\n",
       "      <td>NaN</td>\n",
       "      <td>870.노들섬 서측 앞</td>\n",
       "      <td>4</td>\n",
       "      <td>4</td>\n",
       "      <td>2021</td>\n",
       "      <td>01</td>\n",
       "    </tr>\n",
       "    <tr>\n",
       "      <th>2315</th>\n",
       "      <td>202101</td>\n",
       "      <td>NaN</td>\n",
       "      <td>907. CJ 드림시티</td>\n",
       "      <td>1</td>\n",
       "      <td>1</td>\n",
       "      <td>2021</td>\n",
       "      <td>01</td>\n",
       "    </tr>\n",
       "  </tbody>\n",
       "</table>\n",
       "</div>"
      ],
      "text/plain": [
       "        대여일자 대여소번호               대여소  대여건수  반납건수  year month\n",
       "2311  202101   NaN      857. 현대 안성타워     3     0  2021    01\n",
       "2312  202101   NaN  860.LG한강 자이아파트 앞     2     3  2021    01\n",
       "2313  202101   NaN       865.하얏트호텔 앞     2     0  2021    01\n",
       "2314  202101   NaN      870.노들섬 서측 앞     4     4  2021    01\n",
       "2315  202101   NaN      907. CJ 드림시티     1     1  2021    01"
      ]
     },
     "execution_count": 252,
     "metadata": {},
     "output_type": "execute_result"
    }
   ],
   "source": [
    "df_data['month'] = df_data['대여일자'].str[4:6]\n",
    "df_data.tail()"
   ]
  },
  {
   "cell_type": "code",
   "execution_count": 256,
   "metadata": {
    "scrolled": false
   },
   "outputs": [
    {
     "data": {
      "text/plain": [
       "Text(0.5, 1.02, '2017년 1월부터 2021년 1월까지의 연도별 외국인 따릉이 대여건수')"
      ]
     },
     "execution_count": 256,
     "metadata": {},
     "output_type": "execute_result"
    },
    {
     "data": {
      "image/png": "[encoded data removed]",
      "text/plain": [
       "<Figure size 720x720 with 1 Axes>"
      ]
     },
     "metadata": {
      "needs_background": "light"
     },
     "output_type": "display_data"
    }
   ],
   "source": [
    "figure, ax = plt.subplots(1, 1, figsize=(10, 10))\n",
    "df_data[['year','대여건수']].groupby(['year'], as_index=True).sum().plot.bar(ax=ax)\n",
    "ax.set_title('2017년 1월부터 2021년 1월까지의 연도별 외국인 따릉이 대여건수', y=1.02)"
   ]
  },
  {
   "cell_type": "code",
   "execution_count": 257,
   "metadata": {},
   "outputs": [
    {
     "data": {
      "text/plain": [
       "Text(0.5, 1.02, '2017년 1월부터 2021년 1월까지의 월별 외국인 따릉이 대여건수')"
      ]
     },
     "execution_count": 257,
     "metadata": {},
     "output_type": "execute_result"
    },
    {
     "data": {
      "image/png": "[encoded data removed]",
      "text/plain": [
       "<Figure size 720x720 with 1 Axes>"
      ]
     },
     "metadata": {
      "needs_background": "light"
     },
     "output_type": "display_data"
    }
   ],
   "source": [
    "figure, ax = plt.subplots(1, 1, figsize=(10, 10))\n",
    "df_data[['month','대여건수']].groupby(['month'], as_index=True).sum().plot.bar(ax=ax)\n",
    "ax.set_title('2017년 1월부터 2021년 1월까지의 월별 외국인 따릉이 대여건수', y=1.02)"
   ]
  }
 ],
 "metadata": {
  "kernelspec": {
   "display_name": "Python 3",
   "language": "python",
   "name": "python3"
  },
  "language_info": {
   "codemirror_mode": {
    "name": "ipython",
    "version": 3
   },
   "file_extension": ".py",
   "mimetype": "text/x-python",
   "name": "python",
   "nbconvert_exporter": "python",
   "pygments_lexer": "ipython3",
   "version": "3.8.5"
  }
 },
 "nbformat": 4,
 "nbformat_minor": 4
}
