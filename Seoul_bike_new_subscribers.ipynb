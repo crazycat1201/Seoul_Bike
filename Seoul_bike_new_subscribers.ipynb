{
 "cells": [
  {
   "cell_type": "code",
   "execution_count": 153,
   "metadata": {},
   "outputs": [],
   "source": [
    "import numpy as np\n",
    "import pandas as pd\n",
    "import matplotlib.pyplot as plt\n",
    "import seaborn as sns\n",
    "\n",
    "plt.style.use('seaborn')\n",
    "sns.set(font_scale=2.0)\n",
    "\n",
    "# matplotlib 의 기본 scheme 말고\n",
    "# seaborn scheme 을 세팅하고, 일일이 graph 의 font size 를 지정할 필요 없이 seaborn 의 font_scale 을 사용하면 편합니다."
   ]
  },
  {
   "cell_type": "code",
   "execution_count": 154,
   "metadata": {},
   "outputs": [
    {
     "name": "stdout",
     "output_type": "stream",
     "text": [
      "['NanumGothic']\n"
     ]
    }
   ],
   "source": [
    "import missingno as msno\n",
    "\n",
    "#ignore warnings\n",
    "import warnings\n",
    "warnings.filterwarnings('ignore')\n",
    "\n",
    "# 폰트 설정 방법 1\n",
    "import matplotlib.pyplot as plt\n",
    "\n",
    "# matplotlib 폰트설정\n",
    "# plt.rc('font', family='NanumGothicOTF') # For MacOS\n",
    "plt.rc('font', family='NanumGothic') # For Windows\n",
    "print(plt.rcParams['font.family'])\n",
    "\n",
    "%matplotlib inline\n",
    "# 브라우저에서 바로 이미지를 그린다."
   ]
  },
  {
   "cell_type": "code",
   "execution_count": 155,
   "metadata": {},
   "outputs": [],
   "source": [
    "directory = 'C:/Users/1/Dropbox/work/따릉이/서울특별시 공공자전거 신규가입자 정보(일별)/'"
   ]
  },
  {
   "cell_type": "code",
   "execution_count": 156,
   "metadata": {
    "scrolled": false
   },
   "outputs": [
    {
     "data": {
      "text/html": [
       "<div>\n",
       "<style scoped>\n",
       "    .dataframe tbody tr th:only-of-type {\n",
       "        vertical-align: middle;\n",
       "    }\n",
       "\n",
       "    .dataframe tbody tr th {\n",
       "        vertical-align: top;\n",
       "    }\n",
       "\n",
       "    .dataframe thead th {\n",
       "        text-align: right;\n",
       "    }\n",
       "</style>\n",
       "<table border=\"1\" class=\"dataframe\">\n",
       "  <thead>\n",
       "    <tr style=\"text-align: right;\">\n",
       "      <th></th>\n",
       "      <th>'대여일자'</th>\n",
       "      <th>'사용자코드'</th>\n",
       "      <th>'성별'</th>\n",
       "      <th>'연령대코드'</th>\n",
       "      <th>'신규가입자수'</th>\n",
       "    </tr>\n",
       "  </thead>\n",
       "  <tbody>\n",
       "    <tr>\n",
       "      <th>0</th>\n",
       "      <td>'2017-01-01'</td>\n",
       "      <td>'회원-내국인'</td>\n",
       "      <td>'F'</td>\n",
       "      <td>'~10대'</td>\n",
       "      <td>3</td>\n",
       "    </tr>\n",
       "    <tr>\n",
       "      <th>1</th>\n",
       "      <td>'2017-01-01'</td>\n",
       "      <td>'회원-내국인'</td>\n",
       "      <td>'M'</td>\n",
       "      <td>'~10대'</td>\n",
       "      <td>3</td>\n",
       "    </tr>\n",
       "    <tr>\n",
       "      <th>2</th>\n",
       "      <td>'2017-01-01'</td>\n",
       "      <td>'회원-내국인'</td>\n",
       "      <td>'F'</td>\n",
       "      <td>'20대'</td>\n",
       "      <td>53</td>\n",
       "    </tr>\n",
       "    <tr>\n",
       "      <th>3</th>\n",
       "      <td>'2017-01-01'</td>\n",
       "      <td>'회원-내국인'</td>\n",
       "      <td>'M'</td>\n",
       "      <td>'20대'</td>\n",
       "      <td>58</td>\n",
       "    </tr>\n",
       "    <tr>\n",
       "      <th>4</th>\n",
       "      <td>'2017-01-01'</td>\n",
       "      <td>'회원-내국인'</td>\n",
       "      <td>'F'</td>\n",
       "      <td>'30대'</td>\n",
       "      <td>16</td>\n",
       "    </tr>\n",
       "  </tbody>\n",
       "</table>\n",
       "</div>"
      ],
      "text/plain": [
       "         '대여일자'   '사용자코드' '성별' '연령대코드'  '신규가입자수'\n",
       "0  '2017-01-01'  '회원-내국인'  'F'  '~10대'         3\n",
       "1  '2017-01-01'  '회원-내국인'  'M'  '~10대'         3\n",
       "2  '2017-01-01'  '회원-내국인'  'F'   '20대'        53\n",
       "3  '2017-01-01'  '회원-내국인'  'M'   '20대'        58\n",
       "4  '2017-01-01'  '회원-내국인'  'F'   '30대'        16"
      ]
     },
     "execution_count": 156,
     "metadata": {},
     "output_type": "execute_result"
    }
   ],
   "source": [
    "df_2017 = pd.read_csv(f'{directory}서울특별시 공공자전거 신규가입자 정보(일별)_2017년.csv', encoding='cp949')\n",
    "df_2017.head()"
   ]
  },
  {
   "cell_type": "code",
   "execution_count": 157,
   "metadata": {},
   "outputs": [
    {
     "data": {
      "text/html": [
       "<div>\n",
       "<style scoped>\n",
       "    .dataframe tbody tr th:only-of-type {\n",
       "        vertical-align: middle;\n",
       "    }\n",
       "\n",
       "    .dataframe tbody tr th {\n",
       "        vertical-align: top;\n",
       "    }\n",
       "\n",
       "    .dataframe thead th {\n",
       "        text-align: right;\n",
       "    }\n",
       "</style>\n",
       "<table border=\"1\" class=\"dataframe\">\n",
       "  <thead>\n",
       "    <tr style=\"text-align: right;\">\n",
       "      <th></th>\n",
       "      <th>가입일자</th>\n",
       "      <th>사용자코드</th>\n",
       "      <th>성별</th>\n",
       "      <th>연령대코드</th>\n",
       "      <th>신규가입자수</th>\n",
       "    </tr>\n",
       "  </thead>\n",
       "  <tbody>\n",
       "    <tr>\n",
       "      <th>0</th>\n",
       "      <td>'2017-01-01'</td>\n",
       "      <td>'회원-내국인'</td>\n",
       "      <td>'F'</td>\n",
       "      <td>'~10대'</td>\n",
       "      <td>3</td>\n",
       "    </tr>\n",
       "    <tr>\n",
       "      <th>1</th>\n",
       "      <td>'2017-01-01'</td>\n",
       "      <td>'회원-내국인'</td>\n",
       "      <td>'M'</td>\n",
       "      <td>'~10대'</td>\n",
       "      <td>3</td>\n",
       "    </tr>\n",
       "    <tr>\n",
       "      <th>2</th>\n",
       "      <td>'2017-01-01'</td>\n",
       "      <td>'회원-내국인'</td>\n",
       "      <td>'F'</td>\n",
       "      <td>'20대'</td>\n",
       "      <td>53</td>\n",
       "    </tr>\n",
       "    <tr>\n",
       "      <th>3</th>\n",
       "      <td>'2017-01-01'</td>\n",
       "      <td>'회원-내국인'</td>\n",
       "      <td>'M'</td>\n",
       "      <td>'20대'</td>\n",
       "      <td>58</td>\n",
       "    </tr>\n",
       "    <tr>\n",
       "      <th>4</th>\n",
       "      <td>'2017-01-01'</td>\n",
       "      <td>'회원-내국인'</td>\n",
       "      <td>'F'</td>\n",
       "      <td>'30대'</td>\n",
       "      <td>16</td>\n",
       "    </tr>\n",
       "  </tbody>\n",
       "</table>\n",
       "</div>"
      ],
      "text/plain": [
       "           가입일자     사용자코드   성별   연령대코드  신규가입자수\n",
       "0  '2017-01-01'  '회원-내국인'  'F'  '~10대'       3\n",
       "1  '2017-01-01'  '회원-내국인'  'M'  '~10대'       3\n",
       "2  '2017-01-01'  '회원-내국인'  'F'   '20대'      53\n",
       "3  '2017-01-01'  '회원-내국인'  'M'   '20대'      58\n",
       "4  '2017-01-01'  '회원-내국인'  'F'   '30대'      16"
      ]
     },
     "execution_count": 157,
     "metadata": {},
     "output_type": "execute_result"
    }
   ],
   "source": [
    "df_2017.columns = ['가입일자','사용자코드','성별','연령대코드','신규가입자수']\n",
    "df_2017.head()"
   ]
  },
  {
   "cell_type": "markdown",
   "metadata": {},
   "source": [
    "- column 이름이 \"'대여일자'\" 이런 식으로 되어 있어서 다루기가 까다로움\n",
    "- column 이름 변경"
   ]
  },
  {
   "cell_type": "code",
   "execution_count": 158,
   "metadata": {
    "scrolled": true
   },
   "outputs": [
    {
     "data": {
      "text/plain": [
       "array([\"'회원-내국인'\", \"'회원-외국인관광객'\"], dtype=object)"
      ]
     },
     "execution_count": 158,
     "metadata": {},
     "output_type": "execute_result"
    }
   ],
   "source": [
    "df_2017['사용자코드'].unique()"
   ]
  },
  {
   "cell_type": "markdown",
   "metadata": {},
   "source": [
    "- 외국인 관광객의 경우 정기권을 가입할 수 없는 것으로 아는데, 2017년 데이터에는 외국인 관광객이 나타나고 있음"
   ]
  },
  {
   "cell_type": "code",
   "execution_count": 159,
   "metadata": {},
   "outputs": [
    {
     "data": {
      "image/png": "[encoded data removed]",
      "text/plain": [
       "<Figure size 1296x576 with 1 Axes>"
      ]
     },
     "metadata": {},
     "output_type": "display_data"
    }
   ],
   "source": [
    "# 1 x 1 꼴의 도화지 준비\n",
    "figure, ax = plt.subplots(1, 1, figsize=(18, 8))\n",
    "\n",
    "explode=[0, 0.1] # 중간에서 떨어진 정도\n",
    "# autopct : 소수점 자리 표현\n",
    "\n",
    "df_2017['사용자코드'].value_counts().plot.pie(explode=explode, autopct='%.2f%%', ax=ax, shadow=True, fontsize = 30)\n",
    "ax.set_title('Pie plot - Foreigner ratio')\n",
    "ax.set_ylabel('')\n",
    "\n",
    "plt.show()"
   ]
  },
  {
   "cell_type": "markdown",
   "metadata": {},
   "source": [
    "- Pie plot을 그려보니, 외국인 관광객 비율이 20%로 꽤 높은 것을 알 수 있음"
   ]
  },
  {
   "cell_type": "code",
   "execution_count": 160,
   "metadata": {},
   "outputs": [
    {
     "data": {
      "text/plain": [
       "array([\"'~10대'\", \"'20대'\", \"'30대'\", \"'40대'\", \"'50대'\", \"'60대'\", \"'70대~'\"],\n",
       "      dtype=object)"
      ]
     },
     "execution_count": 160,
     "metadata": {},
     "output_type": "execute_result"
    }
   ],
   "source": [
    "df_2017['연령대코드'].unique()"
   ]
  },
  {
   "cell_type": "markdown",
   "metadata": {},
   "source": [
    "- 마찬가지로 data들이 \"'201701'\" 이런 식으로 되어 있어서 다루기가 까다로움\n",
    "- replace와 정규표현식을 사용하여 앞뒤의 ' 를 제거할 수 있을 것 같음\n",
    "- 또는 strip을 사용할 수도 있을 것 같음"
   ]
  },
  {
   "cell_type": "code",
   "execution_count": 161,
   "metadata": {
    "scrolled": true
   },
   "outputs": [
    {
     "name": "stdout",
     "output_type": "stream",
     "text": [
      "201701\n"
     ]
    }
   ],
   "source": [
    "a =  \"'201701'\"\n",
    "b = a.strip(\"'\")\n",
    "print(b)"
   ]
  },
  {
   "cell_type": "code",
   "execution_count": 162,
   "metadata": {
    "scrolled": true
   },
   "outputs": [
    {
     "data": {
      "text/html": [
       "<div>\n",
       "<style scoped>\n",
       "    .dataframe tbody tr th:only-of-type {\n",
       "        vertical-align: middle;\n",
       "    }\n",
       "\n",
       "    .dataframe tbody tr th {\n",
       "        vertical-align: top;\n",
       "    }\n",
       "\n",
       "    .dataframe thead th {\n",
       "        text-align: right;\n",
       "    }\n",
       "</style>\n",
       "<table border=\"1\" class=\"dataframe\">\n",
       "  <thead>\n",
       "    <tr style=\"text-align: right;\">\n",
       "      <th></th>\n",
       "      <th>가입일자</th>\n",
       "      <th>사용자코드</th>\n",
       "      <th>성별</th>\n",
       "      <th>연령대코드</th>\n",
       "      <th>신규가입자수</th>\n",
       "    </tr>\n",
       "  </thead>\n",
       "  <tbody>\n",
       "    <tr>\n",
       "      <th>0</th>\n",
       "      <td>2017-01-01</td>\n",
       "      <td>'회원-내국인'</td>\n",
       "      <td>'F'</td>\n",
       "      <td>'~10대'</td>\n",
       "      <td>3</td>\n",
       "    </tr>\n",
       "    <tr>\n",
       "      <th>1</th>\n",
       "      <td>2017-01-01</td>\n",
       "      <td>'회원-내국인'</td>\n",
       "      <td>'M'</td>\n",
       "      <td>'~10대'</td>\n",
       "      <td>3</td>\n",
       "    </tr>\n",
       "    <tr>\n",
       "      <th>2</th>\n",
       "      <td>2017-01-01</td>\n",
       "      <td>'회원-내국인'</td>\n",
       "      <td>'F'</td>\n",
       "      <td>'20대'</td>\n",
       "      <td>53</td>\n",
       "    </tr>\n",
       "    <tr>\n",
       "      <th>3</th>\n",
       "      <td>2017-01-01</td>\n",
       "      <td>'회원-내국인'</td>\n",
       "      <td>'M'</td>\n",
       "      <td>'20대'</td>\n",
       "      <td>58</td>\n",
       "    </tr>\n",
       "    <tr>\n",
       "      <th>4</th>\n",
       "      <td>2017-01-01</td>\n",
       "      <td>'회원-내국인'</td>\n",
       "      <td>'F'</td>\n",
       "      <td>'30대'</td>\n",
       "      <td>16</td>\n",
       "    </tr>\n",
       "  </tbody>\n",
       "</table>\n",
       "</div>"
      ],
      "text/plain": [
       "         가입일자     사용자코드   성별   연령대코드  신규가입자수\n",
       "0  2017-01-01  '회원-내국인'  'F'  '~10대'       3\n",
       "1  2017-01-01  '회원-내국인'  'M'  '~10대'       3\n",
       "2  2017-01-01  '회원-내국인'  'F'   '20대'      53\n",
       "3  2017-01-01  '회원-내국인'  'M'   '20대'      58\n",
       "4  2017-01-01  '회원-내국인'  'F'   '30대'      16"
      ]
     },
     "execution_count": 162,
     "metadata": {},
     "output_type": "execute_result"
    }
   ],
   "source": [
    "df_2017['가입일자'] = df_2017['가입일자'].str.strip(\"'\")\n",
    "df_2017.head()"
   ]
  },
  {
   "cell_type": "code",
   "execution_count": 163,
   "metadata": {},
   "outputs": [
    {
     "data": {
      "text/html": [
       "<div>\n",
       "<style scoped>\n",
       "    .dataframe tbody tr th:only-of-type {\n",
       "        vertical-align: middle;\n",
       "    }\n",
       "\n",
       "    .dataframe tbody tr th {\n",
       "        vertical-align: top;\n",
       "    }\n",
       "\n",
       "    .dataframe thead th {\n",
       "        text-align: right;\n",
       "    }\n",
       "</style>\n",
       "<table border=\"1\" class=\"dataframe\">\n",
       "  <thead>\n",
       "    <tr style=\"text-align: right;\">\n",
       "      <th></th>\n",
       "      <th>가입일자</th>\n",
       "      <th>사용자코드</th>\n",
       "      <th>성별</th>\n",
       "      <th>연령대코드</th>\n",
       "      <th>신규가입자수</th>\n",
       "    </tr>\n",
       "  </thead>\n",
       "  <tbody>\n",
       "    <tr>\n",
       "      <th>0</th>\n",
       "      <td>2017-01-01</td>\n",
       "      <td>회원-내국인</td>\n",
       "      <td>F</td>\n",
       "      <td>~10대</td>\n",
       "      <td>3</td>\n",
       "    </tr>\n",
       "    <tr>\n",
       "      <th>1</th>\n",
       "      <td>2017-01-01</td>\n",
       "      <td>회원-내국인</td>\n",
       "      <td>M</td>\n",
       "      <td>~10대</td>\n",
       "      <td>3</td>\n",
       "    </tr>\n",
       "    <tr>\n",
       "      <th>2</th>\n",
       "      <td>2017-01-01</td>\n",
       "      <td>회원-내국인</td>\n",
       "      <td>F</td>\n",
       "      <td>20대</td>\n",
       "      <td>53</td>\n",
       "    </tr>\n",
       "    <tr>\n",
       "      <th>3</th>\n",
       "      <td>2017-01-01</td>\n",
       "      <td>회원-내국인</td>\n",
       "      <td>M</td>\n",
       "      <td>20대</td>\n",
       "      <td>58</td>\n",
       "    </tr>\n",
       "    <tr>\n",
       "      <th>4</th>\n",
       "      <td>2017-01-01</td>\n",
       "      <td>회원-내국인</td>\n",
       "      <td>F</td>\n",
       "      <td>30대</td>\n",
       "      <td>16</td>\n",
       "    </tr>\n",
       "  </tbody>\n",
       "</table>\n",
       "</div>"
      ],
      "text/plain": [
       "         가입일자   사용자코드 성별 연령대코드  신규가입자수\n",
       "0  2017-01-01  회원-내국인  F  ~10대       3\n",
       "1  2017-01-01  회원-내국인  M  ~10대       3\n",
       "2  2017-01-01  회원-내국인  F   20대      53\n",
       "3  2017-01-01  회원-내국인  M   20대      58\n",
       "4  2017-01-01  회원-내국인  F   30대      16"
      ]
     },
     "execution_count": 163,
     "metadata": {},
     "output_type": "execute_result"
    }
   ],
   "source": [
    "df_2017['사용자코드'] = df_2017['사용자코드'].str.strip(\"'\")\n",
    "df_2017['성별'] = df_2017['성별'].str.strip(\"'\")\n",
    "df_2017['연령대코드'] = df_2017['연령대코드'].str.strip(\"'\")\n",
    "df_2017.head()"
   ]
  },
  {
   "cell_type": "markdown",
   "metadata": {},
   "source": [
    "- 마찬가지로 다른 column들도 처리"
   ]
  },
  {
   "cell_type": "code",
   "execution_count": 164,
   "metadata": {
    "scrolled": true
   },
   "outputs": [
    {
     "data": {
      "text/plain": [
       "<AxesSubplot:>"
      ]
     },
     "execution_count": 164,
     "metadata": {},
     "output_type": "execute_result"
    },
    {
     "data": {
      "image/png": "[encoded data removed]",
      "text/plain": [
       "<Figure size 576x576 with 2 Axes>"
      ]
     },
     "metadata": {
      "needs_background": "light"
     },
     "output_type": "display_data"
    }
   ],
   "source": [
    "msno.matrix(df=df_2017.iloc[:,:], figsize=(8, 8), color=(0.8, 0.5, 0.2))"
   ]
  },
  {
   "cell_type": "code",
   "execution_count": 165,
   "metadata": {
    "scrolled": true
   },
   "outputs": [
    {
     "data": {
      "text/plain": [
       "Index(['가입일자', '사용자코드', '성별', '연령대코드', '신규가입자수'], dtype='object')"
      ]
     },
     "execution_count": 165,
     "metadata": {},
     "output_type": "execute_result"
    }
   ],
   "source": [
    "df_2017.columns"
   ]
  },
  {
   "cell_type": "code",
   "execution_count": 166,
   "metadata": {},
   "outputs": [
    {
     "data": {
      "text/plain": [
       "가입일자      0\n",
       "사용자코드     0\n",
       "성별        0\n",
       "연령대코드     0\n",
       "신규가입자수    0\n",
       "dtype: int64"
      ]
     },
     "execution_count": 166,
     "metadata": {},
     "output_type": "execute_result"
    }
   ],
   "source": [
    "df_2017.isnull().sum()"
   ]
  },
  {
   "cell_type": "code",
   "execution_count": 167,
   "metadata": {
    "scrolled": true
   },
   "outputs": [
    {
     "name": "stdout",
     "output_type": "stream",
     "text": [
      "column:    가입일자   \t Percent of NaN value: 0.00\n",
      "column:   사용자코드   \t Percent of NaN value: 0.00\n",
      "column:     성별    \t Percent of NaN value: 0.00\n",
      "column:   연령대코드   \t Percent of NaN value: 0.00\n",
      "column:   신규가입자수  \t Percent of NaN value: 0.00\n"
     ]
    }
   ],
   "source": [
    "for col in df_2017.columns:\n",
    "    msg = 'column: {:^10}\\t Percent of NaN value: {:.2f}'.format(col, 100 * (df_2017[col].isnull().sum() / len(df_2017[col])))\n",
    "    print(msg)"
   ]
  },
  {
   "cell_type": "code",
   "execution_count": 168,
   "metadata": {
    "scrolled": false
   },
   "outputs": [
    {
     "data": {
      "text/plain": [
       "(5825, 5)"
      ]
     },
     "execution_count": 168,
     "metadata": {},
     "output_type": "execute_result"
    }
   ],
   "source": [
    "df_2017.shape"
   ]
  },
  {
   "cell_type": "code",
   "execution_count": 169,
   "metadata": {
    "scrolled": true
   },
   "outputs": [
    {
     "data": {
      "text/plain": [
       "array(['2017-01-01', '2017-01-02', '2017-01-03', '2017-01-04',\n",
       "       '2017-01-05', '2017-01-06', '2017-01-07', '2017-01-08',\n",
       "       '2017-01-09', '2017-01-10', '2017-01-11', '2017-01-12',\n",
       "       '2017-01-13', '2017-01-14', '2017-01-15', '2017-01-16',\n",
       "       '2017-01-17', '2017-01-18', '2017-01-19', '2017-01-20',\n",
       "       '2017-01-21', '2017-01-22', '2017-01-23', '2017-01-24',\n",
       "       '2017-01-25', '2017-01-26', '2017-01-27', '2017-01-28',\n",
       "       '2017-01-29', '2017-01-30', '2017-01-31', '2017-02-01',\n",
       "       '2017-02-02', '2017-02-03', '2017-02-04', '2017-02-05',\n",
       "       '2017-02-06', '2017-02-07', '2017-02-08', '2017-02-09',\n",
       "       '2017-02-10', '2017-02-11', '2017-02-12', '2017-02-13',\n",
       "       '2017-02-14', '2017-02-15', '2017-02-16', '2017-02-17',\n",
       "       '2017-02-18', '2017-02-19', '2017-02-20', '2017-02-21',\n",
       "       '2017-02-22', '2017-02-23', '2017-02-24', '2017-02-25',\n",
       "       '2017-02-26', '2017-02-27', '2017-02-28', '2017-03-01',\n",
       "       '2017-03-02', '2017-03-03', '2017-03-04', '2017-03-05',\n",
       "       '2017-03-06', '2017-03-07', '2017-03-08', '2017-03-09',\n",
       "       '2017-03-10', '2017-03-11', '2017-03-12', '2017-03-13',\n",
       "       '2017-03-14', '2017-03-15', '2017-03-16', '2017-03-17',\n",
       "       '2017-03-18', '2017-03-19', '2017-03-20', '2017-03-21',\n",
       "       '2017-03-22', '2017-03-23', '2017-03-24', '2017-03-25',\n",
       "       '2017-03-26', '2017-03-27', '2017-03-28', '2017-03-29',\n",
       "       '2017-03-30', '2017-03-31', '2017-04-01', '2017-04-02',\n",
       "       '2017-04-03', '2017-04-04', '2017-04-05', '2017-04-06',\n",
       "       '2017-04-07', '2017-04-08', '2017-04-09', '2017-04-10',\n",
       "       '2017-04-11', '2017-04-12', '2017-04-13', '2017-04-14',\n",
       "       '2017-04-15', '2017-04-16', '2017-04-17', '2017-04-18',\n",
       "       '2017-04-19', '2017-04-20', '2017-04-21', '2017-04-22',\n",
       "       '2017-04-23', '2017-04-24', '2017-04-25', '2017-04-26',\n",
       "       '2017-04-27', '2017-04-28', '2017-04-29', '2017-04-30',\n",
       "       '2017-05-01', '2017-05-02', '2017-05-03', '2017-05-04',\n",
       "       '2017-05-05', '2017-05-06', '2017-05-07', '2017-05-08',\n",
       "       '2017-05-09', '2017-05-10', '2017-05-11', '2017-05-12',\n",
       "       '2017-05-13', '2017-05-14', '2017-05-15', '2017-05-16',\n",
       "       '2017-05-17', '2017-05-18', '2017-05-19', '2017-05-20',\n",
       "       '2017-05-21', '2017-05-22', '2017-05-23', '2017-05-24',\n",
       "       '2017-05-25', '2017-05-26', '2017-05-27', '2017-05-28',\n",
       "       '2017-05-29', '2017-05-30', '2017-05-31', '2017-06-01',\n",
       "       '2017-06-02', '2017-06-03', '2017-06-04', '2017-06-05',\n",
       "       '2017-06-06', '2017-06-07', '2017-06-08', '2017-06-09',\n",
       "       '2017-06-10', '2017-06-11', '2017-06-12', '2017-06-13',\n",
       "       '2017-06-14', '2017-06-15', '2017-06-16', '2017-06-17',\n",
       "       '2017-06-18', '2017-06-19', '2017-06-20', '2017-06-21',\n",
       "       '2017-06-22', '2017-06-23', '2017-06-24', '2017-06-25',\n",
       "       '2017-06-26', '2017-06-27', '2017-06-28', '2017-06-29',\n",
       "       '2017-06-30', '2017-07-01', '2017-07-02', '2017-07-03',\n",
       "       '2017-07-04', '2017-07-05', '2017-07-06', '2017-07-07',\n",
       "       '2017-07-08', '2017-07-09', '2017-07-10', '2017-07-11',\n",
       "       '2017-07-12', '2017-07-13', '2017-07-14', '2017-07-15',\n",
       "       '2017-07-16', '2017-07-17', '2017-07-18', '2017-07-19',\n",
       "       '2017-07-20', '2017-07-21', '2017-07-22', '2017-07-23',\n",
       "       '2017-07-24', '2017-07-25', '2017-07-26', '2017-07-27',\n",
       "       '2017-07-28', '2017-07-29', '2017-07-30', '2017-07-31',\n",
       "       '2017-08-01', '2017-08-02', '2017-08-03', '2017-08-04',\n",
       "       '2017-08-05', '2017-08-06', '2017-08-07', '2017-08-08',\n",
       "       '2017-08-09', '2017-08-10', '2017-08-11', '2017-08-12',\n",
       "       '2017-08-13', '2017-08-14', '2017-08-15', '2017-08-16',\n",
       "       '2017-08-17', '2017-08-18', '2017-08-19', '2017-08-20',\n",
       "       '2017-08-21', '2017-08-22', '2017-08-23', '2017-08-24',\n",
       "       '2017-08-25', '2017-08-26', '2017-08-27', '2017-08-28',\n",
       "       '2017-08-29', '2017-08-30', '2017-08-31', '2017-09-01',\n",
       "       '2017-09-02', '2017-09-03', '2017-09-04', '2017-09-05',\n",
       "       '2017-09-06', '2017-09-08', '2017-09-09', '2017-09-10',\n",
       "       '2017-09-11', '2017-09-12', '2017-09-13', '2017-09-14',\n",
       "       '2017-09-15', '2017-09-16', '2017-09-17', '2017-09-18',\n",
       "       '2017-09-19', '2017-09-20', '2017-09-21', '2017-09-22',\n",
       "       '2017-09-23', '2017-09-24', '2017-09-25', '2017-09-26',\n",
       "       '2017-09-27', '2017-09-28', '2017-09-29', '2017-09-30',\n",
       "       '2017-10-01', '2017-10-02', '2017-10-03', '2017-10-04',\n",
       "       '2017-10-05', '2017-10-06', '2017-10-07', '2017-10-08',\n",
       "       '2017-10-09', '2017-10-10', '2017-10-11', '2017-10-12',\n",
       "       '2017-10-13', '2017-10-14', '2017-10-15', '2017-10-16',\n",
       "       '2017-10-17', '2017-10-18', '2017-10-19', '2017-10-20',\n",
       "       '2017-10-21', '2017-10-22', '2017-10-23', '2017-10-24',\n",
       "       '2017-10-25', '2017-10-26', '2017-10-27', '2017-10-28',\n",
       "       '2017-10-29', '2017-10-30', '2017-10-31', '2017-11-01',\n",
       "       '2017-11-02', '2017-11-03', '2017-11-04', '2017-11-05',\n",
       "       '2017-11-06', '2017-11-07', '2017-11-08', '2017-11-09',\n",
       "       '2017-11-10', '2017-11-11', '2017-11-12', '2017-11-13',\n",
       "       '2017-11-14', '2017-11-15', '2017-11-16', '2017-11-17',\n",
       "       '2017-11-18', '2017-11-19', '2017-11-20', '2017-11-21',\n",
       "       '2017-11-22', '2017-11-23', '2017-11-24', '2017-11-25',\n",
       "       '2017-11-26', '2017-11-27', '2017-11-28', '2017-11-29',\n",
       "       '2017-11-30', '2017-12-01', '2017-12-02', '2017-12-03',\n",
       "       '2017-12-04', '2017-12-05', '2017-12-06', '2017-12-07',\n",
       "       '2017-12-08', '2017-12-09', '2017-12-10', '2017-12-11',\n",
       "       '2017-12-12', '2017-12-13', '2017-12-14', '2017-12-15',\n",
       "       '2017-12-16', '2017-12-17', '2017-12-18', '2017-12-19',\n",
       "       '2017-12-20', '2017-12-21', '2017-12-22', '2017-12-23',\n",
       "       '2017-12-24', '2017-12-25', '2017-12-26', '2017-12-27',\n",
       "       '2017-12-28', '2017-12-29', '2017-12-30', '2017-12-31'],\n",
       "      dtype=object)"
      ]
     },
     "execution_count": 169,
     "metadata": {},
     "output_type": "execute_result"
    }
   ],
   "source": [
    "df_2017['가입일자'].unique()"
   ]
  },
  {
   "cell_type": "code",
   "execution_count": 170,
   "metadata": {
    "scrolled": false
   },
   "outputs": [
    {
     "name": "stdout",
     "output_type": "stream",
     "text": [
      "<class 'pandas.core.frame.DataFrame'>\n",
      "RangeIndex: 5825 entries, 0 to 5824\n",
      "Data columns (total 5 columns):\n",
      " #   Column  Non-Null Count  Dtype \n",
      "---  ------  --------------  ----- \n",
      " 0   가입일자    5825 non-null   object\n",
      " 1   사용자코드   5825 non-null   object\n",
      " 2   성별      5825 non-null   object\n",
      " 3   연령대코드   5825 non-null   object\n",
      " 4   신규가입자수  5825 non-null   int64 \n",
      "dtypes: int64(1), object(4)\n",
      "memory usage: 227.7+ KB\n"
     ]
    }
   ],
   "source": [
    "df_2017.info()"
   ]
  },
  {
   "cell_type": "code",
   "execution_count": 171,
   "metadata": {},
   "outputs": [],
   "source": [
    "df_2017['가입일자'] = pd.to_datetime(df_2017['가입일자'], infer_datetime_format=True)"
   ]
  },
  {
   "cell_type": "code",
   "execution_count": 172,
   "metadata": {
    "scrolled": true
   },
   "outputs": [
    {
     "name": "stdout",
     "output_type": "stream",
     "text": [
      "<class 'pandas.core.frame.DataFrame'>\n",
      "RangeIndex: 5825 entries, 0 to 5824\n",
      "Data columns (total 5 columns):\n",
      " #   Column  Non-Null Count  Dtype         \n",
      "---  ------  --------------  -----         \n",
      " 0   가입일자    5825 non-null   datetime64[ns]\n",
      " 1   사용자코드   5825 non-null   object        \n",
      " 2   성별      5825 non-null   object        \n",
      " 3   연령대코드   5825 non-null   object        \n",
      " 4   신규가입자수  5825 non-null   int64         \n",
      "dtypes: datetime64[ns](1), int64(1), object(3)\n",
      "memory usage: 227.7+ KB\n"
     ]
    }
   ],
   "source": [
    "df_2017.info()"
   ]
  },
  {
   "cell_type": "code",
   "execution_count": 173,
   "metadata": {
    "scrolled": true
   },
   "outputs": [
    {
     "data": {
      "text/html": [
       "<div>\n",
       "<style scoped>\n",
       "    .dataframe tbody tr th:only-of-type {\n",
       "        vertical-align: middle;\n",
       "    }\n",
       "\n",
       "    .dataframe tbody tr th {\n",
       "        vertical-align: top;\n",
       "    }\n",
       "\n",
       "    .dataframe thead th {\n",
       "        text-align: right;\n",
       "    }\n",
       "</style>\n",
       "<table border=\"1\" class=\"dataframe\">\n",
       "  <thead>\n",
       "    <tr style=\"text-align: right;\">\n",
       "      <th></th>\n",
       "      <th>가입일자</th>\n",
       "      <th>사용자코드</th>\n",
       "      <th>성별</th>\n",
       "      <th>연령대코드</th>\n",
       "      <th>신규가입자수</th>\n",
       "    </tr>\n",
       "  </thead>\n",
       "  <tbody>\n",
       "    <tr>\n",
       "      <th>0</th>\n",
       "      <td>2017-01-01</td>\n",
       "      <td>회원-내국인</td>\n",
       "      <td>F</td>\n",
       "      <td>~10대</td>\n",
       "      <td>3</td>\n",
       "    </tr>\n",
       "    <tr>\n",
       "      <th>1</th>\n",
       "      <td>2017-01-01</td>\n",
       "      <td>회원-내국인</td>\n",
       "      <td>M</td>\n",
       "      <td>~10대</td>\n",
       "      <td>3</td>\n",
       "    </tr>\n",
       "    <tr>\n",
       "      <th>2</th>\n",
       "      <td>2017-01-01</td>\n",
       "      <td>회원-내국인</td>\n",
       "      <td>F</td>\n",
       "      <td>20대</td>\n",
       "      <td>53</td>\n",
       "    </tr>\n",
       "    <tr>\n",
       "      <th>3</th>\n",
       "      <td>2017-01-01</td>\n",
       "      <td>회원-내국인</td>\n",
       "      <td>M</td>\n",
       "      <td>20대</td>\n",
       "      <td>58</td>\n",
       "    </tr>\n",
       "    <tr>\n",
       "      <th>4</th>\n",
       "      <td>2017-01-01</td>\n",
       "      <td>회원-내국인</td>\n",
       "      <td>F</td>\n",
       "      <td>30대</td>\n",
       "      <td>16</td>\n",
       "    </tr>\n",
       "  </tbody>\n",
       "</table>\n",
       "</div>"
      ],
      "text/plain": [
       "        가입일자   사용자코드 성별 연령대코드  신규가입자수\n",
       "0 2017-01-01  회원-내국인  F  ~10대       3\n",
       "1 2017-01-01  회원-내국인  M  ~10대       3\n",
       "2 2017-01-01  회원-내국인  F   20대      53\n",
       "3 2017-01-01  회원-내국인  M   20대      58\n",
       "4 2017-01-01  회원-내국인  F   30대      16"
      ]
     },
     "execution_count": 173,
     "metadata": {},
     "output_type": "execute_result"
    }
   ],
   "source": [
    "df_2017.head()"
   ]
  },
  {
   "cell_type": "code",
   "execution_count": 174,
   "metadata": {
    "scrolled": true
   },
   "outputs": [
    {
     "data": {
      "text/html": [
       "<div>\n",
       "<style scoped>\n",
       "    .dataframe tbody tr th:only-of-type {\n",
       "        vertical-align: middle;\n",
       "    }\n",
       "\n",
       "    .dataframe tbody tr th {\n",
       "        vertical-align: top;\n",
       "    }\n",
       "\n",
       "    .dataframe thead th {\n",
       "        text-align: right;\n",
       "    }\n",
       "</style>\n",
       "<table border=\"1\" class=\"dataframe\">\n",
       "  <thead>\n",
       "    <tr style=\"text-align: right;\">\n",
       "      <th></th>\n",
       "      <th>가입일자</th>\n",
       "      <th>사용자코드</th>\n",
       "      <th>성별</th>\n",
       "      <th>연령대코드</th>\n",
       "      <th>신규가입자수</th>\n",
       "      <th>year</th>\n",
       "    </tr>\n",
       "  </thead>\n",
       "  <tbody>\n",
       "    <tr>\n",
       "      <th>0</th>\n",
       "      <td>2017-01-01</td>\n",
       "      <td>회원-내국인</td>\n",
       "      <td>F</td>\n",
       "      <td>~10대</td>\n",
       "      <td>3</td>\n",
       "      <td>2017</td>\n",
       "    </tr>\n",
       "    <tr>\n",
       "      <th>1</th>\n",
       "      <td>2017-01-01</td>\n",
       "      <td>회원-내국인</td>\n",
       "      <td>M</td>\n",
       "      <td>~10대</td>\n",
       "      <td>3</td>\n",
       "      <td>2017</td>\n",
       "    </tr>\n",
       "    <tr>\n",
       "      <th>2</th>\n",
       "      <td>2017-01-01</td>\n",
       "      <td>회원-내국인</td>\n",
       "      <td>F</td>\n",
       "      <td>20대</td>\n",
       "      <td>53</td>\n",
       "      <td>2017</td>\n",
       "    </tr>\n",
       "    <tr>\n",
       "      <th>3</th>\n",
       "      <td>2017-01-01</td>\n",
       "      <td>회원-내국인</td>\n",
       "      <td>M</td>\n",
       "      <td>20대</td>\n",
       "      <td>58</td>\n",
       "      <td>2017</td>\n",
       "    </tr>\n",
       "    <tr>\n",
       "      <th>4</th>\n",
       "      <td>2017-01-01</td>\n",
       "      <td>회원-내국인</td>\n",
       "      <td>F</td>\n",
       "      <td>30대</td>\n",
       "      <td>16</td>\n",
       "      <td>2017</td>\n",
       "    </tr>\n",
       "  </tbody>\n",
       "</table>\n",
       "</div>"
      ],
      "text/plain": [
       "        가입일자   사용자코드 성별 연령대코드  신규가입자수  year\n",
       "0 2017-01-01  회원-내국인  F  ~10대       3  2017\n",
       "1 2017-01-01  회원-내국인  M  ~10대       3  2017\n",
       "2 2017-01-01  회원-내국인  F   20대      53  2017\n",
       "3 2017-01-01  회원-내국인  M   20대      58  2017\n",
       "4 2017-01-01  회원-내국인  F   30대      16  2017"
      ]
     },
     "execution_count": 174,
     "metadata": {},
     "output_type": "execute_result"
    }
   ],
   "source": [
    "df_2017['year'] = df_2017['가입일자'].dt.year\n",
    "df_2017.head()"
   ]
  },
  {
   "cell_type": "code",
   "execution_count": 175,
   "metadata": {
    "scrolled": true
   },
   "outputs": [
    {
     "data": {
      "text/html": [
       "<div>\n",
       "<style scoped>\n",
       "    .dataframe tbody tr th:only-of-type {\n",
       "        vertical-align: middle;\n",
       "    }\n",
       "\n",
       "    .dataframe tbody tr th {\n",
       "        vertical-align: top;\n",
       "    }\n",
       "\n",
       "    .dataframe thead th {\n",
       "        text-align: right;\n",
       "    }\n",
       "</style>\n",
       "<table border=\"1\" class=\"dataframe\">\n",
       "  <thead>\n",
       "    <tr style=\"text-align: right;\">\n",
       "      <th></th>\n",
       "      <th>가입일자</th>\n",
       "      <th>사용자코드</th>\n",
       "      <th>성별</th>\n",
       "      <th>연령대코드</th>\n",
       "      <th>신규가입자수</th>\n",
       "      <th>year</th>\n",
       "      <th>month</th>\n",
       "    </tr>\n",
       "  </thead>\n",
       "  <tbody>\n",
       "    <tr>\n",
       "      <th>0</th>\n",
       "      <td>2017-01-01</td>\n",
       "      <td>회원-내국인</td>\n",
       "      <td>F</td>\n",
       "      <td>~10대</td>\n",
       "      <td>3</td>\n",
       "      <td>2017</td>\n",
       "      <td>1</td>\n",
       "    </tr>\n",
       "    <tr>\n",
       "      <th>1</th>\n",
       "      <td>2017-01-01</td>\n",
       "      <td>회원-내국인</td>\n",
       "      <td>M</td>\n",
       "      <td>~10대</td>\n",
       "      <td>3</td>\n",
       "      <td>2017</td>\n",
       "      <td>1</td>\n",
       "    </tr>\n",
       "    <tr>\n",
       "      <th>2</th>\n",
       "      <td>2017-01-01</td>\n",
       "      <td>회원-내국인</td>\n",
       "      <td>F</td>\n",
       "      <td>20대</td>\n",
       "      <td>53</td>\n",
       "      <td>2017</td>\n",
       "      <td>1</td>\n",
       "    </tr>\n",
       "    <tr>\n",
       "      <th>3</th>\n",
       "      <td>2017-01-01</td>\n",
       "      <td>회원-내국인</td>\n",
       "      <td>M</td>\n",
       "      <td>20대</td>\n",
       "      <td>58</td>\n",
       "      <td>2017</td>\n",
       "      <td>1</td>\n",
       "    </tr>\n",
       "    <tr>\n",
       "      <th>4</th>\n",
       "      <td>2017-01-01</td>\n",
       "      <td>회원-내국인</td>\n",
       "      <td>F</td>\n",
       "      <td>30대</td>\n",
       "      <td>16</td>\n",
       "      <td>2017</td>\n",
       "      <td>1</td>\n",
       "    </tr>\n",
       "  </tbody>\n",
       "</table>\n",
       "</div>"
      ],
      "text/plain": [
       "        가입일자   사용자코드 성별 연령대코드  신규가입자수  year  month\n",
       "0 2017-01-01  회원-내국인  F  ~10대       3  2017      1\n",
       "1 2017-01-01  회원-내국인  M  ~10대       3  2017      1\n",
       "2 2017-01-01  회원-내국인  F   20대      53  2017      1\n",
       "3 2017-01-01  회원-내국인  M   20대      58  2017      1\n",
       "4 2017-01-01  회원-내국인  F   30대      16  2017      1"
      ]
     },
     "execution_count": 175,
     "metadata": {},
     "output_type": "execute_result"
    }
   ],
   "source": [
    "df_2017['month'] = df_2017['가입일자'].dt.month\n",
    "df_2017.head()"
   ]
  },
  {
   "cell_type": "code",
   "execution_count": 176,
   "metadata": {
    "scrolled": true
   },
   "outputs": [
    {
     "data": {
      "text/html": [
       "<div>\n",
       "<style scoped>\n",
       "    .dataframe tbody tr th:only-of-type {\n",
       "        vertical-align: middle;\n",
       "    }\n",
       "\n",
       "    .dataframe tbody tr th {\n",
       "        vertical-align: top;\n",
       "    }\n",
       "\n",
       "    .dataframe thead th {\n",
       "        text-align: right;\n",
       "    }\n",
       "</style>\n",
       "<table border=\"1\" class=\"dataframe\">\n",
       "  <thead>\n",
       "    <tr style=\"text-align: right;\">\n",
       "      <th></th>\n",
       "      <th>가입일자</th>\n",
       "      <th>사용자코드</th>\n",
       "      <th>성별</th>\n",
       "      <th>연령대코드</th>\n",
       "      <th>신규가입자수</th>\n",
       "      <th>year</th>\n",
       "      <th>month</th>\n",
       "      <th>Day of the week</th>\n",
       "    </tr>\n",
       "  </thead>\n",
       "  <tbody>\n",
       "    <tr>\n",
       "      <th>0</th>\n",
       "      <td>2017-01-01</td>\n",
       "      <td>회원-내국인</td>\n",
       "      <td>F</td>\n",
       "      <td>~10대</td>\n",
       "      <td>3</td>\n",
       "      <td>2017</td>\n",
       "      <td>1</td>\n",
       "      <td>6</td>\n",
       "    </tr>\n",
       "    <tr>\n",
       "      <th>1</th>\n",
       "      <td>2017-01-01</td>\n",
       "      <td>회원-내국인</td>\n",
       "      <td>M</td>\n",
       "      <td>~10대</td>\n",
       "      <td>3</td>\n",
       "      <td>2017</td>\n",
       "      <td>1</td>\n",
       "      <td>6</td>\n",
       "    </tr>\n",
       "    <tr>\n",
       "      <th>2</th>\n",
       "      <td>2017-01-01</td>\n",
       "      <td>회원-내국인</td>\n",
       "      <td>F</td>\n",
       "      <td>20대</td>\n",
       "      <td>53</td>\n",
       "      <td>2017</td>\n",
       "      <td>1</td>\n",
       "      <td>6</td>\n",
       "    </tr>\n",
       "    <tr>\n",
       "      <th>3</th>\n",
       "      <td>2017-01-01</td>\n",
       "      <td>회원-내국인</td>\n",
       "      <td>M</td>\n",
       "      <td>20대</td>\n",
       "      <td>58</td>\n",
       "      <td>2017</td>\n",
       "      <td>1</td>\n",
       "      <td>6</td>\n",
       "    </tr>\n",
       "    <tr>\n",
       "      <th>4</th>\n",
       "      <td>2017-01-01</td>\n",
       "      <td>회원-내국인</td>\n",
       "      <td>F</td>\n",
       "      <td>30대</td>\n",
       "      <td>16</td>\n",
       "      <td>2017</td>\n",
       "      <td>1</td>\n",
       "      <td>6</td>\n",
       "    </tr>\n",
       "  </tbody>\n",
       "</table>\n",
       "</div>"
      ],
      "text/plain": [
       "        가입일자   사용자코드 성별 연령대코드  신규가입자수  year  month  Day of the week\n",
       "0 2017-01-01  회원-내국인  F  ~10대       3  2017      1                6\n",
       "1 2017-01-01  회원-내국인  M  ~10대       3  2017      1                6\n",
       "2 2017-01-01  회원-내국인  F   20대      53  2017      1                6\n",
       "3 2017-01-01  회원-내국인  M   20대      58  2017      1                6\n",
       "4 2017-01-01  회원-내국인  F   30대      16  2017      1                6"
      ]
     },
     "execution_count": 176,
     "metadata": {},
     "output_type": "execute_result"
    }
   ],
   "source": [
    "df_2017['Day of the week'] = df_2017['가입일자'].dt.weekday\n",
    "df_2017.head()"
   ]
  },
  {
   "cell_type": "markdown",
   "metadata": {},
   "source": [
    "- 숫자-요일 (0-월, 1-화, , , 6-일)"
   ]
  },
  {
   "cell_type": "code",
   "execution_count": 177,
   "metadata": {
    "scrolled": false
   },
   "outputs": [
    {
     "data": {
      "text/plain": [
       "<AxesSubplot:xlabel='month'>"
      ]
     },
     "execution_count": 177,
     "metadata": {},
     "output_type": "execute_result"
    },
    {
     "data": {
      "image/png": "[encoded data removed]",
      "text/plain": [
       "<Figure size 504x504 with 1 Axes>"
      ]
     },
     "metadata": {
      "needs_background": "light"
     },
     "output_type": "display_data"
    }
   ],
   "source": [
    "figure, ax = plt.subplots(1, 1, figsize=(7, 7))\n",
    "df_2017[['month','신규가입자수']].groupby(['month'], as_index=True).sum().sort_values(by='month', ascending=True).plot.bar(ax=ax)"
   ]
  },
  {
   "cell_type": "markdown",
   "metadata": {},
   "source": [
    "- 날씨가 추운 겨울에는 내외국인에 관계없이 따릉이 이용이 상대적으로 적을 것을 예상할 수 있다\n",
    "- 한여름에는 따릉이 이용이 상대적으로 적음\n",
    "- 자전거 타기에 적당한 날씨인 봄과 가을에 외국인의 따릉이 대여건수가 많음\n",
    "- 외국인의 따릉이 대여건수가 시간에 따라 증가하는 추세를 보이는지 확인하기 위해서는 2018년, 2019년 등 이후의 데이터를 추가 분석해봐야 함"
   ]
  },
  {
   "cell_type": "code",
   "execution_count": 178,
   "metadata": {
    "scrolled": true
   },
   "outputs": [
    {
     "data": {
      "text/html": [
       "<div>\n",
       "<style scoped>\n",
       "    .dataframe tbody tr th:only-of-type {\n",
       "        vertical-align: middle;\n",
       "    }\n",
       "\n",
       "    .dataframe tbody tr th {\n",
       "        vertical-align: top;\n",
       "    }\n",
       "\n",
       "    .dataframe thead th {\n",
       "        text-align: right;\n",
       "    }\n",
       "</style>\n",
       "<table border=\"1\" class=\"dataframe\">\n",
       "  <thead>\n",
       "    <tr style=\"text-align: right;\">\n",
       "      <th></th>\n",
       "      <th>'대여일자'</th>\n",
       "      <th>'사용자코드'</th>\n",
       "      <th>'성별'</th>\n",
       "      <th>'연령대코드'</th>\n",
       "      <th>'신규가입자수'</th>\n",
       "    </tr>\n",
       "  </thead>\n",
       "  <tbody>\n",
       "    <tr>\n",
       "      <th>0</th>\n",
       "      <td>'2018-01-01'</td>\n",
       "      <td>'회원-내국인'</td>\n",
       "      <td>'F'</td>\n",
       "      <td>'~10대'</td>\n",
       "      <td>7</td>\n",
       "    </tr>\n",
       "    <tr>\n",
       "      <th>1</th>\n",
       "      <td>'2018-01-01'</td>\n",
       "      <td>'회원-내국인'</td>\n",
       "      <td>'M'</td>\n",
       "      <td>'~10대'</td>\n",
       "      <td>9</td>\n",
       "    </tr>\n",
       "    <tr>\n",
       "      <th>2</th>\n",
       "      <td>'2018-01-01'</td>\n",
       "      <td>'회원-내국인'</td>\n",
       "      <td>'F'</td>\n",
       "      <td>'20대'</td>\n",
       "      <td>58</td>\n",
       "    </tr>\n",
       "    <tr>\n",
       "      <th>3</th>\n",
       "      <td>'2018-01-01'</td>\n",
       "      <td>'회원-내국인'</td>\n",
       "      <td>'M'</td>\n",
       "      <td>'20대'</td>\n",
       "      <td>81</td>\n",
       "    </tr>\n",
       "    <tr>\n",
       "      <th>4</th>\n",
       "      <td>'2018-01-01'</td>\n",
       "      <td>'회원-내국인'</td>\n",
       "      <td>'F'</td>\n",
       "      <td>'30대'</td>\n",
       "      <td>32</td>\n",
       "    </tr>\n",
       "  </tbody>\n",
       "</table>\n",
       "</div>"
      ],
      "text/plain": [
       "         '대여일자'   '사용자코드' '성별' '연령대코드'  '신규가입자수'\n",
       "0  '2018-01-01'  '회원-내국인'  'F'  '~10대'         7\n",
       "1  '2018-01-01'  '회원-내국인'  'M'  '~10대'         9\n",
       "2  '2018-01-01'  '회원-내국인'  'F'   '20대'        58\n",
       "3  '2018-01-01'  '회원-내국인'  'M'   '20대'        81\n",
       "4  '2018-01-01'  '회원-내국인'  'F'   '30대'        32"
      ]
     },
     "execution_count": 178,
     "metadata": {},
     "output_type": "execute_result"
    }
   ],
   "source": [
    "df_2018_1 = pd.read_csv(f'{directory}서울특별시 공공자전거 신규가입자 정보(일별)_2018년.csv', encoding='cp949')\n",
    "df_2018_1.head()"
   ]
  },
  {
   "cell_type": "code",
   "execution_count": 179,
   "metadata": {},
   "outputs": [
    {
     "data": {
      "text/html": [
       "<div>\n",
       "<style scoped>\n",
       "    .dataframe tbody tr th:only-of-type {\n",
       "        vertical-align: middle;\n",
       "    }\n",
       "\n",
       "    .dataframe tbody tr th {\n",
       "        vertical-align: top;\n",
       "    }\n",
       "\n",
       "    .dataframe thead th {\n",
       "        text-align: right;\n",
       "    }\n",
       "</style>\n",
       "<table border=\"1\" class=\"dataframe\">\n",
       "  <thead>\n",
       "    <tr style=\"text-align: right;\">\n",
       "      <th></th>\n",
       "      <th>가입일자</th>\n",
       "      <th>사용자코드</th>\n",
       "      <th>성별</th>\n",
       "      <th>연령대코드</th>\n",
       "      <th>신규가입자수</th>\n",
       "    </tr>\n",
       "  </thead>\n",
       "  <tbody>\n",
       "    <tr>\n",
       "      <th>0</th>\n",
       "      <td>'2018-01-01'</td>\n",
       "      <td>'회원-내국인'</td>\n",
       "      <td>'F'</td>\n",
       "      <td>'~10대'</td>\n",
       "      <td>7</td>\n",
       "    </tr>\n",
       "    <tr>\n",
       "      <th>1</th>\n",
       "      <td>'2018-01-01'</td>\n",
       "      <td>'회원-내국인'</td>\n",
       "      <td>'M'</td>\n",
       "      <td>'~10대'</td>\n",
       "      <td>9</td>\n",
       "    </tr>\n",
       "    <tr>\n",
       "      <th>2</th>\n",
       "      <td>'2018-01-01'</td>\n",
       "      <td>'회원-내국인'</td>\n",
       "      <td>'F'</td>\n",
       "      <td>'20대'</td>\n",
       "      <td>58</td>\n",
       "    </tr>\n",
       "    <tr>\n",
       "      <th>3</th>\n",
       "      <td>'2018-01-01'</td>\n",
       "      <td>'회원-내국인'</td>\n",
       "      <td>'M'</td>\n",
       "      <td>'20대'</td>\n",
       "      <td>81</td>\n",
       "    </tr>\n",
       "    <tr>\n",
       "      <th>4</th>\n",
       "      <td>'2018-01-01'</td>\n",
       "      <td>'회원-내국인'</td>\n",
       "      <td>'F'</td>\n",
       "      <td>'30대'</td>\n",
       "      <td>32</td>\n",
       "    </tr>\n",
       "  </tbody>\n",
       "</table>\n",
       "</div>"
      ],
      "text/plain": [
       "           가입일자     사용자코드   성별   연령대코드  신규가입자수\n",
       "0  '2018-01-01'  '회원-내국인'  'F'  '~10대'       7\n",
       "1  '2018-01-01'  '회원-내국인'  'M'  '~10대'       9\n",
       "2  '2018-01-01'  '회원-내국인'  'F'   '20대'      58\n",
       "3  '2018-01-01'  '회원-내국인'  'M'   '20대'      81\n",
       "4  '2018-01-01'  '회원-내국인'  'F'   '30대'      32"
      ]
     },
     "execution_count": 179,
     "metadata": {},
     "output_type": "execute_result"
    }
   ],
   "source": [
    "df_2018_1.columns = ['가입일자','사용자코드','성별','연령대코드','신규가입자수']\n",
    "df_2018_1.head()"
   ]
  },
  {
   "cell_type": "code",
   "execution_count": 180,
   "metadata": {
    "scrolled": false
   },
   "outputs": [
    {
     "data": {
      "text/html": [
       "<div>\n",
       "<style scoped>\n",
       "    .dataframe tbody tr th:only-of-type {\n",
       "        vertical-align: middle;\n",
       "    }\n",
       "\n",
       "    .dataframe tbody tr th {\n",
       "        vertical-align: top;\n",
       "    }\n",
       "\n",
       "    .dataframe thead th {\n",
       "        text-align: right;\n",
       "    }\n",
       "</style>\n",
       "<table border=\"1\" class=\"dataframe\">\n",
       "  <thead>\n",
       "    <tr style=\"text-align: right;\">\n",
       "      <th></th>\n",
       "      <th>가입일자</th>\n",
       "      <th>사용자코드</th>\n",
       "      <th>성별</th>\n",
       "      <th>연령대코드</th>\n",
       "      <th>신규가입자수</th>\n",
       "    </tr>\n",
       "  </thead>\n",
       "  <tbody>\n",
       "    <tr>\n",
       "      <th>0</th>\n",
       "      <td>2018-01-01</td>\n",
       "      <td>회원-내국인</td>\n",
       "      <td>F</td>\n",
       "      <td>~10대</td>\n",
       "      <td>7</td>\n",
       "    </tr>\n",
       "    <tr>\n",
       "      <th>1</th>\n",
       "      <td>2018-01-01</td>\n",
       "      <td>회원-내국인</td>\n",
       "      <td>M</td>\n",
       "      <td>~10대</td>\n",
       "      <td>9</td>\n",
       "    </tr>\n",
       "    <tr>\n",
       "      <th>2</th>\n",
       "      <td>2018-01-01</td>\n",
       "      <td>회원-내국인</td>\n",
       "      <td>F</td>\n",
       "      <td>20대</td>\n",
       "      <td>58</td>\n",
       "    </tr>\n",
       "    <tr>\n",
       "      <th>3</th>\n",
       "      <td>2018-01-01</td>\n",
       "      <td>회원-내국인</td>\n",
       "      <td>M</td>\n",
       "      <td>20대</td>\n",
       "      <td>81</td>\n",
       "    </tr>\n",
       "    <tr>\n",
       "      <th>4</th>\n",
       "      <td>2018-01-01</td>\n",
       "      <td>회원-내국인</td>\n",
       "      <td>F</td>\n",
       "      <td>30대</td>\n",
       "      <td>32</td>\n",
       "    </tr>\n",
       "  </tbody>\n",
       "</table>\n",
       "</div>"
      ],
      "text/plain": [
       "         가입일자   사용자코드 성별 연령대코드  신규가입자수\n",
       "0  2018-01-01  회원-내국인  F  ~10대       7\n",
       "1  2018-01-01  회원-내국인  M  ~10대       9\n",
       "2  2018-01-01  회원-내국인  F   20대      58\n",
       "3  2018-01-01  회원-내국인  M   20대      81\n",
       "4  2018-01-01  회원-내국인  F   30대      32"
      ]
     },
     "execution_count": 180,
     "metadata": {},
     "output_type": "execute_result"
    }
   ],
   "source": [
    "df_2018_1['가입일자'] = df_2018_1['가입일자'].str.strip(\"'\")\n",
    "df_2018_1['사용자코드'] = df_2018_1['사용자코드'].str.strip(\"'\")\n",
    "df_2018_1['성별'] = df_2018_1['성별'].str.strip(\"'\")\n",
    "df_2018_1['연령대코드'] = df_2018_1['연령대코드'].str.strip(\"'\")\n",
    "df_2018_1.head()"
   ]
  },
  {
   "cell_type": "code",
   "execution_count": 181,
   "metadata": {
    "scrolled": true
   },
   "outputs": [
    {
     "data": {
      "text/plain": [
       "<AxesSubplot:>"
      ]
     },
     "execution_count": 181,
     "metadata": {},
     "output_type": "execute_result"
    },
    {
     "data": {
      "image/png": "[encoded data removed]",
      "text/plain": [
       "<Figure size 576x576 with 2 Axes>"
      ]
     },
     "metadata": {
      "needs_background": "light"
     },
     "output_type": "display_data"
    }
   ],
   "source": [
    "msno.matrix(df=df_2018.iloc[:,:], figsize=(8, 8), color=(0.8, 0.5, 0.2))"
   ]
  },
  {
   "cell_type": "code",
   "execution_count": 182,
   "metadata": {
    "scrolled": true
   },
   "outputs": [
    {
     "data": {
      "text/plain": [
       "가입일자      0\n",
       "사용자코드     0\n",
       "성별        0\n",
       "연령대코드     0\n",
       "신규가입자수    0\n",
       "dtype: int64"
      ]
     },
     "execution_count": 182,
     "metadata": {},
     "output_type": "execute_result"
    }
   ],
   "source": [
    "df_2018_1.isnull().sum()"
   ]
  },
  {
   "cell_type": "code",
   "execution_count": 183,
   "metadata": {
    "scrolled": false
   },
   "outputs": [
    {
     "name": "stdout",
     "output_type": "stream",
     "text": [
      "column:    가입일자   \t Percent of NaN value: 0.00\n",
      "column:   사용자코드   \t Percent of NaN value: 0.00\n",
      "column:     성별    \t Percent of NaN value: 0.00\n",
      "column:   연령대코드   \t Percent of NaN value: 0.00\n",
      "column:   신규가입자수  \t Percent of NaN value: 0.00\n"
     ]
    }
   ],
   "source": [
    "for col in df_2018_1.columns:\n",
    "    msg = 'column: {:^10}\\t Percent of NaN value: {:.2f}'.format(col, 100 * (df_2018_1[col].isnull().sum() / len(df_2018_1[col])))\n",
    "    print(msg)"
   ]
  },
  {
   "cell_type": "code",
   "execution_count": 184,
   "metadata": {
    "scrolled": true
   },
   "outputs": [
    {
     "data": {
      "text/html": [
       "<div>\n",
       "<style scoped>\n",
       "    .dataframe tbody tr th:only-of-type {\n",
       "        vertical-align: middle;\n",
       "    }\n",
       "\n",
       "    .dataframe tbody tr th {\n",
       "        vertical-align: top;\n",
       "    }\n",
       "\n",
       "    .dataframe thead th {\n",
       "        text-align: right;\n",
       "    }\n",
       "</style>\n",
       "<table border=\"1\" class=\"dataframe\">\n",
       "  <thead>\n",
       "    <tr style=\"text-align: right;\">\n",
       "      <th></th>\n",
       "      <th>가입일자</th>\n",
       "      <th>사용자코드</th>\n",
       "      <th>성별</th>\n",
       "      <th>연령대코드</th>\n",
       "      <th>신규가입자수</th>\n",
       "      <th>year</th>\n",
       "      <th>month</th>\n",
       "      <th>Day of the week</th>\n",
       "    </tr>\n",
       "  </thead>\n",
       "  <tbody>\n",
       "    <tr>\n",
       "      <th>0</th>\n",
       "      <td>2018-01-01</td>\n",
       "      <td>회원-내국인</td>\n",
       "      <td>F</td>\n",
       "      <td>~10대</td>\n",
       "      <td>7</td>\n",
       "      <td>2018</td>\n",
       "      <td>1</td>\n",
       "      <td>0</td>\n",
       "    </tr>\n",
       "    <tr>\n",
       "      <th>1</th>\n",
       "      <td>2018-01-01</td>\n",
       "      <td>회원-내국인</td>\n",
       "      <td>M</td>\n",
       "      <td>~10대</td>\n",
       "      <td>9</td>\n",
       "      <td>2018</td>\n",
       "      <td>1</td>\n",
       "      <td>0</td>\n",
       "    </tr>\n",
       "    <tr>\n",
       "      <th>2</th>\n",
       "      <td>2018-01-01</td>\n",
       "      <td>회원-내국인</td>\n",
       "      <td>F</td>\n",
       "      <td>20대</td>\n",
       "      <td>58</td>\n",
       "      <td>2018</td>\n",
       "      <td>1</td>\n",
       "      <td>0</td>\n",
       "    </tr>\n",
       "    <tr>\n",
       "      <th>3</th>\n",
       "      <td>2018-01-01</td>\n",
       "      <td>회원-내국인</td>\n",
       "      <td>M</td>\n",
       "      <td>20대</td>\n",
       "      <td>81</td>\n",
       "      <td>2018</td>\n",
       "      <td>1</td>\n",
       "      <td>0</td>\n",
       "    </tr>\n",
       "    <tr>\n",
       "      <th>4</th>\n",
       "      <td>2018-01-01</td>\n",
       "      <td>회원-내국인</td>\n",
       "      <td>F</td>\n",
       "      <td>30대</td>\n",
       "      <td>32</td>\n",
       "      <td>2018</td>\n",
       "      <td>1</td>\n",
       "      <td>0</td>\n",
       "    </tr>\n",
       "  </tbody>\n",
       "</table>\n",
       "</div>"
      ],
      "text/plain": [
       "        가입일자   사용자코드 성별 연령대코드  신규가입자수  year  month  Day of the week\n",
       "0 2018-01-01  회원-내국인  F  ~10대       7  2018      1                0\n",
       "1 2018-01-01  회원-내국인  M  ~10대       9  2018      1                0\n",
       "2 2018-01-01  회원-내국인  F   20대      58  2018      1                0\n",
       "3 2018-01-01  회원-내국인  M   20대      81  2018      1                0\n",
       "4 2018-01-01  회원-내국인  F   30대      32  2018      1                0"
      ]
     },
     "execution_count": 184,
     "metadata": {},
     "output_type": "execute_result"
    }
   ],
   "source": [
    "df_2018_1['가입일자'] = pd.to_datetime(df_2018_1['가입일자'], infer_datetime_format=True)\n",
    "df_2018_1['year'] = df_2018_1['가입일자'].dt.year\n",
    "df_2018_1['month'] = df_2018_1['가입일자'].dt.month\n",
    "df_2018_1['Day of the week'] = df_2018_1['가입일자'].dt.weekday\n",
    "df_2018_1.head()"
   ]
  },
  {
   "cell_type": "code",
   "execution_count": 185,
   "metadata": {},
   "outputs": [
    {
     "data": {
      "text/plain": [
       "array(['~10대', '20대', '30대', '40대', '50대', '60대', '70대~'], dtype=object)"
      ]
     },
     "execution_count": 185,
     "metadata": {},
     "output_type": "execute_result"
    }
   ],
   "source": [
    "df_2018_1['연령대코드'].unique()"
   ]
  },
  {
   "cell_type": "code",
   "execution_count": 186,
   "metadata": {
    "scrolled": true
   },
   "outputs": [
    {
     "data": {
      "text/plain": [
       "<AxesSubplot:xlabel='month'>"
      ]
     },
     "execution_count": 186,
     "metadata": {},
     "output_type": "execute_result"
    },
    {
     "data": {
      "image/png": "[encoded data removed]",
      "text/plain": [
       "<Figure size 504x504 with 1 Axes>"
      ]
     },
     "metadata": {
      "needs_background": "light"
     },
     "output_type": "display_data"
    }
   ],
   "source": [
    "figure, ax = plt.subplots(1, 1, figsize=(7, 7))\n",
    "df_2018_1[['month','신규가입자수']].groupby(['month'], as_index=True).sum().sort_values(by='month', ascending=True).plot.bar(ax=ax)"
   ]
  },
  {
   "cell_type": "code",
   "execution_count": 187,
   "metadata": {
    "scrolled": true
   },
   "outputs": [
    {
     "data": {
      "text/html": [
       "<div>\n",
       "<style scoped>\n",
       "    .dataframe tbody tr th:only-of-type {\n",
       "        vertical-align: middle;\n",
       "    }\n",
       "\n",
       "    .dataframe tbody tr th {\n",
       "        vertical-align: top;\n",
       "    }\n",
       "\n",
       "    .dataframe thead th {\n",
       "        text-align: right;\n",
       "    }\n",
       "</style>\n",
       "<table border=\"1\" class=\"dataframe\">\n",
       "  <thead>\n",
       "    <tr style=\"text-align: right;\">\n",
       "      <th></th>\n",
       "      <th>가입일자</th>\n",
       "      <th>사용자코드</th>\n",
       "      <th>연령대코드</th>\n",
       "      <th>성별</th>\n",
       "      <th>가입 수</th>\n",
       "    </tr>\n",
       "  </thead>\n",
       "  <tbody>\n",
       "    <tr>\n",
       "      <th>0</th>\n",
       "      <td>2018-07-20</td>\n",
       "      <td>회원-내국인</td>\n",
       "      <td>AGE_001</td>\n",
       "      <td>NaN</td>\n",
       "      <td>221</td>\n",
       "    </tr>\n",
       "    <tr>\n",
       "      <th>1</th>\n",
       "      <td>2018-07-20</td>\n",
       "      <td>회원-내국인</td>\n",
       "      <td>AGE_002</td>\n",
       "      <td>NaN</td>\n",
       "      <td>1189</td>\n",
       "    </tr>\n",
       "    <tr>\n",
       "      <th>2</th>\n",
       "      <td>2018-07-20</td>\n",
       "      <td>회원-내국인</td>\n",
       "      <td>AGE_003</td>\n",
       "      <td>NaN</td>\n",
       "      <td>348</td>\n",
       "    </tr>\n",
       "    <tr>\n",
       "      <th>3</th>\n",
       "      <td>2018-07-20</td>\n",
       "      <td>회원-내국인</td>\n",
       "      <td>AGE_004</td>\n",
       "      <td>NaN</td>\n",
       "      <td>201</td>\n",
       "    </tr>\n",
       "    <tr>\n",
       "      <th>4</th>\n",
       "      <td>2018-07-20</td>\n",
       "      <td>회원-내국인</td>\n",
       "      <td>AGE_005</td>\n",
       "      <td>NaN</td>\n",
       "      <td>91</td>\n",
       "    </tr>\n",
       "  </tbody>\n",
       "</table>\n",
       "</div>"
      ],
      "text/plain": [
       "        가입일자   사용자코드    연령대코드  성별  가입 수\n",
       "0 2018-07-20  회원-내국인  AGE_001 NaN   221\n",
       "1 2018-07-20  회원-내국인  AGE_002 NaN  1189\n",
       "2 2018-07-20  회원-내국인  AGE_003 NaN   348\n",
       "3 2018-07-20  회원-내국인  AGE_004 NaN   201\n",
       "4 2018-07-20  회원-내국인  AGE_005 NaN    91"
      ]
     },
     "execution_count": 187,
     "metadata": {},
     "output_type": "execute_result"
    }
   ],
   "source": [
    "df_2018_2 = pd.read_excel(f'{directory}서울특별시 공공자전거 신규가입자 정보(일별)_20180720_20181231.xlsx')\n",
    "df_2018_2.head()"
   ]
  },
  {
   "cell_type": "code",
   "execution_count": 188,
   "metadata": {
    "scrolled": true
   },
   "outputs": [
    {
     "data": {
      "text/html": [
       "<div>\n",
       "<style scoped>\n",
       "    .dataframe tbody tr th:only-of-type {\n",
       "        vertical-align: middle;\n",
       "    }\n",
       "\n",
       "    .dataframe tbody tr th {\n",
       "        vertical-align: top;\n",
       "    }\n",
       "\n",
       "    .dataframe thead th {\n",
       "        text-align: right;\n",
       "    }\n",
       "</style>\n",
       "<table border=\"1\" class=\"dataframe\">\n",
       "  <thead>\n",
       "    <tr style=\"text-align: right;\">\n",
       "      <th></th>\n",
       "      <th>가입일자</th>\n",
       "      <th>사용자코드</th>\n",
       "      <th>연령대코드</th>\n",
       "      <th>성별</th>\n",
       "      <th>신규가입자수</th>\n",
       "    </tr>\n",
       "  </thead>\n",
       "  <tbody>\n",
       "    <tr>\n",
       "      <th>0</th>\n",
       "      <td>2018-07-20</td>\n",
       "      <td>회원-내국인</td>\n",
       "      <td>AGE_001</td>\n",
       "      <td>NaN</td>\n",
       "      <td>221</td>\n",
       "    </tr>\n",
       "    <tr>\n",
       "      <th>1</th>\n",
       "      <td>2018-07-20</td>\n",
       "      <td>회원-내국인</td>\n",
       "      <td>AGE_002</td>\n",
       "      <td>NaN</td>\n",
       "      <td>1189</td>\n",
       "    </tr>\n",
       "    <tr>\n",
       "      <th>2</th>\n",
       "      <td>2018-07-20</td>\n",
       "      <td>회원-내국인</td>\n",
       "      <td>AGE_003</td>\n",
       "      <td>NaN</td>\n",
       "      <td>348</td>\n",
       "    </tr>\n",
       "    <tr>\n",
       "      <th>3</th>\n",
       "      <td>2018-07-20</td>\n",
       "      <td>회원-내국인</td>\n",
       "      <td>AGE_004</td>\n",
       "      <td>NaN</td>\n",
       "      <td>201</td>\n",
       "    </tr>\n",
       "    <tr>\n",
       "      <th>4</th>\n",
       "      <td>2018-07-20</td>\n",
       "      <td>회원-내국인</td>\n",
       "      <td>AGE_005</td>\n",
       "      <td>NaN</td>\n",
       "      <td>91</td>\n",
       "    </tr>\n",
       "  </tbody>\n",
       "</table>\n",
       "</div>"
      ],
      "text/plain": [
       "        가입일자   사용자코드    연령대코드  성별  신규가입자수\n",
       "0 2018-07-20  회원-내국인  AGE_001 NaN     221\n",
       "1 2018-07-20  회원-내국인  AGE_002 NaN    1189\n",
       "2 2018-07-20  회원-내국인  AGE_003 NaN     348\n",
       "3 2018-07-20  회원-내국인  AGE_004 NaN     201\n",
       "4 2018-07-20  회원-내국인  AGE_005 NaN      91"
      ]
     },
     "execution_count": 188,
     "metadata": {},
     "output_type": "execute_result"
    }
   ],
   "source": [
    "df_2018_2.rename(columns={'가입 수':'신규가입자수'}, inplace = True)\n",
    "df_2018_2.head()"
   ]
  },
  {
   "cell_type": "markdown",
   "metadata": {},
   "source": [
    "- AGE_001 : 10대\n",
    "- AGE_002 : 20대\n",
    "- AGE_003 : 30대\n",
    "- AGE_004 : 40대\n",
    "- AGE_005 : 50대\n",
    "- AGE_006 : 60대\n",
    "- AGE_007 : 70대\n",
    "- AGE_008 : 비회원, 외국인, 그 이상 등"
   ]
  },
  {
   "cell_type": "code",
   "execution_count": 189,
   "metadata": {},
   "outputs": [
    {
     "data": {
      "text/plain": [
       "array(['AGE_001', 'AGE_002', 'AGE_003', 'AGE_004', 'AGE_005', 'AGE_006',\n",
       "       'AGE_007'], dtype=object)"
      ]
     },
     "execution_count": 189,
     "metadata": {},
     "output_type": "execute_result"
    }
   ],
   "source": [
    "df_2018_2['연령대코드'].unique()"
   ]
  },
  {
   "cell_type": "code",
   "execution_count": 190,
   "metadata": {},
   "outputs": [
    {
     "data": {
      "text/html": [
       "<div>\n",
       "<style scoped>\n",
       "    .dataframe tbody tr th:only-of-type {\n",
       "        vertical-align: middle;\n",
       "    }\n",
       "\n",
       "    .dataframe tbody tr th {\n",
       "        vertical-align: top;\n",
       "    }\n",
       "\n",
       "    .dataframe thead th {\n",
       "        text-align: right;\n",
       "    }\n",
       "</style>\n",
       "<table border=\"1\" class=\"dataframe\">\n",
       "  <thead>\n",
       "    <tr style=\"text-align: right;\">\n",
       "      <th></th>\n",
       "      <th>가입일자</th>\n",
       "      <th>사용자코드</th>\n",
       "      <th>연령대코드</th>\n",
       "      <th>성별</th>\n",
       "      <th>신규가입자수</th>\n",
       "      <th>year</th>\n",
       "      <th>month</th>\n",
       "      <th>Day of the week</th>\n",
       "    </tr>\n",
       "  </thead>\n",
       "  <tbody>\n",
       "    <tr>\n",
       "      <th>0</th>\n",
       "      <td>2018-07-20</td>\n",
       "      <td>회원-내국인</td>\n",
       "      <td>AGE_001</td>\n",
       "      <td>NaN</td>\n",
       "      <td>221</td>\n",
       "      <td>2018</td>\n",
       "      <td>7</td>\n",
       "      <td>4</td>\n",
       "    </tr>\n",
       "    <tr>\n",
       "      <th>1</th>\n",
       "      <td>2018-07-20</td>\n",
       "      <td>회원-내국인</td>\n",
       "      <td>AGE_002</td>\n",
       "      <td>NaN</td>\n",
       "      <td>1189</td>\n",
       "      <td>2018</td>\n",
       "      <td>7</td>\n",
       "      <td>4</td>\n",
       "    </tr>\n",
       "    <tr>\n",
       "      <th>2</th>\n",
       "      <td>2018-07-20</td>\n",
       "      <td>회원-내국인</td>\n",
       "      <td>AGE_003</td>\n",
       "      <td>NaN</td>\n",
       "      <td>348</td>\n",
       "      <td>2018</td>\n",
       "      <td>7</td>\n",
       "      <td>4</td>\n",
       "    </tr>\n",
       "    <tr>\n",
       "      <th>3</th>\n",
       "      <td>2018-07-20</td>\n",
       "      <td>회원-내국인</td>\n",
       "      <td>AGE_004</td>\n",
       "      <td>NaN</td>\n",
       "      <td>201</td>\n",
       "      <td>2018</td>\n",
       "      <td>7</td>\n",
       "      <td>4</td>\n",
       "    </tr>\n",
       "    <tr>\n",
       "      <th>4</th>\n",
       "      <td>2018-07-20</td>\n",
       "      <td>회원-내국인</td>\n",
       "      <td>AGE_005</td>\n",
       "      <td>NaN</td>\n",
       "      <td>91</td>\n",
       "      <td>2018</td>\n",
       "      <td>7</td>\n",
       "      <td>4</td>\n",
       "    </tr>\n",
       "  </tbody>\n",
       "</table>\n",
       "</div>"
      ],
      "text/plain": [
       "        가입일자   사용자코드    연령대코드  성별  신규가입자수  year  month  Day of the week\n",
       "0 2018-07-20  회원-내국인  AGE_001 NaN     221  2018      7                4\n",
       "1 2018-07-20  회원-내국인  AGE_002 NaN    1189  2018      7                4\n",
       "2 2018-07-20  회원-내국인  AGE_003 NaN     348  2018      7                4\n",
       "3 2018-07-20  회원-내국인  AGE_004 NaN     201  2018      7                4\n",
       "4 2018-07-20  회원-내국인  AGE_005 NaN      91  2018      7                4"
      ]
     },
     "execution_count": 190,
     "metadata": {},
     "output_type": "execute_result"
    }
   ],
   "source": [
    "df_2018_2['가입일자'] = pd.to_datetime(df_2018_2['가입일자'], infer_datetime_format=True)\n",
    "df_2018_2['year'] = df_2018_2['가입일자'].dt.year\n",
    "df_2018_2['month'] = df_2018_2['가입일자'].dt.month\n",
    "df_2018_2['Day of the week'] = df_2018_2['가입일자'].dt.weekday\n",
    "df_2018_2.head()"
   ]
  },
  {
   "cell_type": "code",
   "execution_count": 191,
   "metadata": {
    "scrolled": false
   },
   "outputs": [
    {
     "data": {
      "text/html": [
       "<div>\n",
       "<style scoped>\n",
       "    .dataframe tbody tr th:only-of-type {\n",
       "        vertical-align: middle;\n",
       "    }\n",
       "\n",
       "    .dataframe tbody tr th {\n",
       "        vertical-align: top;\n",
       "    }\n",
       "\n",
       "    .dataframe thead th {\n",
       "        text-align: right;\n",
       "    }\n",
       "</style>\n",
       "<table border=\"1\" class=\"dataframe\">\n",
       "  <thead>\n",
       "    <tr style=\"text-align: right;\">\n",
       "      <th></th>\n",
       "      <th>가입일자</th>\n",
       "      <th>사용자코드</th>\n",
       "      <th>성별</th>\n",
       "      <th>연령대코드</th>\n",
       "      <th>신규가입자수</th>\n",
       "      <th>year</th>\n",
       "      <th>month</th>\n",
       "      <th>Day of the week</th>\n",
       "    </tr>\n",
       "  </thead>\n",
       "  <tbody>\n",
       "    <tr>\n",
       "      <th>0</th>\n",
       "      <td>2018-01-01</td>\n",
       "      <td>회원-내국인</td>\n",
       "      <td>F</td>\n",
       "      <td>~10대</td>\n",
       "      <td>7</td>\n",
       "      <td>2018</td>\n",
       "      <td>1</td>\n",
       "      <td>0</td>\n",
       "    </tr>\n",
       "    <tr>\n",
       "      <th>1</th>\n",
       "      <td>2018-01-01</td>\n",
       "      <td>회원-내국인</td>\n",
       "      <td>M</td>\n",
       "      <td>~10대</td>\n",
       "      <td>9</td>\n",
       "      <td>2018</td>\n",
       "      <td>1</td>\n",
       "      <td>0</td>\n",
       "    </tr>\n",
       "    <tr>\n",
       "      <th>2</th>\n",
       "      <td>2018-01-01</td>\n",
       "      <td>회원-내국인</td>\n",
       "      <td>F</td>\n",
       "      <td>20대</td>\n",
       "      <td>58</td>\n",
       "      <td>2018</td>\n",
       "      <td>1</td>\n",
       "      <td>0</td>\n",
       "    </tr>\n",
       "    <tr>\n",
       "      <th>3</th>\n",
       "      <td>2018-01-01</td>\n",
       "      <td>회원-내국인</td>\n",
       "      <td>M</td>\n",
       "      <td>20대</td>\n",
       "      <td>81</td>\n",
       "      <td>2018</td>\n",
       "      <td>1</td>\n",
       "      <td>0</td>\n",
       "    </tr>\n",
       "    <tr>\n",
       "      <th>4</th>\n",
       "      <td>2018-01-01</td>\n",
       "      <td>회원-내국인</td>\n",
       "      <td>F</td>\n",
       "      <td>30대</td>\n",
       "      <td>32</td>\n",
       "      <td>2018</td>\n",
       "      <td>1</td>\n",
       "      <td>0</td>\n",
       "    </tr>\n",
       "  </tbody>\n",
       "</table>\n",
       "</div>"
      ],
      "text/plain": [
       "        가입일자   사용자코드 성별 연령대코드  신규가입자수  year  month  Day of the week\n",
       "0 2018-01-01  회원-내국인  F  ~10대       7  2018      1                0\n",
       "1 2018-01-01  회원-내국인  M  ~10대       9  2018      1                0\n",
       "2 2018-01-01  회원-내국인  F   20대      58  2018      1                0\n",
       "3 2018-01-01  회원-내국인  M   20대      81  2018      1                0\n",
       "4 2018-01-01  회원-내국인  F   30대      32  2018      1                0"
      ]
     },
     "execution_count": 191,
     "metadata": {},
     "output_type": "execute_result"
    }
   ],
   "source": [
    "df_2018 = pd.concat([df_2018_1, df_2018_2], axis = 0)\n",
    "df_2018.head()"
   ]
  },
  {
   "cell_type": "code",
   "execution_count": 192,
   "metadata": {},
   "outputs": [
    {
     "data": {
      "text/plain": [
       "array(['회원-내국인'], dtype=object)"
      ]
     },
     "execution_count": 192,
     "metadata": {},
     "output_type": "execute_result"
    }
   ],
   "source": [
    "df_2018['사용자코드'].unique()"
   ]
  },
  {
   "cell_type": "code",
   "execution_count": 193,
   "metadata": {
    "scrolled": true
   },
   "outputs": [
    {
     "data": {
      "text/html": [
       "<div>\n",
       "<style scoped>\n",
       "    .dataframe tbody tr th:only-of-type {\n",
       "        vertical-align: middle;\n",
       "    }\n",
       "\n",
       "    .dataframe tbody tr th {\n",
       "        vertical-align: top;\n",
       "    }\n",
       "\n",
       "    .dataframe thead th {\n",
       "        text-align: right;\n",
       "    }\n",
       "</style>\n",
       "<table border=\"1\" class=\"dataframe\">\n",
       "  <thead>\n",
       "    <tr style=\"text-align: right;\">\n",
       "      <th></th>\n",
       "      <th>가입일자</th>\n",
       "      <th>사용자코드</th>\n",
       "      <th>성별</th>\n",
       "      <th>연령대코드</th>\n",
       "      <th>신규가입자수</th>\n",
       "      <th>year</th>\n",
       "      <th>month</th>\n",
       "      <th>Day of the week</th>\n",
       "    </tr>\n",
       "  </thead>\n",
       "  <tbody>\n",
       "  </tbody>\n",
       "</table>\n",
       "</div>"
      ],
      "text/plain": [
       "Empty DataFrame\n",
       "Columns: [가입일자, 사용자코드, 성별, 연령대코드, 신규가입자수, year, month, Day of the week]\n",
       "Index: []"
      ]
     },
     "execution_count": 193,
     "metadata": {},
     "output_type": "execute_result"
    }
   ],
   "source": [
    "df_2018[df_2018['연령대코드']=='AGE_008']"
   ]
  },
  {
   "cell_type": "markdown",
   "metadata": {},
   "source": [
    "- AGE_008(비회원, 외국인, 그 이상 등)에 대한 데이터는 2018년에 없음"
   ]
  },
  {
   "cell_type": "code",
   "execution_count": 194,
   "metadata": {},
   "outputs": [
    {
     "data": {
      "text/plain": [
       "<AxesSubplot:xlabel='month'>"
      ]
     },
     "execution_count": 194,
     "metadata": {},
     "output_type": "execute_result"
    },
    {
     "data": {
      "image/png": "[encoded data removed]",
      "text/plain": [
       "<Figure size 504x504 with 1 Axes>"
      ]
     },
     "metadata": {
      "needs_background": "light"
     },
     "output_type": "display_data"
    }
   ],
   "source": [
    "figure, ax = plt.subplots(1, 1, figsize=(7, 7))\n",
    "df_2018[['month','신규가입자수']].groupby(['month'], as_index=True).sum().sort_values(by='month', ascending=True).plot.bar(ax=ax)"
   ]
  },
  {
   "cell_type": "code",
   "execution_count": 195,
   "metadata": {
    "scrolled": true
   },
   "outputs": [
    {
     "data": {
      "text/html": [
       "<div>\n",
       "<style scoped>\n",
       "    .dataframe tbody tr th:only-of-type {\n",
       "        vertical-align: middle;\n",
       "    }\n",
       "\n",
       "    .dataframe tbody tr th {\n",
       "        vertical-align: top;\n",
       "    }\n",
       "\n",
       "    .dataframe thead th {\n",
       "        text-align: right;\n",
       "    }\n",
       "</style>\n",
       "<table border=\"1\" class=\"dataframe\">\n",
       "  <thead>\n",
       "    <tr style=\"text-align: right;\">\n",
       "      <th></th>\n",
       "      <th>가입일자</th>\n",
       "      <th>사용자코드</th>\n",
       "      <th>연령대코드</th>\n",
       "      <th>성별</th>\n",
       "      <th>가입 수</th>\n",
       "    </tr>\n",
       "  </thead>\n",
       "  <tbody>\n",
       "    <tr>\n",
       "      <th>0</th>\n",
       "      <td>2019-01-01</td>\n",
       "      <td>회원-내국인</td>\n",
       "      <td>AGE_001</td>\n",
       "      <td>NaN</td>\n",
       "      <td>64</td>\n",
       "    </tr>\n",
       "    <tr>\n",
       "      <th>1</th>\n",
       "      <td>2019-01-01</td>\n",
       "      <td>회원-내국인</td>\n",
       "      <td>AGE_002</td>\n",
       "      <td>NaN</td>\n",
       "      <td>196</td>\n",
       "    </tr>\n",
       "    <tr>\n",
       "      <th>2</th>\n",
       "      <td>2019-01-01</td>\n",
       "      <td>회원-내국인</td>\n",
       "      <td>AGE_003</td>\n",
       "      <td>NaN</td>\n",
       "      <td>51</td>\n",
       "    </tr>\n",
       "    <tr>\n",
       "      <th>3</th>\n",
       "      <td>2019-01-01</td>\n",
       "      <td>회원-내국인</td>\n",
       "      <td>AGE_004</td>\n",
       "      <td>NaN</td>\n",
       "      <td>37</td>\n",
       "    </tr>\n",
       "    <tr>\n",
       "      <th>4</th>\n",
       "      <td>2019-01-01</td>\n",
       "      <td>회원-내국인</td>\n",
       "      <td>AGE_005</td>\n",
       "      <td>NaN</td>\n",
       "      <td>17</td>\n",
       "    </tr>\n",
       "  </tbody>\n",
       "</table>\n",
       "</div>"
      ],
      "text/plain": [
       "        가입일자   사용자코드    연령대코드   성별  가입 수\n",
       "0 2019-01-01  회원-내국인  AGE_001  NaN    64\n",
       "1 2019-01-01  회원-내국인  AGE_002  NaN   196\n",
       "2 2019-01-01  회원-내국인  AGE_003  NaN    51\n",
       "3 2019-01-01  회원-내국인  AGE_004  NaN    37\n",
       "4 2019-01-01  회원-내국인  AGE_005  NaN    17"
      ]
     },
     "execution_count": 195,
     "metadata": {},
     "output_type": "execute_result"
    }
   ],
   "source": [
    "df_2019 = pd.read_excel(f'{directory}서울특별시 공공자전거 신규가입자 정보(일별)_20190101_20191130.xlsx')\n",
    "df_2019.head()"
   ]
  },
  {
   "cell_type": "code",
   "execution_count": 196,
   "metadata": {},
   "outputs": [
    {
     "data": {
      "text/html": [
       "<div>\n",
       "<style scoped>\n",
       "    .dataframe tbody tr th:only-of-type {\n",
       "        vertical-align: middle;\n",
       "    }\n",
       "\n",
       "    .dataframe tbody tr th {\n",
       "        vertical-align: top;\n",
       "    }\n",
       "\n",
       "    .dataframe thead th {\n",
       "        text-align: right;\n",
       "    }\n",
       "</style>\n",
       "<table border=\"1\" class=\"dataframe\">\n",
       "  <thead>\n",
       "    <tr style=\"text-align: right;\">\n",
       "      <th></th>\n",
       "      <th>가입일자</th>\n",
       "      <th>사용자코드</th>\n",
       "      <th>연령대코드</th>\n",
       "      <th>성별</th>\n",
       "      <th>신규가입자수</th>\n",
       "    </tr>\n",
       "  </thead>\n",
       "  <tbody>\n",
       "    <tr>\n",
       "      <th>0</th>\n",
       "      <td>2019-01-01</td>\n",
       "      <td>회원-내국인</td>\n",
       "      <td>AGE_001</td>\n",
       "      <td>NaN</td>\n",
       "      <td>64</td>\n",
       "    </tr>\n",
       "    <tr>\n",
       "      <th>1</th>\n",
       "      <td>2019-01-01</td>\n",
       "      <td>회원-내국인</td>\n",
       "      <td>AGE_002</td>\n",
       "      <td>NaN</td>\n",
       "      <td>196</td>\n",
       "    </tr>\n",
       "    <tr>\n",
       "      <th>2</th>\n",
       "      <td>2019-01-01</td>\n",
       "      <td>회원-내국인</td>\n",
       "      <td>AGE_003</td>\n",
       "      <td>NaN</td>\n",
       "      <td>51</td>\n",
       "    </tr>\n",
       "    <tr>\n",
       "      <th>3</th>\n",
       "      <td>2019-01-01</td>\n",
       "      <td>회원-내국인</td>\n",
       "      <td>AGE_004</td>\n",
       "      <td>NaN</td>\n",
       "      <td>37</td>\n",
       "    </tr>\n",
       "    <tr>\n",
       "      <th>4</th>\n",
       "      <td>2019-01-01</td>\n",
       "      <td>회원-내국인</td>\n",
       "      <td>AGE_005</td>\n",
       "      <td>NaN</td>\n",
       "      <td>17</td>\n",
       "    </tr>\n",
       "  </tbody>\n",
       "</table>\n",
       "</div>"
      ],
      "text/plain": [
       "        가입일자   사용자코드    연령대코드   성별  신규가입자수\n",
       "0 2019-01-01  회원-내국인  AGE_001  NaN      64\n",
       "1 2019-01-01  회원-내국인  AGE_002  NaN     196\n",
       "2 2019-01-01  회원-내국인  AGE_003  NaN      51\n",
       "3 2019-01-01  회원-내국인  AGE_004  NaN      37\n",
       "4 2019-01-01  회원-내국인  AGE_005  NaN      17"
      ]
     },
     "execution_count": 196,
     "metadata": {},
     "output_type": "execute_result"
    }
   ],
   "source": [
    "df_2019.rename(columns={'가입 수':'신규가입자수'}, inplace = True)\n",
    "df_2019.head()"
   ]
  },
  {
   "cell_type": "code",
   "execution_count": 197,
   "metadata": {},
   "outputs": [
    {
     "data": {
      "text/html": [
       "<div>\n",
       "<style scoped>\n",
       "    .dataframe tbody tr th:only-of-type {\n",
       "        vertical-align: middle;\n",
       "    }\n",
       "\n",
       "    .dataframe tbody tr th {\n",
       "        vertical-align: top;\n",
       "    }\n",
       "\n",
       "    .dataframe thead th {\n",
       "        text-align: right;\n",
       "    }\n",
       "</style>\n",
       "<table border=\"1\" class=\"dataframe\">\n",
       "  <thead>\n",
       "    <tr style=\"text-align: right;\">\n",
       "      <th></th>\n",
       "      <th>가입일자</th>\n",
       "      <th>사용자코드</th>\n",
       "      <th>연령대코드</th>\n",
       "      <th>성별</th>\n",
       "      <th>신규가입자수</th>\n",
       "      <th>year</th>\n",
       "      <th>month</th>\n",
       "      <th>Day of the week</th>\n",
       "    </tr>\n",
       "  </thead>\n",
       "  <tbody>\n",
       "    <tr>\n",
       "      <th>0</th>\n",
       "      <td>2019-01-01</td>\n",
       "      <td>회원-내국인</td>\n",
       "      <td>AGE_001</td>\n",
       "      <td>NaN</td>\n",
       "      <td>64</td>\n",
       "      <td>2019</td>\n",
       "      <td>1</td>\n",
       "      <td>1</td>\n",
       "    </tr>\n",
       "    <tr>\n",
       "      <th>1</th>\n",
       "      <td>2019-01-01</td>\n",
       "      <td>회원-내국인</td>\n",
       "      <td>AGE_002</td>\n",
       "      <td>NaN</td>\n",
       "      <td>196</td>\n",
       "      <td>2019</td>\n",
       "      <td>1</td>\n",
       "      <td>1</td>\n",
       "    </tr>\n",
       "    <tr>\n",
       "      <th>2</th>\n",
       "      <td>2019-01-01</td>\n",
       "      <td>회원-내국인</td>\n",
       "      <td>AGE_003</td>\n",
       "      <td>NaN</td>\n",
       "      <td>51</td>\n",
       "      <td>2019</td>\n",
       "      <td>1</td>\n",
       "      <td>1</td>\n",
       "    </tr>\n",
       "    <tr>\n",
       "      <th>3</th>\n",
       "      <td>2019-01-01</td>\n",
       "      <td>회원-내국인</td>\n",
       "      <td>AGE_004</td>\n",
       "      <td>NaN</td>\n",
       "      <td>37</td>\n",
       "      <td>2019</td>\n",
       "      <td>1</td>\n",
       "      <td>1</td>\n",
       "    </tr>\n",
       "    <tr>\n",
       "      <th>4</th>\n",
       "      <td>2019-01-01</td>\n",
       "      <td>회원-내국인</td>\n",
       "      <td>AGE_005</td>\n",
       "      <td>NaN</td>\n",
       "      <td>17</td>\n",
       "      <td>2019</td>\n",
       "      <td>1</td>\n",
       "      <td>1</td>\n",
       "    </tr>\n",
       "  </tbody>\n",
       "</table>\n",
       "</div>"
      ],
      "text/plain": [
       "        가입일자   사용자코드    연령대코드   성별  신규가입자수  year  month  Day of the week\n",
       "0 2019-01-01  회원-내국인  AGE_001  NaN      64  2019      1                1\n",
       "1 2019-01-01  회원-내국인  AGE_002  NaN     196  2019      1                1\n",
       "2 2019-01-01  회원-내국인  AGE_003  NaN      51  2019      1                1\n",
       "3 2019-01-01  회원-내국인  AGE_004  NaN      37  2019      1                1\n",
       "4 2019-01-01  회원-내국인  AGE_005  NaN      17  2019      1                1"
      ]
     },
     "execution_count": 197,
     "metadata": {},
     "output_type": "execute_result"
    }
   ],
   "source": [
    "df_2019['가입일자'] = pd.to_datetime(df_2019['가입일자'], infer_datetime_format=True)\n",
    "df_2019['year'] = df_2019['가입일자'].dt.year\n",
    "df_2019['month'] = df_2019['가입일자'].dt.month\n",
    "df_2019['Day of the week'] = df_2019['가입일자'].dt.weekday\n",
    "df_2019.head()"
   ]
  },
  {
   "cell_type": "code",
   "execution_count": 198,
   "metadata": {},
   "outputs": [
    {
     "data": {
      "text/plain": [
       "<AxesSubplot:>"
      ]
     },
     "execution_count": 198,
     "metadata": {},
     "output_type": "execute_result"
    },
    {
     "data": {
      "image/png": "[encoded data removed]",
      "text/plain": [
       "<Figure size 576x576 with 2 Axes>"
      ]
     },
     "metadata": {
      "needs_background": "light"
     },
     "output_type": "display_data"
    }
   ],
   "source": [
    "msno.matrix(df=df_2019.iloc[:,:], figsize=(8, 8), color=(0.8, 0.5, 0.2))"
   ]
  },
  {
   "cell_type": "code",
   "execution_count": 199,
   "metadata": {
    "scrolled": true
   },
   "outputs": [
    {
     "name": "stdout",
     "output_type": "stream",
     "text": [
      "column:    가입일자   \t Percent of NaN value: 0.00\n",
      "column:   사용자코드   \t Percent of NaN value: 0.00\n",
      "column:   연령대코드   \t Percent of NaN value: 0.00\n",
      "column:     성별    \t Percent of NaN value: 83.73\n",
      "column:   신규가입자수  \t Percent of NaN value: 0.00\n",
      "column:    year   \t Percent of NaN value: 0.00\n",
      "column:   month   \t Percent of NaN value: 0.00\n",
      "column: Day of the week\t Percent of NaN value: 0.00\n"
     ]
    }
   ],
   "source": [
    "for col in df_2019.columns:\n",
    "    msg = 'column: {:^10}\\t Percent of NaN value: {:.2f}'.format(col, 100 * (df_2019[col].isnull().sum() / len(df_2019[col])))\n",
    "    print(msg)"
   ]
  },
  {
   "cell_type": "markdown",
   "metadata": {},
   "source": [
    "- 성별 결측치가 매우 많다"
   ]
  },
  {
   "cell_type": "code",
   "execution_count": 200,
   "metadata": {
    "scrolled": true
   },
   "outputs": [
    {
     "data": {
      "text/plain": [
       "<AxesSubplot:xlabel='month'>"
      ]
     },
     "execution_count": 200,
     "metadata": {},
     "output_type": "execute_result"
    },
    {
     "data": {
      "image/png": "[encoded data removed]",
      "text/plain": [
       "<Figure size 504x504 with 1 Axes>"
      ]
     },
     "metadata": {
      "needs_background": "light"
     },
     "output_type": "display_data"
    }
   ],
   "source": [
    "figure, ax = plt.subplots(1, 1, figsize=(7, 7))\n",
    "df_2019[['month','신규가입자수']].groupby(['month'], as_index=True).sum().sort_values(by='month', ascending=True).plot.bar(ax=ax)"
   ]
  },
  {
   "cell_type": "code",
   "execution_count": 201,
   "metadata": {
    "scrolled": true
   },
   "outputs": [
    {
     "data": {
      "text/html": [
       "<div>\n",
       "<style scoped>\n",
       "    .dataframe tbody tr th:only-of-type {\n",
       "        vertical-align: middle;\n",
       "    }\n",
       "\n",
       "    .dataframe tbody tr th {\n",
       "        vertical-align: top;\n",
       "    }\n",
       "\n",
       "    .dataframe thead th {\n",
       "        text-align: right;\n",
       "    }\n",
       "</style>\n",
       "<table border=\"1\" class=\"dataframe\">\n",
       "  <thead>\n",
       "    <tr style=\"text-align: right;\">\n",
       "      <th></th>\n",
       "      <th>가입일자</th>\n",
       "      <th>사용자코드</th>\n",
       "      <th>성별</th>\n",
       "      <th>연령대코드</th>\n",
       "      <th>신규가입자수</th>\n",
       "      <th>year</th>\n",
       "      <th>month</th>\n",
       "      <th>Day of the week</th>\n",
       "    </tr>\n",
       "  </thead>\n",
       "  <tbody>\n",
       "    <tr>\n",
       "      <th>0</th>\n",
       "      <td>2017-01-01</td>\n",
       "      <td>회원-내국인</td>\n",
       "      <td>F</td>\n",
       "      <td>~10대</td>\n",
       "      <td>3</td>\n",
       "      <td>2017</td>\n",
       "      <td>1</td>\n",
       "      <td>6</td>\n",
       "    </tr>\n",
       "    <tr>\n",
       "      <th>1</th>\n",
       "      <td>2017-01-01</td>\n",
       "      <td>회원-내국인</td>\n",
       "      <td>M</td>\n",
       "      <td>~10대</td>\n",
       "      <td>3</td>\n",
       "      <td>2017</td>\n",
       "      <td>1</td>\n",
       "      <td>6</td>\n",
       "    </tr>\n",
       "    <tr>\n",
       "      <th>2</th>\n",
       "      <td>2017-01-01</td>\n",
       "      <td>회원-내국인</td>\n",
       "      <td>F</td>\n",
       "      <td>20대</td>\n",
       "      <td>53</td>\n",
       "      <td>2017</td>\n",
       "      <td>1</td>\n",
       "      <td>6</td>\n",
       "    </tr>\n",
       "    <tr>\n",
       "      <th>3</th>\n",
       "      <td>2017-01-01</td>\n",
       "      <td>회원-내국인</td>\n",
       "      <td>M</td>\n",
       "      <td>20대</td>\n",
       "      <td>58</td>\n",
       "      <td>2017</td>\n",
       "      <td>1</td>\n",
       "      <td>6</td>\n",
       "    </tr>\n",
       "    <tr>\n",
       "      <th>4</th>\n",
       "      <td>2017-01-01</td>\n",
       "      <td>회원-내국인</td>\n",
       "      <td>F</td>\n",
       "      <td>30대</td>\n",
       "      <td>16</td>\n",
       "      <td>2017</td>\n",
       "      <td>1</td>\n",
       "      <td>6</td>\n",
       "    </tr>\n",
       "  </tbody>\n",
       "</table>\n",
       "</div>"
      ],
      "text/plain": [
       "        가입일자   사용자코드 성별 연령대코드  신규가입자수  year  month  Day of the week\n",
       "0 2017-01-01  회원-내국인  F  ~10대       3  2017      1                6\n",
       "1 2017-01-01  회원-내국인  M  ~10대       3  2017      1                6\n",
       "2 2017-01-01  회원-내국인  F   20대      53  2017      1                6\n",
       "3 2017-01-01  회원-내국인  M   20대      58  2017      1                6\n",
       "4 2017-01-01  회원-내국인  F   30대      16  2017      1                6"
      ]
     },
     "execution_count": 201,
     "metadata": {},
     "output_type": "execute_result"
    }
   ],
   "source": [
    "df_data = pd.concat([df_2017, df_2018_1, df_2018_2, df_2019], axis = 0)\n",
    "df_data.head()"
   ]
  },
  {
   "cell_type": "code",
   "execution_count": 202,
   "metadata": {
    "scrolled": true
   },
   "outputs": [
    {
     "data": {
      "image/png": "[encoded data removed]",
      "text/plain": [
       "<Figure size 2016x504 with 3 Axes>"
      ]
     },
     "metadata": {
      "needs_background": "light"
     },
     "output_type": "display_data"
    }
   ],
   "source": [
    "figure, ax = plt.subplots(1, 3, figsize=(28, 7))\n",
    "df_data[['year','신규가입자수']].groupby(['year'], as_index=True).sum().sort_values(by='year', ascending=True).plot.bar(ax=ax[0])\n",
    "ax[0].set_title('연도별 신규 가입자 추이')\n",
    "df_data[['month','신규가입자수']].groupby(['month'], as_index=True).sum().sort_values(by='month', ascending=True).plot.bar(ax=ax[1])\n",
    "ax[1].set_title('월별 신규 가입자 추이')\n",
    "df_data[['Day of the week','신규가입자수']].groupby(['Day of the week'], as_index=True).sum().sort_values(by='Day of the week', ascending=True).plot.bar(ax=ax[2])\n",
    "ax[2].set_title('요일별 신규 가입자 추이')\n",
    "\n",
    "plt.subplots_adjust(wspace=0.3)\n",
    "\n",
    "plt.show()"
   ]
  },
  {
   "cell_type": "markdown",
   "metadata": {},
   "source": [
    "- 숫자-요일 (0-월, 1-화, , , 6-일)\n",
    "- 해마다 신규 가입자 수가 증가하는 추세\n",
    "- 자전거 타기에 적합한 계절인 봄, 가을에 신규 가입자가 많음\n",
    "- 자전거 타기에 부적한한 계절인 한여름과, 겨울에  신규 가입자가 상대적으로 적음\n",
    "- 토요일(5), 일요일(6)에 가입자 수가 많고, 평일 내에서는 크게 차이가 없이 비슷함"
   ]
  },
  {
   "cell_type": "code",
   "execution_count": 203,
   "metadata": {},
   "outputs": [],
   "source": [
    "df_data['연령대코드'] = df_data['연령대코드'].map({'~10대': 'AGE_001', '20대': 'AGE_002', '30대': 'AGE_003', '40대': 'AGE_004', '50대': 'AGE_005', '60대': 'AGE_006', '70대~': 'AGE_007'})"
   ]
  },
  {
   "cell_type": "code",
   "execution_count": 204,
   "metadata": {},
   "outputs": [
    {
     "data": {
      "image/png": "[encoded data removed]",
      "text/plain": [
       "<Figure size 1008x504 with 1 Axes>"
      ]
     },
     "metadata": {
      "needs_background": "light"
     },
     "output_type": "display_data"
    }
   ],
   "source": [
    "figure, ax = plt.subplots(1, 1, figsize=(14, 7))\n",
    "sns.countplot(x=\"연령대코드\", data=df_data, ax=ax)\n",
    "plt.title(\"따릉이 연령별 가입자 수\")\n",
    "plt.show()"
   ]
  },
  {
   "cell_type": "markdown",
   "metadata": {},
   "source": [
    "- 연령별로 가입자 수가 어떻게 분포되어 있는지 확인해보니, 20 30 40 젊은 사람들이 따릉이를 많이 사용하는 것으로 보임\n",
    "- 시간의 흐름에 따라 연령별 가입자 누적 가입자 수가 어떻게 변해왔는지 확인해보고 싶음"
   ]
  }
 ],
 "metadata": {
  "kernelspec": {
   "display_name": "Python 3",
   "language": "python",
   "name": "python3"
  },
  "language_info": {
   "codemirror_mode": {
    "name": "ipython",
    "version": 3
   },
   "file_extension": ".py",
   "mimetype": "text/x-python",
   "name": "python",
   "nbconvert_exporter": "python",
   "pygments_lexer": "ipython3",
   "version": "3.8.5"
  }
 },
 "nbformat": 4,
 "nbformat_minor": 4
}
